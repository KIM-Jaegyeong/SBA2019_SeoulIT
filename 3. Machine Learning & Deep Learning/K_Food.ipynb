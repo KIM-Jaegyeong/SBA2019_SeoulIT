{
 "cells": [
  {
   "cell_type": "code",
   "execution_count": 32,
   "metadata": {
    "ExecuteTime": {
     "end_time": "2019-10-07T04:20:46.050724Z",
     "start_time": "2019-10-07T04:20:46.044865Z"
    }
   },
   "outputs": [],
   "source": [
    "from sklearn import model_selection\n",
    "from sklearn.model_selection import train_test_split\n",
    "from PIL import Image\n",
    "import os, glob\n",
    "import numpy as np"
   ]
  },
  {
   "cell_type": "markdown",
   "metadata": {},
   "source": [
    "## 데이터 불러오기"
   ]
  },
  {
   "cell_type": "code",
   "execution_count": 33,
   "metadata": {
    "ExecuteTime": {
     "end_time": "2019-10-07T04:20:46.992181Z",
     "start_time": "2019-10-07T04:20:46.988319Z"
    }
   },
   "outputs": [],
   "source": [
    "root_dir = 'C:/Users/301-1/Desktop/data/dummy/Python/MachineLearning/kfood/'"
   ]
  },
  {
   "cell_type": "markdown",
   "metadata": {},
   "source": [
    "## 카테고리 지정"
   ]
  },
  {
   "cell_type": "code",
   "execution_count": 50,
   "metadata": {
    "ExecuteTime": {
     "end_time": "2019-10-07T04:25:14.168007Z",
     "start_time": "2019-10-07T04:25:14.164125Z"
    }
   },
   "outputs": [],
   "source": [
    "categories = ['Chicken', 'Dolsotbab']"
   ]
  },
  {
   "cell_type": "code",
   "execution_count": 51,
   "metadata": {
    "ExecuteTime": {
     "end_time": "2019-10-07T04:25:14.783274Z",
     "start_time": "2019-10-07T04:25:14.779377Z"
    }
   },
   "outputs": [],
   "source": [
    "nb_classes = len(categories)"
   ]
  },
  {
   "cell_type": "markdown",
   "metadata": {},
   "source": [
    "## 이미지 크기 지정"
   ]
  },
  {
   "cell_type": "code",
   "execution_count": 52,
   "metadata": {
    "ExecuteTime": {
     "end_time": "2019-10-07T04:25:15.230531Z",
     "start_time": "2019-10-07T04:25:15.226637Z"
    }
   },
   "outputs": [],
   "source": [
    "image_width = 64\n",
    "image_height = 64"
   ]
  },
  {
   "cell_type": "markdown",
   "metadata": {},
   "source": [
    "## 이미지 데이터 X, 레이블 Y"
   ]
  },
  {
   "cell_type": "code",
   "execution_count": 53,
   "metadata": {
    "ExecuteTime": {
     "end_time": "2019-10-07T04:25:15.736419Z",
     "start_time": "2019-10-07T04:25:15.730562Z"
    }
   },
   "outputs": [
    {
     "data": {
      "text/plain": [
       "['Chicken', 'Dolsotbab']"
      ]
     },
     "execution_count": 53,
     "metadata": {},
     "output_type": "execute_result"
    }
   ],
   "source": [
    "[category for idx, category in enumerate(categories)]"
   ]
  },
  {
   "cell_type": "code",
   "execution_count": 54,
   "metadata": {
    "ExecuteTime": {
     "end_time": "2019-10-07T04:25:16.191526Z",
     "start_time": "2019-10-07T04:25:16.186640Z"
    }
   },
   "outputs": [
    {
     "name": "stdout",
     "output_type": "stream",
     "text": [
      "Chicken\n",
      "Dolsotbab\n"
     ]
    }
   ],
   "source": [
    "for i, j in enumerate(categories):\n",
    "    print(j)"
   ]
  },
  {
   "cell_type": "code",
   "execution_count": 56,
   "metadata": {
    "ExecuteTime": {
     "end_time": "2019-10-07T04:25:20.338236Z",
     "start_time": "2019-10-07T04:25:19.482763Z"
    }
   },
   "outputs": [
    {
     "name": "stdout",
     "output_type": "stream",
     "text": [
      "C:/Users/301-1/Desktop/data/dummy/Python/MachineLearning/kfood/Chicken/*.jpg\n",
      "0 C:/Users/301-1/Desktop/data/dummy/Python/MachineLearning/kfood/Chicken\\chicken_01.jpg\n",
      "1 C:/Users/301-1/Desktop/data/dummy/Python/MachineLearning/kfood/Chicken\\chicken_02.jpg\n",
      "2 C:/Users/301-1/Desktop/data/dummy/Python/MachineLearning/kfood/Chicken\\chicken_03.jpg\n",
      "3 C:/Users/301-1/Desktop/data/dummy/Python/MachineLearning/kfood/Chicken\\chicken_04.jpg\n",
      "4 C:/Users/301-1/Desktop/data/dummy/Python/MachineLearning/kfood/Chicken\\chicken_05.jpg\n",
      "5 C:/Users/301-1/Desktop/data/dummy/Python/MachineLearning/kfood/Chicken\\chicken_06.jpg\n",
      "6 C:/Users/301-1/Desktop/data/dummy/Python/MachineLearning/kfood/Chicken\\chicken_07.jpg\n",
      "7 C:/Users/301-1/Desktop/data/dummy/Python/MachineLearning/kfood/Chicken\\chicken_08.jpg\n",
      "8 C:/Users/301-1/Desktop/data/dummy/Python/MachineLearning/kfood/Chicken\\chicken_09.jpg\n",
      "9 C:/Users/301-1/Desktop/data/dummy/Python/MachineLearning/kfood/Chicken\\chicken_10.jpg\n",
      "10 C:/Users/301-1/Desktop/data/dummy/Python/MachineLearning/kfood/Chicken\\chicken_11.jpg\n",
      "11 C:/Users/301-1/Desktop/data/dummy/Python/MachineLearning/kfood/Chicken\\chicken_12.jpg\n",
      "12 C:/Users/301-1/Desktop/data/dummy/Python/MachineLearning/kfood/Chicken\\chicken_13.jpg\n",
      "13 C:/Users/301-1/Desktop/data/dummy/Python/MachineLearning/kfood/Chicken\\chicken_14.jpg\n",
      "14 C:/Users/301-1/Desktop/data/dummy/Python/MachineLearning/kfood/Chicken\\chicken_15.jpg\n",
      "15 C:/Users/301-1/Desktop/data/dummy/Python/MachineLearning/kfood/Chicken\\chicken_16.jpg\n",
      "16 C:/Users/301-1/Desktop/data/dummy/Python/MachineLearning/kfood/Chicken\\chicken_17.jpg\n",
      "17 C:/Users/301-1/Desktop/data/dummy/Python/MachineLearning/kfood/Chicken\\chicken_18.jpg\n",
      "18 C:/Users/301-1/Desktop/data/dummy/Python/MachineLearning/kfood/Chicken\\chicken_19.jpg\n",
      "19 C:/Users/301-1/Desktop/data/dummy/Python/MachineLearning/kfood/Chicken\\chicken_20.jpg\n",
      "20 C:/Users/301-1/Desktop/data/dummy/Python/MachineLearning/kfood/Chicken\\chicken_21.jpg\n",
      "21 C:/Users/301-1/Desktop/data/dummy/Python/MachineLearning/kfood/Chicken\\chicken_22.jpg\n",
      "22 C:/Users/301-1/Desktop/data/dummy/Python/MachineLearning/kfood/Chicken\\chicken_23.jpg\n",
      "23 C:/Users/301-1/Desktop/data/dummy/Python/MachineLearning/kfood/Chicken\\chicken_24.jpg\n",
      "24 C:/Users/301-1/Desktop/data/dummy/Python/MachineLearning/kfood/Chicken\\chicken_25.jpg\n",
      "25 C:/Users/301-1/Desktop/data/dummy/Python/MachineLearning/kfood/Chicken\\chicken_26.jpg\n",
      "26 C:/Users/301-1/Desktop/data/dummy/Python/MachineLearning/kfood/Chicken\\chicken_27.jpg\n",
      "27 C:/Users/301-1/Desktop/data/dummy/Python/MachineLearning/kfood/Chicken\\chicken_28.jpg\n",
      "28 C:/Users/301-1/Desktop/data/dummy/Python/MachineLearning/kfood/Chicken\\chicken_29.jpg\n",
      "29 C:/Users/301-1/Desktop/data/dummy/Python/MachineLearning/kfood/Chicken\\chicken_30.jpg\n",
      "C:/Users/301-1/Desktop/data/dummy/Python/MachineLearning/kfood/Dolsotbab/*.jpg\n",
      "0 C:/Users/301-1/Desktop/data/dummy/Python/MachineLearning/kfood/Dolsotbab\\Dolsotbab_01.jpg\n",
      "1 C:/Users/301-1/Desktop/data/dummy/Python/MachineLearning/kfood/Dolsotbab\\Dolsotbab_02.jpg\n",
      "2 C:/Users/301-1/Desktop/data/dummy/Python/MachineLearning/kfood/Dolsotbab\\Dolsotbab_03.jpg\n",
      "3 C:/Users/301-1/Desktop/data/dummy/Python/MachineLearning/kfood/Dolsotbab\\Dolsotbab_04.jpg\n",
      "4 C:/Users/301-1/Desktop/data/dummy/Python/MachineLearning/kfood/Dolsotbab\\Dolsotbab_05.jpg\n",
      "5 C:/Users/301-1/Desktop/data/dummy/Python/MachineLearning/kfood/Dolsotbab\\Dolsotbab_06.jpg\n",
      "6 C:/Users/301-1/Desktop/data/dummy/Python/MachineLearning/kfood/Dolsotbab\\Dolsotbab_07.jpg\n",
      "7 C:/Users/301-1/Desktop/data/dummy/Python/MachineLearning/kfood/Dolsotbab\\Dolsotbab_08.jpg\n",
      "8 C:/Users/301-1/Desktop/data/dummy/Python/MachineLearning/kfood/Dolsotbab\\Dolsotbab_09.jpg\n",
      "9 C:/Users/301-1/Desktop/data/dummy/Python/MachineLearning/kfood/Dolsotbab\\Dolsotbab_10.jpg\n",
      "10 C:/Users/301-1/Desktop/data/dummy/Python/MachineLearning/kfood/Dolsotbab\\Dolsotbab_11.jpg\n",
      "11 C:/Users/301-1/Desktop/data/dummy/Python/MachineLearning/kfood/Dolsotbab\\Dolsotbab_12.jpg\n",
      "12 C:/Users/301-1/Desktop/data/dummy/Python/MachineLearning/kfood/Dolsotbab\\Dolsotbab_13.jpg\n",
      "13 C:/Users/301-1/Desktop/data/dummy/Python/MachineLearning/kfood/Dolsotbab\\Dolsotbab_14.jpg\n",
      "14 C:/Users/301-1/Desktop/data/dummy/Python/MachineLearning/kfood/Dolsotbab\\Dolsotbab_15.jpg\n",
      "15 C:/Users/301-1/Desktop/data/dummy/Python/MachineLearning/kfood/Dolsotbab\\Dolsotbab_16.jpg\n",
      "16 C:/Users/301-1/Desktop/data/dummy/Python/MachineLearning/kfood/Dolsotbab\\Dolsotbab_17.jpg\n",
      "17 C:/Users/301-1/Desktop/data/dummy/Python/MachineLearning/kfood/Dolsotbab\\Dolsotbab_18.jpg\n",
      "18 C:/Users/301-1/Desktop/data/dummy/Python/MachineLearning/kfood/Dolsotbab\\Dolsotbab_19.jpg\n",
      "19 C:/Users/301-1/Desktop/data/dummy/Python/MachineLearning/kfood/Dolsotbab\\Dolsotbab_20.jpg\n",
      "20 C:/Users/301-1/Desktop/data/dummy/Python/MachineLearning/kfood/Dolsotbab\\Dolsotbab_21.jpg\n",
      "21 C:/Users/301-1/Desktop/data/dummy/Python/MachineLearning/kfood/Dolsotbab\\Dolsotbab_22.jpg\n",
      "22 C:/Users/301-1/Desktop/data/dummy/Python/MachineLearning/kfood/Dolsotbab\\Dolsotbab_23.jpg\n",
      "23 C:/Users/301-1/Desktop/data/dummy/Python/MachineLearning/kfood/Dolsotbab\\Dolsotbab_24.jpg\n",
      "24 C:/Users/301-1/Desktop/data/dummy/Python/MachineLearning/kfood/Dolsotbab\\Dolsotbab_25.jpg\n",
      "25 C:/Users/301-1/Desktop/data/dummy/Python/MachineLearning/kfood/Dolsotbab\\Dolsotbab_26.jpg\n",
      "26 C:/Users/301-1/Desktop/data/dummy/Python/MachineLearning/kfood/Dolsotbab\\Dolsotbab_27.jpg\n",
      "27 C:/Users/301-1/Desktop/data/dummy/Python/MachineLearning/kfood/Dolsotbab\\Dolsotbab_28.jpg\n",
      "28 C:/Users/301-1/Desktop/data/dummy/Python/MachineLearning/kfood/Dolsotbab\\Dolsotbab_29.jpg\n",
      "29 C:/Users/301-1/Desktop/data/dummy/Python/MachineLearning/kfood/Dolsotbab\\Dolsotbab_30.jpg\n",
      "(60, 64, 64, 3) (60,)\n"
     ]
    }
   ],
   "source": [
    "X = []\n",
    "Y = []\n",
    "for idx, category in enumerate(categories):\n",
    "    image_dir = root_dir + category\n",
    "    # glob() 함수는 경로에 대응되는 모든 파일 및 디렉터리의 리스트를 반환합니다.\n",
    "    files = glob.glob(image_dir + '/' + '*.jpg')\n",
    "    print(image_dir + '/' + '*.jpg')\n",
    "    \n",
    "    for i, f in enumerate(files):\n",
    "        print(i, f)\n",
    "        img = Image.open(f)\n",
    "        img = img.convert('RGB')\n",
    "        img = img.resize((image_width, image_height)) # 64 * 64로 변경\n",
    "        data = np.asarray(img)\n",
    "        X.append(data)\n",
    "        Y.append(idx)\n",
    "        \n",
    "X = np.array(X)\n",
    "Y = np.array(Y)\n",
    "print(X.shape, Y.shape)"
   ]
  },
  {
   "cell_type": "code",
   "execution_count": 57,
   "metadata": {
    "ExecuteTime": {
     "end_time": "2019-10-07T04:25:25.977243Z",
     "start_time": "2019-10-07T04:25:25.971401Z"
    }
   },
   "outputs": [],
   "source": [
    "X_train, X_test, Y_train, Y_test = train_test_split(X, Y)\n",
    "xy = (X_train, X_test, Y_train, Y_test)"
   ]
  },
  {
   "cell_type": "code",
   "execution_count": null,
   "metadata": {},
   "outputs": [],
   "source": [
    "root_dir = \"C:/Users/301-1/Desktop/data/dummy/Python/MachineLearning/kfood/\""
   ]
  }
 ],
 "metadata": {
  "kernelspec": {
   "display_name": "Python 3",
   "language": "python",
   "name": "python3"
  },
  "language_info": {
   "codemirror_mode": {
    "name": "ipython",
    "version": 3
   },
   "file_extension": ".py",
   "mimetype": "text/x-python",
   "name": "python",
   "nbconvert_exporter": "python",
   "pygments_lexer": "ipython3",
   "version": "3.7.3"
  },
  "varInspector": {
   "cols": {
    "lenName": 16,
    "lenType": 16,
    "lenVar": 40
   },
   "kernels_config": {
    "python": {
     "delete_cmd_postfix": "",
     "delete_cmd_prefix": "del ",
     "library": "var_list.py",
     "varRefreshCmd": "print(var_dic_list())"
    },
    "r": {
     "delete_cmd_postfix": ") ",
     "delete_cmd_prefix": "rm(",
     "library": "var_list.r",
     "varRefreshCmd": "cat(var_dic_list()) "
    }
   },
   "types_to_exclude": [
    "module",
    "function",
    "builtin_function_or_method",
    "instance",
    "_Feature"
   ],
   "window_display": false
  }
 },
 "nbformat": 4,
 "nbformat_minor": 2
}
