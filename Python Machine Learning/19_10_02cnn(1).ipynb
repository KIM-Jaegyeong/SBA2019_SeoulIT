{
  "nbformat": 4,
  "nbformat_minor": 0,
  "metadata": {
    "colab": {
      "name": "19-10-02cnn(1).ipynb",
      "provenance": [],
      "collapsed_sections": [],
      "include_colab_link": true
    },
    "kernelspec": {
      "name": "python3",
      "display_name": "Python 3"
    }
  },
  "cells": [
    {
      "cell_type": "markdown",
      "metadata": {
        "id": "view-in-github",
        "colab_type": "text"
      },
      "source": [
        "<a href=\"https://colab.research.google.com/github/KIM-Jaegyeong/SBA2019_SeoulIT/blob/master/19_10_02cnn(1).ipynb\" target=\"_parent\"><img src=\"https://colab.research.google.com/assets/colab-badge.svg\" alt=\"Open In Colab\"/></a>"
      ]
    },
    {
      "cell_type": "code",
      "metadata": {
        "id": "iGfStMuGqIiW",
        "colab_type": "code",
        "colab": {}
      },
      "source": [
        ""
      ],
      "execution_count": 0,
      "outputs": []
    },
    {
      "cell_type": "code",
      "metadata": {
        "id": "uo-ytWcm1K9a",
        "colab_type": "code",
        "outputId": "d3a46d20-5bc5-4f19-c6ba-116fc3a99a9b",
        "colab": {
          "base_uri": "https://localhost:8080/",
          "height": 89
        }
      },
      "source": [
        "import tensorflow as tf\n",
        "\n",
        "from tensorflow.examples.tutorials.mnist import input_data\n",
        "mnist = input_data.read_data_sets(\"./mnist/data\", one_hot=True)"
      ],
      "execution_count": 0,
      "outputs": [
        {
          "output_type": "stream",
          "text": [
            "Extracting ./mnist/data/train-images-idx3-ubyte.gz\n",
            "Extracting ./mnist/data/train-labels-idx1-ubyte.gz\n",
            "Extracting ./mnist/data/t10k-images-idx3-ubyte.gz\n",
            "Extracting ./mnist/data/t10k-labels-idx1-ubyte.gz\n"
          ],
          "name": "stdout"
        }
      ]
    },
    {
      "cell_type": "code",
      "metadata": {
        "colab_type": "code",
        "outputId": "d3a46d20-5bc5-4f19-c6ba-116fc3a99a9b",
        "id": "ZO3LJrkcqL1_",
        "colab": {
          "base_uri": "https://localhost:8080/",
          "height": 89
        }
      },
      "source": [
        "import tensorflow as tf\n",
        "\n",
        "from tensorflow.examples.tutorials.mnist import input_data\n",
        "mnist = input_data.read_data_sets(\"./mnist/data\", one_hot=True)"
      ],
      "execution_count": 0,
      "outputs": [
        {
          "output_type": "stream",
          "text": [
            "Extracting ./mnist/data/train-images-idx3-ubyte.gz\n",
            "Extracting ./mnist/data/train-labels-idx1-ubyte.gz\n",
            "Extracting ./mnist/data/t10k-images-idx3-ubyte.gz\n",
            "Extracting ./mnist/data/t10k-labels-idx1-ubyte.gz\n"
          ],
          "name": "stdout"
        }
      ]
    },
    {
      "cell_type": "code",
      "metadata": {
        "colab_type": "code",
        "outputId": "d3a46d20-5bc5-4f19-c6ba-116fc3a99a9b",
        "id": "ktN6li8BqOVC",
        "colab": {
          "base_uri": "https://localhost:8080/",
          "height": 89
        }
      },
      "source": [
        "import tensorflow as tf\n",
        "\n",
        "from tensorflow.examples.tutorials.mnist import input_data\n",
        "mnist = input_data.read_data_sets(\"./mnist/data\", one_hot=True)"
      ],
      "execution_count": 0,
      "outputs": [
        {
          "output_type": "stream",
          "text": [
            "Extracting ./mnist/data/train-images-idx3-ubyte.gz\n",
            "Extracting ./mnist/data/train-labels-idx1-ubyte.gz\n",
            "Extracting ./mnist/data/t10k-images-idx3-ubyte.gz\n",
            "Extracting ./mnist/data/t10k-labels-idx1-ubyte.gz\n"
          ],
          "name": "stdout"
        }
      ]
    },
    {
      "cell_type": "code",
      "metadata": {
        "colab_type": "code",
        "id": "VKUtd8mvqOVF",
        "colab": {}
      },
      "source": [
        "X = tf.placeholder(tf.float32, [None,28,28,1])\n",
        "Y = tf.placeholder(tf.float32, [None,10])"
      ],
      "execution_count": 0,
      "outputs": []
    },
    {
      "cell_type": "markdown",
      "metadata": {
        "colab_type": "text",
        "id": "RA27jaWzqOVH"
      },
      "source": [
        "## CNN 계층구성"
      ]
    },
    {
      "cell_type": "code",
      "metadata": {
        "colab_type": "code",
        "id": "5j9ML2s2qOVI",
        "colab": {}
      },
      "source": [
        "# conv - (relu) - pooling\n",
        "# conv - (relu) - pooling\n",
        "# FC"
      ],
      "execution_count": 0,
      "outputs": []
    },
    {
      "cell_type": "code",
      "metadata": {
        "colab_type": "code",
        "outputId": "812a103d-9d87-4c56-8903-6cc543e77049",
        "id": "mUVNUo5PqOVM",
        "colab": {
          "base_uri": "https://localhost:8080/",
          "height": 35
        }
      },
      "source": [
        "W1 = tf.Variable(tf.random_normal([3,3,1,32], stddev=0.01)) # 표준편차 0.01 32개필터 지정 W1커널\n",
        "L1 = tf.nn.conv2d(X, W1, strides=[1,1,1,1], padding='SAME')\n",
        "L1 = tf.nn.relu(L1) # 나온 결과에 활성화 함수 넣어준다\n",
        "L1 = tf.nn.max_pool(L1, ksize=[1,2,2,1], strides=[1,2,2,1],padding='SAME')  \n",
        "print(L1)"
      ],
      "execution_count": 0,
      "outputs": [
        {
          "output_type": "stream",
          "text": [
            "Tensor(\"MaxPool_1:0\", shape=(?, 14, 14, 32), dtype=float32)\n"
          ],
          "name": "stdout"
        }
      ]
    },
    {
      "cell_type": "code",
      "metadata": {
        "colab_type": "code",
        "outputId": "e6c03154-4752-4b7b-e9fd-28677d9c3ce5",
        "id": "P4sGQtREqOVO",
        "colab": {
          "base_uri": "https://localhost:8080/",
          "height": 35
        }
      },
      "source": [
        "W2 = tf.Variable(tf.random_normal([3, 3, 32, 64], stddev=0.01))\n",
        "L2 = tf.nn.conv2d(L1, W2, strides=[1, 1, 1, 1], padding='SAME')\n",
        "L2 = tf.nn.relu(L2)\n",
        "L2 = tf.nn.max_pool(L2, ksize=[1, 2, 2, 1], strides=[1, 2, 2, 1], padding='SAME')\n",
        "print(L2)"
      ],
      "execution_count": 0,
      "outputs": [
        {
          "output_type": "stream",
          "text": [
            "Tensor(\"MaxPool_4:0\", shape=(?, 7, 7, 64), dtype=float32)\n"
          ],
          "name": "stdout"
        }
      ]
    },
    {
      "cell_type": "markdown",
      "metadata": {
        "colab_type": "text",
        "id": "GbufqfIgqOVR"
      },
      "source": [
        "- 앞의 풀링 계층의 크기가 7 X 7 X 64 이므로, tf.reshape함수를 이용. 1차원으로 만듬.\n",
        "- 인접한 계층의 모든 뉴런과 상호 연결된 계층을 완전 연결 계층(fully connect layer)라 한다\n",
        "- 마지막 층의 뉴런수는 256개"
      ]
    },
    {
      "cell_type": "code",
      "metadata": {
        "colab_type": "code",
        "outputId": "f681879a-8d8f-470b-b0ab-9dc0b7dbb1e6",
        "id": "waOSsbouqOVU",
        "colab": {
          "base_uri": "https://localhost:8080/",
          "height": 35
        }
      },
      "source": [
        "W3 = tf.Variable(tf.random_normal([7*7*64,256], stddev=0.01))\n",
        "L3 = tf.reshape(L2, [-1,7*7*64]) #fully connect layer로 연결시키기 위해 1차원으로 만들어줌\n",
        "L3 = tf.matmul(L3, W3)\n",
        "L3 = tf.nn.relu(L3)\n",
        "print(L3)"
      ],
      "execution_count": 0,
      "outputs": [
        {
          "output_type": "stream",
          "text": [
            "Tensor(\"Relu_5:0\", shape=(?, 256), dtype=float32)\n"
          ],
          "name": "stdout"
        }
      ]
    },
    {
      "cell_type": "code",
      "metadata": {
        "colab_type": "code",
        "id": "uUWwhJDQqOVW",
        "colab": {}
      },
      "source": [
        "# 최종 출력값 L3 에서의 출력 256개를 입력값으로 받아서\n",
        "# 0~9 레이블인 10개의 출력값을 만듭니다.\n",
        "W4 = tf.Variable(tf.random_normal([256,10], stddev=0.01))\n",
        "model = tf.matmul(L3,W4)"
      ],
      "execution_count": 0,
      "outputs": []
    },
    {
      "cell_type": "markdown",
      "metadata": {
        "colab_type": "text",
        "id": "OJSw4oCTqOVZ"
      },
      "source": [
        "## 비용함수, 최적화 함수 구성"
      ]
    },
    {
      "cell_type": "code",
      "metadata": {
        "colab_type": "code",
        "id": "lKK8NvCzqOVZ",
        "colab": {}
      },
      "source": [
        "cost = tf.reduce_mean(tf.nn.softmax_cross_entropy_with_logits_v2(logits=model,labels=Y))\n",
        "optimizer = tf.train.AdamOptimizer(0.001).minimize(cost)"
      ],
      "execution_count": 0,
      "outputs": []
    },
    {
      "cell_type": "markdown",
      "metadata": {
        "colab_type": "text",
        "id": "6pkSuS2UqOVd"
      },
      "source": [
        "## 신경망 모델 학습"
      ]
    },
    {
      "cell_type": "code",
      "metadata": {
        "colab_type": "code",
        "id": "7mnV420KqOVe",
        "colab": {}
      },
      "source": [
        "init = tf.global_variables_initializer()\n",
        "sess = tf.Session()\n",
        "sess.run(init)"
      ],
      "execution_count": 0,
      "outputs": []
    },
    {
      "cell_type": "code",
      "metadata": {
        "colab_type": "code",
        "id": "vR7jsGBwqOVh",
        "colab": {}
      },
      "source": [
        "batch_size = 100\n",
        "total_batch = int(mnist.train.num_examples / batch_size)"
      ],
      "execution_count": 0,
      "outputs": []
    },
    {
      "cell_type": "code",
      "metadata": {
        "colab_type": "code",
        "id": "HpLLSMbaqOVk",
        "colab": {}
      },
      "source": [
        "import numpy as np"
      ],
      "execution_count": 0,
      "outputs": []
    },
    {
      "cell_type": "markdown",
      "metadata": {
        "colab_type": "text",
        "id": "TPu84c1XqOVm"
      },
      "source": [
        "1 epoch (데이터 전체 학습 한번 )만 돌리기"
      ]
    },
    {
      "cell_type": "code",
      "metadata": {
        "colab_type": "code",
        "outputId": "df77ec9d-8745-4728-df26-60f3cacb61f5",
        "id": "crExSquWqOVn",
        "colab": {
          "base_uri": "https://localhost:8080/",
          "height": 89
        }
      },
      "source": [
        "%%time\n",
        "\n",
        "total_cost = 0\n",
        "epoch = 0\n",
        "\n",
        "# 550번 학습\n",
        "\n",
        "for i in range(total_batch):\n",
        "  batch_xs, batch_ys = mnist.train.next_batch(batch_size) # batch_xs : 이미지 데이터 , batch_ys : 답(레이블) 데이터\n",
        "  batch_xs = batch_xs.reshape(-1, 28, 28, 1) # 이미지 데이터를 CNN 모델을 위한 자료형태인 [28 28 1] 의 형태로 재구성합니다.\n",
        "  _, cost_val = sess.run([optimizer, cost], feed_dict={X:batch_xs, Y: batch_ys})\n",
        "  total_cost += cost_val\n",
        "print('Epoch:', '%04d'% (epoch+1),'Avg.cost =', '{:3f}'.format(total_cost /total_batch)) #%04d - 0123\n",
        "\n",
        "print('최적화 완료(1epoch)')\n"
      ],
      "execution_count": 0,
      "outputs": [
        {
          "output_type": "stream",
          "text": [
            "Epoch: 0001 Avg.cost = 0.324646\n",
            "최적화 완료(1epoch)\n",
            "CPU times: user 1min 52s, sys: 1.46 s, total: 1min 54s\n",
            "Wall time: 59.2 s\n"
          ],
          "name": "stdout"
        }
      ]
    },
    {
      "cell_type": "code",
      "metadata": {
        "colab_type": "code",
        "id": "jbwrD8C6qOVr",
        "colab": {}
      },
      "source": [
        "# 실습 \n",
        "# conv, pooling 3번\n",
        "# 필터수 변경 32, 64\n",
        "# epoch 20 "
      ],
      "execution_count": 0,
      "outputs": []
    },
    {
      "cell_type": "code",
      "metadata": {
        "colab_type": "code",
        "id": "tzmBo9VEqOVu",
        "colab": {}
      },
      "source": [
        ""
      ],
      "execution_count": 0,
      "outputs": []
    },
    {
      "cell_type": "code",
      "metadata": {
        "colab_type": "code",
        "outputId": "d3a46d20-5bc5-4f19-c6ba-116fc3a99a9b",
        "id": "BK7boddtqODv",
        "colab": {
          "base_uri": "https://localhost:8080/",
          "height": 89
        }
      },
      "source": [
        "import tensorflow as tf\n",
        "\n",
        "from tensorflow.examples.tutorials.mnist import input_data\n",
        "mnist = input_data.read_data_sets(\"./mnist/data\", one_hot=True)"
      ],
      "execution_count": 0,
      "outputs": [
        {
          "output_type": "stream",
          "text": [
            "Extracting ./mnist/data/train-images-idx3-ubyte.gz\n",
            "Extracting ./mnist/data/train-labels-idx1-ubyte.gz\n",
            "Extracting ./mnist/data/t10k-images-idx3-ubyte.gz\n",
            "Extracting ./mnist/data/t10k-labels-idx1-ubyte.gz\n"
          ],
          "name": "stdout"
        }
      ]
    },
    {
      "cell_type": "code",
      "metadata": {
        "colab_type": "code",
        "id": "fYBNIn3VqODz",
        "colab": {}
      },
      "source": [
        "X = tf.placeholder(tf.float32, [None,28,28,1])\n",
        "Y = tf.placeholder(tf.float32, [None,10])"
      ],
      "execution_count": 0,
      "outputs": []
    },
    {
      "cell_type": "markdown",
      "metadata": {
        "colab_type": "text",
        "id": "k735XnTPqOD2"
      },
      "source": [
        "## CNN 계층구성"
      ]
    },
    {
      "cell_type": "code",
      "metadata": {
        "colab_type": "code",
        "id": "3pC_crfYqOD3",
        "colab": {}
      },
      "source": [
        "# conv - (relu) - pooling\n",
        "# conv - (relu) - pooling\n",
        "# FC"
      ],
      "execution_count": 0,
      "outputs": []
    },
    {
      "cell_type": "code",
      "metadata": {
        "colab_type": "code",
        "outputId": "812a103d-9d87-4c56-8903-6cc543e77049",
        "id": "zYPp6etMqOD6",
        "colab": {
          "base_uri": "https://localhost:8080/",
          "height": 35
        }
      },
      "source": [
        "W1 = tf.Variable(tf.random_normal([3,3,1,32], stddev=0.01)) # 표준편차 0.01 32개필터 지정 W1커널\n",
        "L1 = tf.nn.conv2d(X, W1, strides=[1,1,1,1], padding='SAME')\n",
        "L1 = tf.nn.relu(L1) # 나온 결과에 활성화 함수 넣어준다\n",
        "L1 = tf.nn.max_pool(L1, ksize=[1,2,2,1], strides=[1,2,2,1],padding='SAME')  \n",
        "print(L1)"
      ],
      "execution_count": 0,
      "outputs": [
        {
          "output_type": "stream",
          "text": [
            "Tensor(\"MaxPool_1:0\", shape=(?, 14, 14, 32), dtype=float32)\n"
          ],
          "name": "stdout"
        }
      ]
    },
    {
      "cell_type": "code",
      "metadata": {
        "colab_type": "code",
        "outputId": "e6c03154-4752-4b7b-e9fd-28677d9c3ce5",
        "id": "A9urOjJWqOD8",
        "colab": {
          "base_uri": "https://localhost:8080/",
          "height": 35
        }
      },
      "source": [
        "W2 = tf.Variable(tf.random_normal([3, 3, 32, 64], stddev=0.01))\n",
        "L2 = tf.nn.conv2d(L1, W2, strides=[1, 1, 1, 1], padding='SAME')\n",
        "L2 = tf.nn.relu(L2)\n",
        "L2 = tf.nn.max_pool(L2, ksize=[1, 2, 2, 1], strides=[1, 2, 2, 1], padding='SAME')\n",
        "print(L2)"
      ],
      "execution_count": 0,
      "outputs": [
        {
          "output_type": "stream",
          "text": [
            "Tensor(\"MaxPool_4:0\", shape=(?, 7, 7, 64), dtype=float32)\n"
          ],
          "name": "stdout"
        }
      ]
    },
    {
      "cell_type": "markdown",
      "metadata": {
        "colab_type": "text",
        "id": "jHc-i6UIqOD_"
      },
      "source": [
        "- 앞의 풀링 계층의 크기가 7 X 7 X 64 이므로, tf.reshape함수를 이용. 1차원으로 만듬.\n",
        "- 인접한 계층의 모든 뉴런과 상호 연결된 계층을 완전 연결 계층(fully connect layer)라 한다\n",
        "- 마지막 층의 뉴런수는 256개"
      ]
    },
    {
      "cell_type": "code",
      "metadata": {
        "colab_type": "code",
        "outputId": "f681879a-8d8f-470b-b0ab-9dc0b7dbb1e6",
        "id": "6w4BAxKKqOEA",
        "colab": {
          "base_uri": "https://localhost:8080/",
          "height": 35
        }
      },
      "source": [
        "W3 = tf.Variable(tf.random_normal([7*7*64,256], stddev=0.01))\n",
        "L3 = tf.reshape(L2, [-1,7*7*64]) #fully connect layer로 연결시키기 위해 1차원으로 만들어줌\n",
        "L3 = tf.matmul(L3, W3)\n",
        "L3 = tf.nn.relu(L3)\n",
        "print(L3)"
      ],
      "execution_count": 0,
      "outputs": [
        {
          "output_type": "stream",
          "text": [
            "Tensor(\"Relu_5:0\", shape=(?, 256), dtype=float32)\n"
          ],
          "name": "stdout"
        }
      ]
    },
    {
      "cell_type": "code",
      "metadata": {
        "colab_type": "code",
        "id": "NOt0ysweqOED",
        "colab": {}
      },
      "source": [
        "# 최종 출력값 L3 에서의 출력 256개를 입력값으로 받아서\n",
        "# 0~9 레이블인 10개의 출력값을 만듭니다.\n",
        "W4 = tf.Variable(tf.random_normal([256,10], stddev=0.01))\n",
        "model = tf.matmul(L3,W4)"
      ],
      "execution_count": 0,
      "outputs": []
    },
    {
      "cell_type": "markdown",
      "metadata": {
        "colab_type": "text",
        "id": "ll1LiwNAqOEG"
      },
      "source": [
        "## 비용함수, 최적화 함수 구성"
      ]
    },
    {
      "cell_type": "code",
      "metadata": {
        "colab_type": "code",
        "id": "XCe23B0jqOEH",
        "colab": {}
      },
      "source": [
        "cost = tf.reduce_mean(tf.nn.softmax_cross_entropy_with_logits_v2(logits=model,labels=Y))\n",
        "optimizer = tf.train.AdamOptimizer(0.001).minimize(cost)"
      ],
      "execution_count": 0,
      "outputs": []
    },
    {
      "cell_type": "markdown",
      "metadata": {
        "colab_type": "text",
        "id": "UcVjOK1iqOEL"
      },
      "source": [
        "## 신경망 모델 학습"
      ]
    },
    {
      "cell_type": "code",
      "metadata": {
        "colab_type": "code",
        "id": "paKYnZMLqOEM",
        "colab": {}
      },
      "source": [
        "init = tf.global_variables_initializer()\n",
        "sess = tf.Session()\n",
        "sess.run(init)"
      ],
      "execution_count": 0,
      "outputs": []
    },
    {
      "cell_type": "code",
      "metadata": {
        "colab_type": "code",
        "id": "INpPuOAGqOEP",
        "colab": {}
      },
      "source": [
        "batch_size = 100\n",
        "total_batch = int(mnist.train.num_examples / batch_size)"
      ],
      "execution_count": 0,
      "outputs": []
    },
    {
      "cell_type": "code",
      "metadata": {
        "colab_type": "code",
        "id": "_kQ96kn-qOET",
        "colab": {}
      },
      "source": [
        "import numpy as np"
      ],
      "execution_count": 0,
      "outputs": []
    },
    {
      "cell_type": "markdown",
      "metadata": {
        "colab_type": "text",
        "id": "T5dBhTLiqOEW"
      },
      "source": [
        "1 epoch (데이터 전체 학습 한번 )만 돌리기"
      ]
    },
    {
      "cell_type": "code",
      "metadata": {
        "colab_type": "code",
        "outputId": "df77ec9d-8745-4728-df26-60f3cacb61f5",
        "id": "3oIRUSRNqOEX",
        "colab": {
          "base_uri": "https://localhost:8080/",
          "height": 89
        }
      },
      "source": [
        "%%time\n",
        "\n",
        "total_cost = 0\n",
        "epoch = 0\n",
        "\n",
        "# 550번 학습\n",
        "\n",
        "for i in range(total_batch):\n",
        "  batch_xs, batch_ys = mnist.train.next_batch(batch_size) # batch_xs : 이미지 데이터 , batch_ys : 답(레이블) 데이터\n",
        "  batch_xs = batch_xs.reshape(-1, 28, 28, 1) # 이미지 데이터를 CNN 모델을 위한 자료형태인 [28 28 1] 의 형태로 재구성합니다.\n",
        "  _, cost_val = sess.run([optimizer, cost], feed_dict={X:batch_xs, Y: batch_ys})\n",
        "  total_cost += cost_val\n",
        "print('Epoch:', '%04d'% (epoch+1),'Avg.cost =', '{:3f}'.format(total_cost /total_batch)) #%04d - 0123\n",
        "\n",
        "print('최적화 완료(1epoch)')\n"
      ],
      "execution_count": 0,
      "outputs": [
        {
          "output_type": "stream",
          "text": [
            "Epoch: 0001 Avg.cost = 0.324646\n",
            "최적화 완료(1epoch)\n",
            "CPU times: user 1min 52s, sys: 1.46 s, total: 1min 54s\n",
            "Wall time: 59.2 s\n"
          ],
          "name": "stdout"
        }
      ]
    },
    {
      "cell_type": "code",
      "metadata": {
        "colab_type": "code",
        "id": "k_nuW2ngqOEa",
        "colab": {}
      },
      "source": [
        "# 실습 \n",
        "# conv, pooling 3번\n",
        "# 필터수 변경 32, 64\n",
        "# epoch 20 "
      ],
      "execution_count": 0,
      "outputs": []
    },
    {
      "cell_type": "code",
      "metadata": {
        "colab_type": "code",
        "id": "FIaVQ_7WqOEd",
        "colab": {}
      },
      "source": [
        ""
      ],
      "execution_count": 0,
      "outputs": []
    },
    {
      "cell_type": "code",
      "metadata": {
        "colab_type": "code",
        "id": "mS0LK95wqL2D",
        "colab": {}
      },
      "source": [
        "X = tf.placeholder(tf.float32, [None,28,28,1])\n",
        "Y = tf.placeholder(tf.float32, [None,10])"
      ],
      "execution_count": 0,
      "outputs": []
    },
    {
      "cell_type": "markdown",
      "metadata": {
        "colab_type": "text",
        "id": "kQbzYT8hqL2H"
      },
      "source": [
        "## CNN 계층구성"
      ]
    },
    {
      "cell_type": "code",
      "metadata": {
        "colab_type": "code",
        "id": "idINkt1hqL2I",
        "colab": {}
      },
      "source": [
        "# conv - (relu) - pooling\n",
        "# conv - (relu) - pooling\n",
        "# FC"
      ],
      "execution_count": 0,
      "outputs": []
    },
    {
      "cell_type": "code",
      "metadata": {
        "colab_type": "code",
        "outputId": "812a103d-9d87-4c56-8903-6cc543e77049",
        "id": "HZLAgpj3qL2L",
        "colab": {
          "base_uri": "https://localhost:8080/",
          "height": 35
        }
      },
      "source": [
        "W1 = tf.Variable(tf.random_normal([3,3,1,32], stddev=0.01)) # 표준편차 0.01 32개필터 지정 W1커널\n",
        "L1 = tf.nn.conv2d(X, W1, strides=[1,1,1,1], padding='SAME')\n",
        "L1 = tf.nn.relu(L1) # 나온 결과에 활성화 함수 넣어준다\n",
        "L1 = tf.nn.max_pool(L1, ksize=[1,2,2,1], strides=[1,2,2,1],padding='SAME')  \n",
        "print(L1)"
      ],
      "execution_count": 0,
      "outputs": [
        {
          "output_type": "stream",
          "text": [
            "Tensor(\"MaxPool_1:0\", shape=(?, 14, 14, 32), dtype=float32)\n"
          ],
          "name": "stdout"
        }
      ]
    },
    {
      "cell_type": "code",
      "metadata": {
        "colab_type": "code",
        "outputId": "e6c03154-4752-4b7b-e9fd-28677d9c3ce5",
        "id": "bRN-LSVyqL2P",
        "colab": {
          "base_uri": "https://localhost:8080/",
          "height": 35
        }
      },
      "source": [
        "W2 = tf.Variable(tf.random_normal([3, 3, 32, 64], stddev=0.01))\n",
        "L2 = tf.nn.conv2d(L1, W2, strides=[1, 1, 1, 1], padding='SAME')\n",
        "L2 = tf.nn.relu(L2)\n",
        "L2 = tf.nn.max_pool(L2, ksize=[1, 2, 2, 1], strides=[1, 2, 2, 1], padding='SAME')\n",
        "print(L2)"
      ],
      "execution_count": 0,
      "outputs": [
        {
          "output_type": "stream",
          "text": [
            "Tensor(\"MaxPool_4:0\", shape=(?, 7, 7, 64), dtype=float32)\n"
          ],
          "name": "stdout"
        }
      ]
    },
    {
      "cell_type": "markdown",
      "metadata": {
        "colab_type": "text",
        "id": "vbIZ6WgdqL2S"
      },
      "source": [
        "- 앞의 풀링 계층의 크기가 7 X 7 X 64 이므로, tf.reshape함수를 이용. 1차원으로 만듬.\n",
        "- 인접한 계층의 모든 뉴런과 상호 연결된 계층을 완전 연결 계층(fully connect layer)라 한다\n",
        "- 마지막 층의 뉴런수는 256개"
      ]
    },
    {
      "cell_type": "code",
      "metadata": {
        "colab_type": "code",
        "outputId": "f681879a-8d8f-470b-b0ab-9dc0b7dbb1e6",
        "id": "PL-BD3olqL2T",
        "colab": {
          "base_uri": "https://localhost:8080/",
          "height": 35
        }
      },
      "source": [
        "W3 = tf.Variable(tf.random_normal([7*7*64,256], stddev=0.01))\n",
        "L3 = tf.reshape(L2, [-1,7*7*64]) #fully connect layer로 연결시키기 위해 1차원으로 만들어줌\n",
        "L3 = tf.matmul(L3, W3)\n",
        "L3 = tf.nn.relu(L3)\n",
        "print(L3)"
      ],
      "execution_count": 0,
      "outputs": [
        {
          "output_type": "stream",
          "text": [
            "Tensor(\"Relu_5:0\", shape=(?, 256), dtype=float32)\n"
          ],
          "name": "stdout"
        }
      ]
    },
    {
      "cell_type": "code",
      "metadata": {
        "colab_type": "code",
        "id": "tZbsn6LfqL2X",
        "colab": {}
      },
      "source": [
        "# 최종 출력값 L3 에서의 출력 256개를 입력값으로 받아서\n",
        "# 0~9 레이블인 10개의 출력값을 만듭니다.\n",
        "W4 = tf.Variable(tf.random_normal([256,10], stddev=0.01))\n",
        "model = tf.matmul(L3,W4)"
      ],
      "execution_count": 0,
      "outputs": []
    },
    {
      "cell_type": "markdown",
      "metadata": {
        "colab_type": "text",
        "id": "9tFDP1qWqL2a"
      },
      "source": [
        "## 비용함수, 최적화 함수 구성"
      ]
    },
    {
      "cell_type": "code",
      "metadata": {
        "colab_type": "code",
        "id": "xewktUdEqL2b",
        "colab": {}
      },
      "source": [
        "cost = tf.reduce_mean(tf.nn.softmax_cross_entropy_with_logits_v2(logits=model,labels=Y))\n",
        "optimizer = tf.train.AdamOptimizer(0.001).minimize(cost)"
      ],
      "execution_count": 0,
      "outputs": []
    },
    {
      "cell_type": "markdown",
      "metadata": {
        "colab_type": "text",
        "id": "SgWXKE75qL2f"
      },
      "source": [
        "## 신경망 모델 학습"
      ]
    },
    {
      "cell_type": "code",
      "metadata": {
        "colab_type": "code",
        "id": "kXMch0SFqL2g",
        "colab": {}
      },
      "source": [
        "init = tf.global_variables_initializer()\n",
        "sess = tf.Session()\n",
        "sess.run(init)"
      ],
      "execution_count": 0,
      "outputs": []
    },
    {
      "cell_type": "code",
      "metadata": {
        "colab_type": "code",
        "id": "yL5oNMIeqL2j",
        "colab": {}
      },
      "source": [
        "batch_size = 100\n",
        "total_batch = int(mnist.train.num_examples / batch_size)"
      ],
      "execution_count": 0,
      "outputs": []
    },
    {
      "cell_type": "code",
      "metadata": {
        "colab_type": "code",
        "id": "pNuBoWjoqL2m",
        "colab": {}
      },
      "source": [
        "import numpy as np"
      ],
      "execution_count": 0,
      "outputs": []
    },
    {
      "cell_type": "markdown",
      "metadata": {
        "colab_type": "text",
        "id": "6TkFEFS8qL2q"
      },
      "source": [
        "1 epoch (데이터 전체 학습 한번 )만 돌리기"
      ]
    },
    {
      "cell_type": "code",
      "metadata": {
        "colab_type": "code",
        "outputId": "df77ec9d-8745-4728-df26-60f3cacb61f5",
        "id": "JFTsIgnAqL2r",
        "colab": {
          "base_uri": "https://localhost:8080/",
          "height": 89
        }
      },
      "source": [
        "%%time\n",
        "\n",
        "total_cost = 0\n",
        "epoch = 0\n",
        "\n",
        "# 550번 학습\n",
        "\n",
        "for i in range(total_batch):\n",
        "  batch_xs, batch_ys = mnist.train.next_batch(batch_size) # batch_xs : 이미지 데이터 , batch_ys : 답(레이블) 데이터\n",
        "  batch_xs = batch_xs.reshape(-1, 28, 28, 1) # 이미지 데이터를 CNN 모델을 위한 자료형태인 [28 28 1] 의 형태로 재구성합니다.\n",
        "  _, cost_val = sess.run([optimizer, cost], feed_dict={X:batch_xs, Y: batch_ys})\n",
        "  total_cost += cost_val\n",
        "print('Epoch:', '%04d'% (epoch+1),'Avg.cost =', '{:3f}'.format(total_cost /total_batch)) #%04d - 0123\n",
        "\n",
        "print('최적화 완료(1epoch)')\n"
      ],
      "execution_count": 0,
      "outputs": [
        {
          "output_type": "stream",
          "text": [
            "Epoch: 0001 Avg.cost = 0.324646\n",
            "최적화 완료(1epoch)\n",
            "CPU times: user 1min 52s, sys: 1.46 s, total: 1min 54s\n",
            "Wall time: 59.2 s\n"
          ],
          "name": "stdout"
        }
      ]
    },
    {
      "cell_type": "code",
      "metadata": {
        "colab_type": "code",
        "id": "Ozi-ANy0qL2w",
        "colab": {}
      },
      "source": [
        "# 실습 \n",
        "# conv, pooling 3번\n",
        "# 필터수 변경 32, 64\n",
        "# epoch 20 "
      ],
      "execution_count": 0,
      "outputs": []
    },
    {
      "cell_type": "code",
      "metadata": {
        "colab_type": "code",
        "id": "DsnKkTD_qL20",
        "colab": {}
      },
      "source": [
        ""
      ],
      "execution_count": 0,
      "outputs": []
    },
    {
      "cell_type": "code",
      "metadata": {
        "id": "LusUy73VE-Gu",
        "colab_type": "code",
        "colab": {}
      },
      "source": [
        "X = tf.placeholder(tf.float32, [None,28,28,1])\n",
        "Y = tf.placeholder(tf.float32, [None,10])"
      ],
      "execution_count": 0,
      "outputs": []
    },
    {
      "cell_type": "markdown",
      "metadata": {
        "id": "omg5r4tIFb1i",
        "colab_type": "text"
      },
      "source": [
        "## CNN 계층구성"
      ]
    },
    {
      "cell_type": "code",
      "metadata": {
        "id": "JXGjA_hLFadM",
        "colab_type": "code",
        "colab": {}
      },
      "source": [
        "# conv - (relu) - pooling\n",
        "# conv - (relu) - pooling\n",
        "# FC"
      ],
      "execution_count": 0,
      "outputs": []
    },
    {
      "cell_type": "code",
      "metadata": {
        "id": "lott8xPQFmec",
        "colab_type": "code",
        "outputId": "812a103d-9d87-4c56-8903-6cc543e77049",
        "colab": {
          "base_uri": "https://localhost:8080/",
          "height": 35
        }
      },
      "source": [
        "W1 = tf.Variable(tf.random_normal([3,3,1,32], stddev=0.01)) # 표준편차 0.01 32개필터 지정 W1커널\n",
        "L1 = tf.nn.conv2d(X, W1, strides=[1,1,1,1], padding='SAME')\n",
        "L1 = tf.nn.relu(L1) # 나온 결과에 활성화 함수 넣어준다\n",
        "L1 = tf.nn.max_pool(L1, ksize=[1,2,2,1], strides=[1,2,2,1],padding='SAME')  \n",
        "print(L1)"
      ],
      "execution_count": 0,
      "outputs": [
        {
          "output_type": "stream",
          "text": [
            "Tensor(\"MaxPool_1:0\", shape=(?, 14, 14, 32), dtype=float32)\n"
          ],
          "name": "stdout"
        }
      ]
    },
    {
      "cell_type": "code",
      "metadata": {
        "id": "IzXx0PbvGV5s",
        "colab_type": "code",
        "outputId": "e6c03154-4752-4b7b-e9fd-28677d9c3ce5",
        "colab": {
          "base_uri": "https://localhost:8080/",
          "height": 35
        }
      },
      "source": [
        "W2 = tf.Variable(tf.random_normal([3, 3, 32, 64], stddev=0.01))\n",
        "L2 = tf.nn.conv2d(L1, W2, strides=[1, 1, 1, 1], padding='SAME')\n",
        "L2 = tf.nn.relu(L2)\n",
        "L2 = tf.nn.max_pool(L2, ksize=[1, 2, 2, 1], strides=[1, 2, 2, 1], padding='SAME')\n",
        "print(L2)"
      ],
      "execution_count": 0,
      "outputs": [
        {
          "output_type": "stream",
          "text": [
            "Tensor(\"MaxPool_4:0\", shape=(?, 7, 7, 64), dtype=float32)\n"
          ],
          "name": "stdout"
        }
      ]
    },
    {
      "cell_type": "markdown",
      "metadata": {
        "id": "scdDTUmjGhXx",
        "colab_type": "text"
      },
      "source": [
        "- 앞의 풀링 계층의 크기가 7 X 7 X 64 이므로, tf.reshape함수를 이용. 1차원으로 만듬.\n",
        "- 인접한 계층의 모든 뉴런과 상호 연결된 계층을 완전 연결 계층(fully connect layer)라 한다\n",
        "- 마지막 층의 뉴런수는 256개"
      ]
    },
    {
      "cell_type": "code",
      "metadata": {
        "id": "sr0W4Yp6Ggoc",
        "colab_type": "code",
        "outputId": "f681879a-8d8f-470b-b0ab-9dc0b7dbb1e6",
        "colab": {
          "base_uri": "https://localhost:8080/",
          "height": 35
        }
      },
      "source": [
        "W3 = tf.Variable(tf.random_normal([7*7*64,256], stddev=0.01))\n",
        "L3 = tf.reshape(L2, [-1,7*7*64]) #fully connect layer로 연결시키기 위해 1차원으로 만들어줌\n",
        "L3 = tf.matmul(L3, W3)\n",
        "L3 = tf.nn.relu(L3)\n",
        "print(L3)"
      ],
      "execution_count": 0,
      "outputs": [
        {
          "output_type": "stream",
          "text": [
            "Tensor(\"Relu_5:0\", shape=(?, 256), dtype=float32)\n"
          ],
          "name": "stdout"
        }
      ]
    },
    {
      "cell_type": "code",
      "metadata": {
        "id": "pA67tzinHabh",
        "colab_type": "code",
        "colab": {}
      },
      "source": [
        "# 최종 출력값 L3 에서의 출력 256개를 입력값으로 받아서\n",
        "# 0~9 레이블인 10개의 출력값을 만듭니다.\n",
        "W4 = tf.Variable(tf.random_normal([256,10], stddev=0.01))\n",
        "model = tf.matmul(L3,W4)"
      ],
      "execution_count": 0,
      "outputs": []
    },
    {
      "cell_type": "markdown",
      "metadata": {
        "id": "wPa81jLjJ47E",
        "colab_type": "text"
      },
      "source": [
        "## 비용함수, 최적화 함수 구성"
      ]
    },
    {
      "cell_type": "code",
      "metadata": {
        "id": "iFgim3L-JwY9",
        "colab_type": "code",
        "colab": {}
      },
      "source": [
        "cost = tf.reduce_mean(tf.nn.softmax_cross_entropy_with_logits_v2(logits=model,labels=Y))\n",
        "optimizer = tf.train.AdamOptimizer(0.001).minimize(cost)"
      ],
      "execution_count": 0,
      "outputs": []
    },
    {
      "cell_type": "markdown",
      "metadata": {
        "id": "FScB0cCDOMdf",
        "colab_type": "text"
      },
      "source": [
        "## 신경망 모델 학습"
      ]
    },
    {
      "cell_type": "code",
      "metadata": {
        "id": "I1pHbhIgKNbO",
        "colab_type": "code",
        "colab": {}
      },
      "source": [
        "init = tf.global_variables_initializer()\n",
        "sess = tf.Session()\n",
        "sess.run(init)"
      ],
      "execution_count": 0,
      "outputs": []
    },
    {
      "cell_type": "code",
      "metadata": {
        "id": "hrXJXNO8OVX-",
        "colab_type": "code",
        "colab": {}
      },
      "source": [
        "batch_size = 100\n",
        "total_batch = int(mnist.train.num_examples / batch_size)"
      ],
      "execution_count": 0,
      "outputs": []
    },
    {
      "cell_type": "code",
      "metadata": {
        "id": "_K-kMEvwP-UL",
        "colab_type": "code",
        "colab": {}
      },
      "source": [
        "import numpy as np"
      ],
      "execution_count": 0,
      "outputs": []
    },
    {
      "cell_type": "markdown",
      "metadata": {
        "id": "jWjvGbNgOqPs",
        "colab_type": "text"
      },
      "source": [
        "1 epoch (데이터 전체 학습 한번 )만 돌리기"
      ]
    },
    {
      "cell_type": "code",
      "metadata": {
        "id": "SbJskCkMOgcG",
        "colab_type": "code",
        "outputId": "df77ec9d-8745-4728-df26-60f3cacb61f5",
        "colab": {
          "base_uri": "https://localhost:8080/",
          "height": 89
        }
      },
      "source": [
        "%%time\n",
        "\n",
        "total_cost = 0\n",
        "epoch = 0\n",
        "\n",
        "# 550번 학습\n",
        "\n",
        "for i in range(total_batch):\n",
        "  batch_xs, batch_ys = mnist.train.next_batch(batch_size) # batch_xs : 이미지 데이터 , batch_ys : 답(레이블) 데이터\n",
        "  batch_xs = batch_xs.reshape(-1, 28, 28, 1) # 이미지 데이터를 CNN 모델을 위한 자료형태인 [28 28 1] 의 형태로 재구성합니다.\n",
        "  _, cost_val = sess.run([optimizer, cost], feed_dict={X:batch_xs, Y: batch_ys})\n",
        "  total_cost += cost_val\n",
        "print('Epoch:', '%04d'% (epoch+1),'Avg.cost =', '{:3f}'.format(total_cost /total_batch)) #%04d - 0123\n",
        "\n",
        "print('최적화 완료(1epoch)')\n"
      ],
      "execution_count": 0,
      "outputs": [
        {
          "output_type": "stream",
          "text": [
            "Epoch: 0001 Avg.cost = 0.324646\n",
            "최적화 완료(1epoch)\n",
            "CPU times: user 1min 52s, sys: 1.46 s, total: 1min 54s\n",
            "Wall time: 59.2 s\n"
          ],
          "name": "stdout"
        }
      ]
    },
    {
      "cell_type": "code",
      "metadata": {
        "id": "_BRMFoDETSB9",
        "colab_type": "code",
        "colab": {}
      },
      "source": [
        ""
      ],
      "execution_count": 0,
      "outputs": []
    }
  ]
}