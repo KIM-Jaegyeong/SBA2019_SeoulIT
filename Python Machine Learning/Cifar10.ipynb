{
 "cells": [
  {
   "cell_type": "code",
   "execution_count": 0,
   "metadata": {
    "colab": {
     "base_uri": "https://localhost:8080/",
     "height": 35
    },
    "colab_type": "code",
    "executionInfo": {
     "elapsed": 2572,
     "status": "ok",
     "timestamp": 1570169594794,
     "user": {
      "displayName": "김태웅",
      "photoUrl": "",
      "userId": "06196795162879697734"
     },
     "user_tz": -540
    },
    "id": "JS3bUVG5qXSH",
    "outputId": "fd7a403f-7d7a-4208-e07d-c537d09bac67"
   },
   "outputs": [
    {
     "name": "stderr",
     "output_type": "stream",
     "text": [
      "Using TensorFlow backend.\n"
     ]
    }
   ],
   "source": [
    "from keras.datasets import cifar10\n",
    "import keras\n",
    "import tensorflow as tf\n",
    "import numpy as np\n",
    "import matplotlib.pyplot as plt"
   ]
  },
  {
   "cell_type": "code",
   "execution_count": 0,
   "metadata": {
    "colab": {},
    "colab_type": "code",
    "id": "14tzIr198AGn"
   },
   "outputs": [],
   "source": [
    "num_classes = 10"
   ]
  },
  {
   "cell_type": "code",
   "execution_count": 0,
   "metadata": {
    "colab": {},
    "colab_type": "code",
    "id": "yDJVL-ol_UPM"
   },
   "outputs": [],
   "source": [
    "label_names = ['airplane', 'automobile', 'bird', 'cat', 'deer', \n",
    "              'dog', 'frog', 'horse', 'ship', 'truck']"
   ]
  },
  {
   "cell_type": "code",
   "execution_count": 0,
   "metadata": {
    "colab": {
     "base_uri": "https://localhost:8080/",
     "height": 72
    },
    "colab_type": "code",
    "executionInfo": {
     "elapsed": 2724,
     "status": "ok",
     "timestamp": 1570169594983,
     "user": {
      "displayName": "김태웅",
      "photoUrl": "",
      "userId": "06196795162879697734"
     },
     "user_tz": -540
    },
    "id": "1eQbcJfp_d7H",
    "outputId": "b55ea979-b8d0-4947-a679-73ec283a35b5"
   },
   "outputs": [
    {
     "name": "stdout",
     "output_type": "stream",
     "text": [
      "X_train shape:  (50000, 32, 32, 3)\n",
      "50000 train samples\n",
      "10000 test samples\n"
     ]
    }
   ],
   "source": [
    "(X_train, y_train), (X_test, y_test) = cifar10.load_data()\n",
    "print('X_train shape: ', X_train.shape)\n",
    "print(X_train.shape[0], 'train samples')\n",
    "print(X_test.shape[0], 'test samples')"
   ]
  },
  {
   "cell_type": "code",
   "execution_count": 0,
   "metadata": {
    "colab": {},
    "colab_type": "code",
    "id": "8aBeuc4d_8VQ"
   },
   "outputs": [],
   "source": [
    "X_train_n = X_train.copy()\n",
    "y_train_n = y_train.copy()"
   ]
  },
  {
   "cell_type": "code",
   "execution_count": 0,
   "metadata": {
    "colab": {
     "base_uri": "https://localhost:8080/",
     "height": 35
    },
    "colab_type": "code",
    "executionInfo": {
     "elapsed": 3129,
     "status": "ok",
     "timestamp": 1570169595447,
     "user": {
      "displayName": "김태웅",
      "photoUrl": "",
      "userId": "06196795162879697734"
     },
     "user_tz": -540
    },
    "id": "RkJCJlOlAL1x",
    "outputId": "0dd4fffa-b13c-4666-838a-1c28c1b0e501"
   },
   "outputs": [
    {
     "name": "stdout",
     "output_type": "stream",
     "text": [
      "label = [6 9 9 4 1 1 2 7 8 3 4 7 7 2 9]\n"
     ]
    }
   ],
   "source": [
    "print('label = {}'.format(y_train[0:15, 0]))"
   ]
  },
  {
   "cell_type": "code",
   "execution_count": 0,
   "metadata": {
    "colab": {
     "base_uri": "https://localhost:8080/",
     "height": 35
    },
    "colab_type": "code",
    "executionInfo": {
     "elapsed": 3070,
     "status": "ok",
     "timestamp": 1570169595448,
     "user": {
      "displayName": "김태웅",
      "photoUrl": "",
      "userId": "06196795162879697734"
     },
     "user_tz": -540
    },
    "id": "CEVIQwKMAfNv",
    "outputId": "6260f28e-44ec-413d-b1d5-936ad9b4e659"
   },
   "outputs": [
    {
     "name": "stdout",
     "output_type": "stream",
     "text": [
      "label = frog\n"
     ]
    }
   ],
   "source": [
    "print('label = {}'.format(label_names[y_train[0, 0]]))"
   ]
  },
  {
   "cell_type": "code",
   "execution_count": 0,
   "metadata": {
    "colab": {
     "base_uri": "https://localhost:8080/",
     "height": 35
    },
    "colab_type": "code",
    "executionInfo": {
     "elapsed": 3051,
     "status": "ok",
     "timestamp": 1570169595449,
     "user": {
      "displayName": "김태웅",
      "photoUrl": "",
      "userId": "06196795162879697734"
     },
     "user_tz": -540
    },
    "id": "5lIfjdQYBcf1",
    "outputId": "5dc2d2ae-4791-4e46-e1d3-5802f6e4e467"
   },
   "outputs": [
    {
     "name": "stdout",
     "output_type": "stream",
     "text": [
      "label = truck\n"
     ]
    }
   ],
   "source": [
    "print('label = {}'.format(label_names[9]))"
   ]
  },
  {
   "cell_type": "code",
   "execution_count": 0,
   "metadata": {
    "colab": {
     "base_uri": "https://localhost:8080/",
     "height": 315
    },
    "colab_type": "code",
    "executionInfo": {
     "elapsed": 4614,
     "status": "ok",
     "timestamp": 1570169597038,
     "user": {
      "displayName": "김태웅",
      "photoUrl": "",
      "userId": "06196795162879697734"
     },
     "user_tz": -540
    },
    "id": "QJwrNxZKA1mv",
    "outputId": "e3cb4704-f5aa-48a2-8f6b-49430f310419"
   },
   "outputs": [
    {
     "name": "stdout",
     "output_type": "stream",
     "text": [
      "label = [6 9 9 4 1 1 2 7 8 3]\n"
     ]
    },
    {
     "data": {
      "image/png": "[encoded data removed]",
      "text/plain": [
       "<Figure size 720x360 with 10 Axes>"
      ]
     },
     "metadata": {
      "tags": []
     },
     "output_type": "display_data"
    }
   ],
   "source": [
    "print('label = {}'.format(y_train[0:10, 0]))\n",
    "\n",
    "fix, ax = plt.subplots(2, 5, figsize = (10, 5))\n",
    "\n",
    "for i in range(5):\n",
    "  ax[0][i].imshow(np.reshape(X_train[i], (32, 32, 3)))\n",
    "  ax[1][i].imshow(np.reshape(X_train[i + 5], (32, 32, 3)))"
   ]
  },
  {
   "cell_type": "code",
   "execution_count": 0,
   "metadata": {
    "colab": {},
    "colab_type": "code",
    "id": "05AqjZ94BNtH"
   },
   "outputs": [],
   "source": [
    "y_train = keras.utils.to_categorical(y_train, num_classes)\n",
    "y_test = keras.utils.to_categorical(y_test, num_classes)"
   ]
  },
  {
   "cell_type": "code",
   "execution_count": 0,
   "metadata": {
    "colab": {
     "base_uri": "https://localhost:8080/",
     "height": 181
    },
    "colab_type": "code",
    "executionInfo": {
     "elapsed": 4578,
     "status": "ok",
     "timestamp": 1570169597041,
     "user": {
      "displayName": "김태웅",
      "photoUrl": "",
      "userId": "06196795162879697734"
     },
     "user_tz": -540
    },
    "id": "XZniP038B1nv",
    "outputId": "c8b9dd16-fa08-4e13-d8cc-ec670440b440"
   },
   "outputs": [
    {
     "name": "stdout",
     "output_type": "stream",
     "text": [
      "(50000, 10) \n",
      "\n",
      " [[0. 0. 0. ... 0. 0. 0.]\n",
      " [0. 0. 0. ... 0. 1. 0.]\n",
      " [0. 0. 0. ... 0. 1. 0.]\n",
      " ...\n",
      " [0. 0. 0. ... 0. 0. 0.]\n",
      " [0. 1. 0. ... 0. 0. 0.]\n",
      " [0. 0. 0. ... 1. 0. 0.]]\n"
     ]
    }
   ],
   "source": [
    "print(y_train.shape,'\\n\\n',y_test)"
   ]
  },
  {
   "cell_type": "code",
   "execution_count": 0,
   "metadata": {
    "colab": {},
    "colab_type": "code",
    "id": "Lc5pUHcdCIRf"
   },
   "outputs": [],
   "source": [
    "X = tf.placeholder(tf.float32, [None, 32, 32, 3])\n",
    "Y = tf.placeholder(tf.float32, [None, 10])\n",
    "keep_prob = tf.placeholder(tf.float32)"
   ]
  },
  {
   "cell_type": "code",
   "execution_count": 0,
   "metadata": {
    "colab": {
     "base_uri": "https://localhost:8080/",
     "height": 35
    },
    "colab_type": "code",
    "executionInfo": {
     "elapsed": 4501,
     "status": "ok",
     "timestamp": 1570169597046,
     "user": {
      "displayName": "김태웅",
      "photoUrl": "",
      "userId": "06196795162879697734"
     },
     "user_tz": -540
    },
    "id": "b99xYVKJDB3i",
    "outputId": "89caed75-c743-4a95-933e-d3c442625332"
   },
   "outputs": [
    {
     "data": {
      "text/plain": [
       "<tf.Tensor 'Relu:0' shape=(?, 32, 32, 32) dtype=float32>"
      ]
     },
     "execution_count": 13,
     "metadata": {
      "tags": []
     },
     "output_type": "execute_result"
    }
   ],
   "source": [
    "# conv는 매트릭스로, pully는 벡터로 들어감\n",
    "W1 = tf.Variable(tf.random_normal([3, 3, 3, 32], stddev = 0.01))\n",
    "L1 = tf.nn.conv2d(X, W1, strides = [1, 1, 1, 1], padding = 'SAME')\n",
    "L1 = tf.nn.relu(L1) # activation function\n",
    "L1"
   ]
  },
  {
   "cell_type": "code",
   "execution_count": 0,
   "metadata": {
    "colab": {
     "base_uri": "https://localhost:8080/",
     "height": 110
    },
    "colab_type": "code",
    "executionInfo": {
     "elapsed": 4489,
     "status": "ok",
     "timestamp": 1570169597047,
     "user": {
      "displayName": "김태웅",
      "photoUrl": "",
      "userId": "06196795162879697734"
     },
     "user_tz": -540
    },
    "id": "Aq8l4RkIEZYL",
    "outputId": "084abb3b-29e1-4869-ddcd-ec5f7e71267c"
   },
   "outputs": [
    {
     "name": "stdout",
     "output_type": "stream",
     "text": [
      "WARNING:tensorflow:From <ipython-input-14-8eccc0418997>:2: calling dropout (from tensorflow.python.ops.nn_ops) with keep_prob is deprecated and will be removed in a future version.\n",
      "Instructions for updating:\n",
      "Please use `rate` instead of `keep_prob`. Rate should be set to `rate = 1 - keep_prob`.\n"
     ]
    },
    {
     "data": {
      "text/plain": [
       "<tf.Tensor 'dropout/mul_1:0' shape=(?, 16, 16, 32) dtype=float32>"
      ]
     },
     "execution_count": 14,
     "metadata": {
      "tags": []
     },
     "output_type": "execute_result"
    }
   ],
   "source": [
    "L1 = tf.nn.max_pool(L1, ksize = [1, 2, 2, 1], strides= [1, 2, 2, 1], padding = 'SAME')\n",
    "L1 = tf.nn.dropout(L1, keep_prob)\n",
    "L1"
   ]
  },
  {
   "cell_type": "markdown",
   "metadata": {
    "colab_type": "text",
    "id": "d32mdmkBZSas"
   },
   "source": []
  },
  {
   "cell_type": "markdown",
   "metadata": {
    "colab_type": "text",
    "id": "HVazqDroEkxW"
   },
   "source": [
    "### 신경망 CONV 3 * 3 * 64, activation function = relu, max_pool 2 * 2, strides = 2"
   ]
  },
  {
   "cell_type": "code",
   "execution_count": 0,
   "metadata": {
    "colab": {
     "base_uri": "https://localhost:8080/",
     "height": 35
    },
    "colab_type": "code",
    "executionInfo": {
     "elapsed": 4477,
     "status": "ok",
     "timestamp": 1570169597048,
     "user": {
      "displayName": "김태웅",
      "photoUrl": "",
      "userId": "06196795162879697734"
     },
     "user_tz": -540
    },
    "id": "qeVgKh9jE3z6",
    "outputId": "50c59b3e-f698-4725-d10f-d71953dc24ea"
   },
   "outputs": [
    {
     "data": {
      "text/plain": [
       "<tf.Tensor 'Relu_1:0' shape=(?, 16, 16, 64) dtype=float32>"
      ]
     },
     "execution_count": 15,
     "metadata": {
      "tags": []
     },
     "output_type": "execute_result"
    }
   ],
   "source": [
    "W2 = tf.Variable(tf.random_normal([3, 3, 32, 64], stddev = 0.01))\n",
    "L2 = tf.nn.conv2d(L1, W2, strides = [1, 1, 1, 1], padding = 'SAME')\n",
    "L2 = tf.nn.relu(L2)\n",
    "L2"
   ]
  },
  {
   "cell_type": "code",
   "execution_count": 0,
   "metadata": {
    "colab": {
     "base_uri": "https://localhost:8080/",
     "height": 35
    },
    "colab_type": "code",
    "executionInfo": {
     "elapsed": 4465,
     "status": "ok",
     "timestamp": 1570169597049,
     "user": {
      "displayName": "김태웅",
      "photoUrl": "",
      "userId": "06196795162879697734"
     },
     "user_tz": -540
    },
    "id": "kWHxFZk2E39m",
    "outputId": "f2f451d4-05e1-4966-f87f-0c04cf872265"
   },
   "outputs": [
    {
     "data": {
      "text/plain": [
       "<tf.Tensor 'dropout_1/mul_1:0' shape=(?, 8, 8, 64) dtype=float32>"
      ]
     },
     "execution_count": 16,
     "metadata": {
      "tags": []
     },
     "output_type": "execute_result"
    }
   ],
   "source": [
    "L2 = tf.nn.max_pool(L2, ksize = [1, 2, 2, 1], strides = [1, 2, 2, 1], padding = 'SAME')\n",
    "L2 = tf.nn.dropout(L2, keep_prob)\n",
    "L2"
   ]
  },
  {
   "cell_type": "markdown",
   "metadata": {
    "colab_type": "text",
    "id": "kLxzH8y4EyUG"
   },
   "source": [
    "### 신경망 CONV 3 * 3 * 128, activation function = relu, max_pool 2 * 2, strides = 2"
   ]
  },
  {
   "cell_type": "code",
   "execution_count": 0,
   "metadata": {
    "colab": {
     "base_uri": "https://localhost:8080/",
     "height": 35
    },
    "colab_type": "code",
    "executionInfo": {
     "elapsed": 4454,
     "status": "ok",
     "timestamp": 1570169597050,
     "user": {
      "displayName": "김태웅",
      "photoUrl": "",
      "userId": "06196795162879697734"
     },
     "user_tz": -540
    },
    "id": "q6KRlR1-E4m_",
    "outputId": "e977afb1-fc81-49f8-9eca-021fc3bdc1d3"
   },
   "outputs": [
    {
     "data": {
      "text/plain": [
       "<tf.Tensor 'Relu_2:0' shape=(?, 8, 8, 128) dtype=float32>"
      ]
     },
     "execution_count": 17,
     "metadata": {
      "tags": []
     },
     "output_type": "execute_result"
    }
   ],
   "source": [
    "W3 = tf.Variable(tf.random_normal([3, 3, 64, 128], stddev = 0.01))\n",
    "L3 = tf.nn.conv2d(L2, W3, strides = [1, 1, 1, 1], padding = 'SAME')\n",
    "L3 = tf.nn.relu(L3)\n",
    "L3"
   ]
  },
  {
   "cell_type": "code",
   "execution_count": 0,
   "metadata": {
    "colab": {
     "base_uri": "https://localhost:8080/",
     "height": 35
    },
    "colab_type": "code",
    "executionInfo": {
     "elapsed": 4443,
     "status": "ok",
     "timestamp": 1570169597051,
     "user": {
      "displayName": "김태웅",
      "photoUrl": "",
      "userId": "06196795162879697734"
     },
     "user_tz": -540
    },
    "id": "rx6z-fYrE4we",
    "outputId": "e3a812ad-a3f0-4f4a-b21a-befae1bef4f9"
   },
   "outputs": [
    {
     "data": {
      "text/plain": [
       "<tf.Tensor 'dropout_2/mul_1:0' shape=(?, 4, 4, 128) dtype=float32>"
      ]
     },
     "execution_count": 18,
     "metadata": {
      "tags": []
     },
     "output_type": "execute_result"
    }
   ],
   "source": [
    "L3 = tf.nn.max_pool(L3, ksize = [1, 2, 2, 1], strides = [1, 2, 2, 1], padding = 'SAME')\n",
    "L3 = tf.nn.dropout(L3, keep_prob)\n",
    "L3   "
   ]
  },
  {
   "cell_type": "code",
   "execution_count": 0,
   "metadata": {
    "colab": {
     "base_uri": "https://localhost:8080/",
     "height": 35
    },
    "colab_type": "code",
    "executionInfo": {
     "elapsed": 4431,
     "status": "ok",
     "timestamp": 1570169597052,
     "user": {
      "displayName": "김태웅",
      "photoUrl": "",
      "userId": "06196795162879697734"
     },
     "user_tz": -540
    },
    "id": "oaDWIbTTE44O",
    "outputId": "30ac8cc1-39ab-4316-b077-b9f7cad322df"
   },
   "outputs": [
    {
     "data": {
      "text/plain": [
       "<tf.Tensor 'dropout_3/mul_1:0' shape=(?, 256) dtype=float32>"
      ]
     },
     "execution_count": 19,
     "metadata": {
      "tags": []
     },
     "output_type": "execute_result"
    }
   ],
   "source": [
    "W4 = tf.Variable(tf.random_normal([4 * 4 * 128, 256], stddev = 0.01))\n",
    "L4 = tf.reshape(L3, [-1, 4 * 4 * 128])\n",
    "L4 = tf.matmul(L4, W4)\n",
    "L4 = tf.nn.relu(L4)\n",
    "L4 = tf.nn.dropout(L4, keep_prob)\n",
    "L4"
   ]
  },
  {
   "cell_type": "code",
   "execution_count": 0,
   "metadata": {
    "colab": {
     "base_uri": "https://localhost:8080/",
     "height": 35
    },
    "colab_type": "code",
    "executionInfo": {
     "elapsed": 4418,
     "status": "ok",
     "timestamp": 1570169597052,
     "user": {
      "displayName": "김태웅",
      "photoUrl": "",
      "userId": "06196795162879697734"
     },
     "user_tz": -540
    },
    "id": "o7zvS4-RHMcb",
    "outputId": "f99d379c-b19e-4be2-c094-7a5a21a8d7f1"
   },
   "outputs": [
    {
     "data": {
      "text/plain": [
       "<tf.Tensor 'dropout_4/mul_1:0' shape=(?, 10) dtype=float32>"
      ]
     },
     "execution_count": 20,
     "metadata": {
      "tags": []
     },
     "output_type": "execute_result"
    }
   ],
   "source": [
    "W5 = tf.Variable(tf.random_normal([256, 10], stddev = 0.01))\n",
    "model = tf.matmul(L4, W5)\n",
    "model = tf.nn.dropout(model, keep_prob)\n",
    "model"
   ]
  },
  {
   "cell_type": "code",
   "execution_count": 0,
   "metadata": {
    "colab": {},
    "colab_type": "code",
    "id": "5g8PFZNqHdPm"
   },
   "outputs": [],
   "source": [
    "cost = tf.reduce_mean(tf.nn.softmax_cross_entropy_with_logits_v2(logits = model, \n",
    "                                                                 labels = Y))\n",
    "optimizer = tf.train.AdamOptimizer(0.001).minimize(cost)"
   ]
  },
  {
   "cell_type": "code",
   "execution_count": 0,
   "metadata": {
    "colab": {},
    "colab_type": "code",
    "id": "ajgph9_PHsTm"
   },
   "outputs": [],
   "source": [
    "init = tf.global_variables_initializer()\n",
    "sess = tf.Session()\n",
    "sess.run(init)"
   ]
  },
  {
   "cell_type": "code",
   "execution_count": 0,
   "metadata": {
    "colab": {
     "base_uri": "https://localhost:8080/",
     "height": 35
    },
    "colab_type": "code",
    "executionInfo": {
     "elapsed": 5453,
     "status": "ok",
     "timestamp": 1570169598106,
     "user": {
      "displayName": "김태웅",
      "photoUrl": "",
      "userId": "06196795162879697734"
     },
     "user_tz": -540
    },
    "id": "s6mcD0QvHybu",
    "outputId": "ca617c1b-5e2a-4ee2-9dcc-fbe7ab1b2301"
   },
   "outputs": [
    {
     "name": "stdout",
     "output_type": "stream",
     "text": [
      "500\n"
     ]
    }
   ],
   "source": [
    "batch_size = 100\n",
    "total_batch = int(X_train.shape[0] / batch_size)\n",
    "print(total_batch)"
   ]
  },
  {
   "cell_type": "code",
   "execution_count": 0,
   "metadata": {
    "colab": {},
    "colab_type": "code",
    "id": "0MWebr8HIA52"
   },
   "outputs": [],
   "source": [
    "# 값을 가져오는 시작 위치: start.\n",
    "# 몇 개를 가져올 것인가: num\n",
    "# data: 우리가 사용하는 입력 데이터(입력)\n",
    "# labels: 우리가 사용하는 데이터(출력)\n",
    "def next_batch(start, num, data, labels):\n",
    "  data_X = data[start:start + num]\n",
    "  data_y = labels[start:start + num]\n",
    "\n",
    "  return np.asarray(data_X), np.asarray(data_y)"
   ]
  },
  {
   "cell_type": "code",
   "execution_count": 0,
   "metadata": {
    "colab": {
     "base_uri": "https://localhost:8080/",
     "height": 35
    },
    "colab_type": "code",
    "executionInfo": {
     "elapsed": 5438,
     "status": "ok",
     "timestamp": 1570169598107,
     "user": {
      "displayName": "김태웅",
      "photoUrl": "",
      "userId": "06196795162879697734"
     },
     "user_tz": -540
    },
    "id": "i0ubGU_XIYy5",
    "outputId": "2145d924-4105-4adb-eaa0-796734150a47"
   },
   "outputs": [
    {
     "name": "stdout",
     "output_type": "stream",
     "text": [
      "(50000, 32, 32, 3) (50000, 10)\n"
     ]
    }
   ],
   "source": [
    "print(X_train.shape, y_train.shape)"
   ]
  },
  {
   "cell_type": "code",
   "execution_count": 0,
   "metadata": {
    "colab": {
     "base_uri": "https://localhost:8080/",
     "height": 235
    },
    "colab_type": "code",
    "executionInfo": {
     "elapsed": 5427,
     "status": "ok",
     "timestamp": 1570169598108,
     "user": {
      "displayName": "김태웅",
      "photoUrl": "",
      "userId": "06196795162879697734"
     },
     "user_tz": -540
    },
    "id": "m0zKoz4cPWsp",
    "outputId": "3b422b83-94d9-442e-9e9a-df719cea8d15"
   },
   "outputs": [
    {
     "name": "stdout",
     "output_type": "stream",
     "text": [
      "(10, 32, 32, 3) \n",
      "\n",
      " [[0. 0. 0. 0. 0. 0. 1. 0. 0. 0.]\n",
      " [0. 0. 0. 0. 0. 0. 0. 0. 0. 1.]\n",
      " [0. 0. 0. 0. 0. 0. 0. 0. 0. 1.]\n",
      " [0. 0. 0. 0. 1. 0. 0. 0. 0. 0.]\n",
      " [0. 1. 0. 0. 0. 0. 0. 0. 0. 0.]\n",
      " [0. 1. 0. 0. 0. 0. 0. 0. 0. 0.]\n",
      " [0. 0. 1. 0. 0. 0. 0. 0. 0. 0.]\n",
      " [0. 0. 0. 0. 0. 0. 0. 1. 0. 0.]\n",
      " [0. 0. 0. 0. 0. 0. 0. 0. 1. 0.]\n",
      " [0. 0. 0. 1. 0. 0. 0. 0. 0. 0.]]\n"
     ]
    }
   ],
   "source": [
    "batch_x, batch_y = next_batch(0, 10, X_train, y_train)\n",
    "print(batch_x.shape, '\\n\\n', batch_y)"
   ]
  },
  {
   "cell_type": "code",
   "execution_count": 0,
   "metadata": {
    "colab": {
     "base_uri": "https://localhost:8080/",
     "height": 1000
    },
    "colab_type": "code",
    "executionInfo": {
     "elapsed": 577595,
     "status": "ok",
     "timestamp": 1570170170294,
     "user": {
      "displayName": "김태웅",
      "photoUrl": "",
      "userId": "06196795162879697734"
     },
     "user_tz": -540
    },
    "id": "E5JYxkvnPkT0",
    "outputId": "fad71670-a26a-4640-be15-ffb2589792b7"
   },
   "outputs": [
    {
     "name": "stdout",
     "output_type": "stream",
     "text": [
      "all input data:  (50000, 32, 32, 3)\n",
      "all output data:  (50000, 10)\n",
      "data_step = 0 \t Avg. cost = 2.300\n",
      "data_step = 499 \t Avg. cost = 1.729\n",
      "data_step = 0 \t Avg. cost = 1.512\n",
      "data_step = 499 \t Avg. cost = 1.648\n",
      "data_step = 0 \t Avg. cost = 1.640\n",
      "data_step = 499 \t Avg. cost = 1.534\n",
      "data_step = 0 \t Avg. cost = 1.277\n",
      "data_step = 499 \t Avg. cost = 1.270\n",
      "data_step = 0 \t Avg. cost = 1.305\n",
      "data_step = 499 \t Avg. cost = 1.255\n",
      "data_step = 0 \t Avg. cost = 1.266\n",
      "data_step = 499 \t Avg. cost = 1.194\n",
      "data_step = 0 \t Avg. cost = 1.204\n",
      "data_step = 499 \t Avg. cost = 1.209\n",
      "data_step = 0 \t Avg. cost = 1.250\n",
      "data_step = 499 \t Avg. cost = 1.362\n",
      "data_step = 0 \t Avg. cost = 1.229\n",
      "data_step = 499 \t Avg. cost = 1.459\n",
      "data_step = 0 \t Avg. cost = 1.279\n",
      "data_step = 499 \t Avg. cost = 1.235\n",
      "data_step = 0 \t Avg. cost = 1.136\n",
      "data_step = 499 \t Avg. cost = 1.163\n",
      "data_step = 0 \t Avg. cost = 0.997\n",
      "data_step = 499 \t Avg. cost = 1.040\n",
      "data_step = 0 \t Avg. cost = 1.140\n",
      "data_step = 499 \t Avg. cost = 1.209\n",
      "data_step = 0 \t Avg. cost = 0.978\n",
      "data_step = 499 \t Avg. cost = 1.025\n",
      "data_step = 0 \t Avg. cost = 1.181\n",
      "data_step = 499 \t Avg. cost = 1.087\n",
      "data_step = 0 \t Avg. cost = 1.183\n",
      "data_step = 499 \t Avg. cost = 1.088\n",
      "data_step = 0 \t Avg. cost = 1.206\n",
      "data_step = 499 \t Avg. cost = 1.093\n",
      "data_step = 0 \t Avg. cost = 1.197\n",
      "data_step = 499 \t Avg. cost = 1.152\n",
      "data_step = 0 \t Avg. cost = 1.068\n",
      "data_step = 499 \t Avg. cost = 1.120\n",
      "data_step = 0 \t Avg. cost = 0.985\n",
      "data_step = 499 \t Avg. cost = 1.031\n",
      "data_step = 0 \t Avg. cost = 1.060\n",
      "data_step = 499 \t Avg. cost = 1.093\n",
      "data_step = 0 \t Avg. cost = 1.038\n",
      "data_step = 499 \t Avg. cost = 1.143\n",
      "data_step = 0 \t Avg. cost = 1.069\n",
      "data_step = 499 \t Avg. cost = 1.110\n",
      "data_step = 0 \t Avg. cost = 0.989\n",
      "data_step = 499 \t Avg. cost = 0.942\n",
      "data_step = 0 \t Avg. cost = 1.130\n",
      "data_step = 499 \t Avg. cost = 0.976\n",
      "data_step = 0 \t Avg. cost = 1.025\n",
      "data_step = 499 \t Avg. cost = 1.120\n",
      "data_step = 0 \t Avg. cost = 1.132\n",
      "data_step = 499 \t Avg. cost = 0.935\n",
      "data_step = 0 \t Avg. cost = 1.110\n",
      "data_step = 499 \t Avg. cost = 1.083\n",
      "data_step = 0 \t Avg. cost = 1.169\n",
      "data_step = 499 \t Avg. cost = 1.148\n",
      "data_step = 0 \t Avg. cost = 1.139\n",
      "data_step = 499 \t Avg. cost = 1.038\n",
      "data_step = 0 \t Avg. cost = 1.152\n",
      "data_step = 499 \t Avg. cost = 0.894\n",
      "data_step = 0 \t Avg. cost = 1.018\n",
      "data_step = 499 \t Avg. cost = 0.878\n",
      "data_step = 0 \t Avg. cost = 0.850\n",
      "data_step = 499 \t Avg. cost = 0.890\n",
      "data_step = 0 \t Avg. cost = 1.114\n",
      "data_step = 499 \t Avg. cost = 1.052\n",
      "data_step = 0 \t Avg. cost = 0.957\n",
      "data_step = 499 \t Avg. cost = 0.917\n",
      "data_step = 0 \t Avg. cost = 0.906\n",
      "data_step = 499 \t Avg. cost = 0.934\n",
      "data_step = 0 \t Avg. cost = 0.964\n",
      "data_step = 499 \t Avg. cost = 1.123\n",
      "data_step = 0 \t Avg. cost = 0.947\n",
      "data_step = 499 \t Avg. cost = 1.065\n",
      "data_step = 0 \t Avg. cost = 1.052\n",
      "data_step = 499 \t Avg. cost = 1.162\n",
      "data_step = 0 \t Avg. cost = 1.216\n",
      "data_step = 499 \t Avg. cost = 1.060\n",
      "data_step = 0 \t Avg. cost = 0.861\n",
      "data_step = 499 \t Avg. cost = 0.778\n",
      "data_step = 0 \t Avg. cost = 0.906\n",
      "data_step = 499 \t Avg. cost = 0.940\n",
      "data_step = 0 \t Avg. cost = 0.995\n",
      "data_step = 499 \t Avg. cost = 1.027\n",
      "data_step = 0 \t Avg. cost = 0.868\n",
      "data_step = 499 \t Avg. cost = 1.056\n",
      "data_step = 0 \t Avg. cost = 1.206\n",
      "data_step = 499 \t Avg. cost = 1.118\n",
      "data_step = 0 \t Avg. cost = 1.220\n",
      "data_step = 499 \t Avg. cost = 1.031\n",
      "data_step = 0 \t Avg. cost = 1.068\n",
      "data_step = 499 \t Avg. cost = 0.927\n",
      "data_step = 0 \t Avg. cost = 1.108\n",
      "data_step = 499 \t Avg. cost = 0.831\n",
      "data_step = 0 \t Avg. cost = 1.005\n",
      "data_step = 499 \t Avg. cost = 1.074\n",
      "data_step = 0 \t Avg. cost = 0.907\n",
      "data_step = 499 \t Avg. cost = 0.798\n",
      "data_step = 0 \t Avg. cost = 0.773\n",
      "data_step = 499 \t Avg. cost = 1.041\n",
      "data_step = 0 \t Avg. cost = 1.083\n",
      "data_step = 499 \t Avg. cost = 0.953\n",
      "data_step = 0 \t Avg. cost = 0.893\n",
      "data_step = 499 \t Avg. cost = 0.861\n",
      "data_step = 0 \t Avg. cost = 0.848\n",
      "data_step = 499 \t Avg. cost = 1.031\n",
      "data_step = 0 \t Avg. cost = 0.891\n",
      "data_step = 499 \t Avg. cost = 0.880\n",
      "data_step = 0 \t Avg. cost = 1.080\n",
      "data_step = 499 \t Avg. cost = 0.947\n",
      "data_step = 0 \t Avg. cost = 1.036\n",
      "data_step = 499 \t Avg. cost = 0.935\n",
      "data_step = 0 \t Avg. cost = 0.877\n",
      "data_step = 499 \t Avg. cost = 0.925\n",
      "data_step = 0 \t Avg. cost = 0.916\n",
      "data_step = 499 \t Avg. cost = 1.126\n",
      "data_step = 0 \t Avg. cost = 0.749\n",
      "data_step = 499 \t Avg. cost = 1.125\n",
      "data_step = 0 \t Avg. cost = 0.898\n",
      "data_step = 499 \t Avg. cost = 0.843\n",
      "data_step = 0 \t Avg. cost = 0.676\n",
      "data_step = 499 \t Avg. cost = 0.919\n",
      "data_step = 0 \t Avg. cost = 0.906\n",
      "data_step = 499 \t Avg. cost = 0.899\n",
      "data_step = 0 \t Avg. cost = 0.890\n",
      "data_step = 499 \t Avg. cost = 0.983\n",
      "data_step = 0 \t Avg. cost = 0.845\n",
      "data_step = 499 \t Avg. cost = 0.978\n",
      "data_step = 0 \t Avg. cost = 0.805\n",
      "data_step = 499 \t Avg. cost = 0.971\n",
      "data_step = 0 \t Avg. cost = 1.046\n",
      "data_step = 499 \t Avg. cost = 1.045\n",
      "data_step = 0 \t Avg. cost = 1.055\n",
      "data_step = 499 \t Avg. cost = 0.721\n",
      "data_step = 0 \t Avg. cost = 0.796\n",
      "data_step = 499 \t Avg. cost = 1.208\n",
      "data_step = 0 \t Avg. cost = 0.818\n",
      "data_step = 499 \t Avg. cost = 1.094\n",
      "data_step = 0 \t Avg. cost = 0.923\n",
      "data_step = 499 \t Avg. cost = 0.679\n",
      "data_step = 0 \t Avg. cost = 0.754\n",
      "data_step = 499 \t Avg. cost = 0.896\n",
      "data_step = 0 \t Avg. cost = 0.929\n",
      "data_step = 499 \t Avg. cost = 0.975\n",
      "data_step = 0 \t Avg. cost = 0.955\n",
      "data_step = 499 \t Avg. cost = 0.778\n",
      "data_step = 0 \t Avg. cost = 1.087\n",
      "data_step = 499 \t Avg. cost = 0.859\n",
      "data_step = 0 \t Avg. cost = 0.698\n",
      "data_step = 499 \t Avg. cost = 0.864\n",
      "data_step = 0 \t Avg. cost = 0.862\n",
      "data_step = 499 \t Avg. cost = 1.020\n",
      "data_step = 0 \t Avg. cost = 1.012\n",
      "data_step = 499 \t Avg. cost = 0.897\n",
      "data_step = 0 \t Avg. cost = 0.766\n",
      "data_step = 499 \t Avg. cost = 0.934\n",
      "data_step = 0 \t Avg. cost = 0.809\n",
      "data_step = 499 \t Avg. cost = 0.818\n",
      "data_step = 0 \t Avg. cost = 0.924\n",
      "data_step = 499 \t Avg. cost = 0.715\n",
      "data_step = 0 \t Avg. cost = 1.020\n",
      "data_step = 499 \t Avg. cost = 0.748\n",
      "data_step = 0 \t Avg. cost = 0.937\n",
      "data_step = 499 \t Avg. cost = 0.971\n",
      "data_step = 0 \t Avg. cost = 0.825\n",
      "data_step = 499 \t Avg. cost = 0.835\n",
      "data_step = 0 \t Avg. cost = 0.819\n",
      "data_step = 499 \t Avg. cost = 0.840\n",
      "data_step = 0 \t Avg. cost = 0.881\n",
      "data_step = 499 \t Avg. cost = 1.036\n",
      "data_step = 0 \t Avg. cost = 1.056\n",
      "data_step = 499 \t Avg. cost = 0.802\n",
      "data_step = 0 \t Avg. cost = 0.871\n",
      "data_step = 499 \t Avg. cost = 0.797\n",
      "data_step = 0 \t Avg. cost = 1.018\n",
      "data_step = 499 \t Avg. cost = 0.937\n",
      "data_step = 0 \t Avg. cost = 0.829\n",
      "data_step = 499 \t Avg. cost = 0.756\n",
      "data_step = 0 \t Avg. cost = 1.095\n",
      "data_step = 499 \t Avg. cost = 0.930\n",
      "data_step = 0 \t Avg. cost = 1.001\n",
      "data_step = 499 \t Avg. cost = 0.699\n",
      "data_step = 0 \t Avg. cost = 0.965\n",
      "data_step = 499 \t Avg. cost = 0.748\n",
      "data_step = 0 \t Avg. cost = 0.867\n",
      "data_step = 499 \t Avg. cost = 0.719\n",
      "data_step = 0 \t Avg. cost = 0.694\n",
      "data_step = 499 \t Avg. cost = 0.942\n",
      "data_step = 0 \t Avg. cost = 0.671\n",
      "data_step = 499 \t Avg. cost = 0.975\n",
      "data_step = 0 \t Avg. cost = 0.826\n",
      "data_step = 499 \t Avg. cost = 0.873\n",
      "data_step = 0 \t Avg. cost = 0.734\n",
      "data_step = 499 \t Avg. cost = 1.002\n",
      "data_step = 0 \t Avg. cost = 0.987\n",
      "data_step = 499 \t Avg. cost = 1.020\n",
      "data_step = 0 \t Avg. cost = 0.701\n",
      "data_step = 499 \t Avg. cost = 1.018\n",
      "epoch: 100 \t total.cost = 433.465\n"
     ]
    }
   ],
   "source": [
    "total_cost = 0\n",
    "epoch = 100\n",
    "print('all input data: ', X_train.shape)\n",
    "print('all output data: ', y_train.shape)\n",
    "\n",
    "for j in range(epoch):\n",
    "  total_cost = 0\n",
    "  for i in range(total_batch):\n",
    "    batch_xs, batch_ys = next_batch(batch_size * i, batch_size, X_train, y_train)\n",
    "    _, cost_val = sess.run([optimizer, cost], feed_dict = {X: batch_xs, Y: batch_ys,\n",
    "                                                           keep_prob: 0.8})\n",
    "    total_cost += cost_val\n",
    "\n",
    "    if (i == 0 or i == total_batch - 1):\n",
    "      print('data_step = {} \\t Avg. cost = {:.3f}'.format(i, cost_val))\n",
    "print('epoch: {} \\t total.cost = {:.3f}'.format(epoch, total_cost))\n",
    "      \n"
   ]
  },
  {
   "cell_type": "code",
   "execution_count": 0,
   "metadata": {
    "colab": {
     "base_uri": "https://localhost:8080/",
     "height": 35
    },
    "colab_type": "code",
    "executionInfo": {
     "elapsed": 2321,
     "status": "ok",
     "timestamp": 1570170585375,
     "user": {
      "displayName": "김태웅",
      "photoUrl": "",
      "userId": "06196795162879697734"
     },
     "user_tz": -540
    },
    "id": "sTLX-L10QY4a",
    "outputId": "de707dfe-45d2-4800-c82b-6c8038ef2f37"
   },
   "outputs": [
    {
     "name": "stdout",
     "output_type": "stream",
     "text": [
      "정확도: 0.9014\n"
     ]
    }
   ],
   "source": [
    "is_correct = tf.equal(tf.argmax(model, 1), tf.argmax(Y, 1))\n",
    "accuracy = tf.reduce_mean(tf.cast(is_correct, tf.float32))\n",
    "print('정확도:', sess.run(accuracy,\n",
    "feed_dict={X: X_train,\n",
    "Y: y_train,\n",
    "keep_prob: 1}))"
   ]
  },
  {
   "cell_type": "code",
   "execution_count": 0,
   "metadata": {
    "colab": {
     "base_uri": "https://localhost:8080/",
     "height": 35
    },
    "colab_type": "code",
    "executionInfo": {
     "elapsed": 2391,
     "status": "ok",
     "timestamp": 1570170585774,
     "user": {
      "displayName": "김태웅",
      "photoUrl": "",
      "userId": "06196795162879697734"
     },
     "user_tz": -540
    },
    "id": "YYeZUPA7RAT0",
    "outputId": "a9243c82-6b39-4f8d-c7cb-675c47f71776"
   },
   "outputs": [
    {
     "name": "stdout",
     "output_type": "stream",
     "text": [
      "정확도: 0.7557\n"
     ]
    }
   ],
   "source": [
    "is_correct = tf.equal(tf.argmax(model, 1), tf.argmax(Y, 1))\n",
    "accuracy = tf.reduce_mean(tf.cast(is_correct, tf.float32))\n",
    "print('정확도:', sess.run(accuracy,\n",
    "feed_dict={X: X_test,\n",
    "Y: y_test,\n",
    "keep_prob: 1}))"
   ]
  },
  {
   "cell_type": "code",
   "execution_count": 0,
   "metadata": {
    "colab": {},
    "colab_type": "code",
    "id": "WNvoPjS9RBw8"
   },
   "outputs": [],
   "source": [
    "import cv2"
   ]
  },
  {
   "cell_type": "code",
   "execution_count": 0,
   "metadata": {
    "colab": {
     "base_uri": "https://localhost:8080/",
     "height": 35
    },
    "colab_type": "code",
    "executionInfo": {
     "elapsed": 453,
     "status": "ok",
     "timestamp": 1570170803017,
     "user": {
      "displayName": "김태웅",
      "photoUrl": "",
      "userId": "06196795162879697734"
     },
     "user_tz": -540
    },
    "id": "9g7Kozoydzlk",
    "outputId": "4aef2d3d-2624-416b-8e34-67292d8afb73"
   },
   "outputs": [
    {
     "name": "stdout",
     "output_type": "stream",
     "text": [
      "(703, 705, 3)\n"
     ]
    }
   ],
   "source": [
    "image_w = 32\n",
    "image_h = 32\n",
    "img = cv2.imread('ss.jpg')\n",
    "print(img.shape)"
   ]
  },
  {
   "cell_type": "code",
   "execution_count": 0,
   "metadata": {
    "colab": {
     "base_uri": "https://localhost:8080/",
     "height": 287
    },
    "colab_type": "code",
    "executionInfo": {
     "elapsed": 877,
     "status": "ok",
     "timestamp": 1570170828910,
     "user": {
      "displayName": "김태웅",
      "photoUrl": "",
      "userId": "06196795162879697734"
     },
     "user_tz": -540
    },
    "id": "aW5umMbGd6Ia",
    "outputId": "5f655d74-7f5e-48cd-a56d-2322be01958e"
   },
   "outputs": [
    {
     "data": {
      "text/plain": [
       "<matplotlib.image.AxesImage at 0x7f19a053fd68>"
      ]
     },
     "execution_count": 38,
     "metadata": {
      "tags": []
     },
     "output_type": "execute_result"
    },
    {
     "data": {
      "image/png": "[encoded data removed]",
      "text/plain": [
       "<Figure size 432x288 with 1 Axes>"
      ]
     },
     "metadata": {
      "tags": []
     },
     "output_type": "display_data"
    }
   ],
   "source": [
    "plt.imshow(img)"
   ]
  },
  {
   "cell_type": "code",
   "execution_count": 0,
   "metadata": {
    "colab": {},
    "colab_type": "code",
    "id": "-9p3ZARdeY-U"
   },
   "outputs": [],
   "source": [
    "img = cv2.resize(img, None, fx=image_w/img.shape[1], fy=image_h/img.shape[0])"
   ]
  },
  {
   "cell_type": "code",
   "execution_count": 0,
   "metadata": {
    "colab": {
     "base_uri": "https://localhost:8080/",
     "height": 287
    },
    "colab_type": "code",
    "executionInfo": {
     "elapsed": 747,
     "status": "ok",
     "timestamp": 1570171092484,
     "user": {
      "displayName": "김태웅",
      "photoUrl": "",
      "userId": "06196795162879697734"
     },
     "user_tz": -540
    },
    "id": "UYdZTihkekY6",
    "outputId": "6cc7782f-b8ca-4ec8-debb-bd17ae1786ac"
   },
   "outputs": [
    {
     "data": {
      "text/plain": [
       "<matplotlib.image.AxesImage at 0x7f19a00f36d8>"
      ]
     },
     "execution_count": 48,
     "metadata": {
      "tags": []
     },
     "output_type": "execute_result"
    },
    {
     "data": {
      "image/png": "[encoded data removed]",
      "text/plain": [
       "<Figure size 432x288 with 1 Axes>"
      ]
     },
     "metadata": {
      "tags": []
     },
     "output_type": "display_data"
    }
   ],
   "source": [
    "plt.imshow(img)"
   ]
  },
  {
   "cell_type": "code",
   "execution_count": 0,
   "metadata": {
    "colab": {
     "base_uri": "https://localhost:8080/",
     "height": 72
    },
    "colab_type": "code",
    "executionInfo": {
     "elapsed": 477,
     "status": "ok",
     "timestamp": 1570171115964,
     "user": {
      "displayName": "김태웅",
      "photoUrl": "",
      "userId": "06196795162879697734"
     },
     "user_tz": -540
    },
    "id": "pgvFCIcOfcUy",
    "outputId": "bf54dfbb-620a-4543-9121-7c74389bc8fb"
   },
   "outputs": [
    {
     "name": "stdout",
     "output_type": "stream",
     "text": [
      "(32, 32, 3)\n",
      "(1, 3072)\n"
     ]
    },
    {
     "data": {
      "text/plain": [
       "array([[235, 215, 157, ..., 235, 215, 157]], dtype=uint8)"
      ]
     },
     "execution_count": 49,
     "metadata": {
      "tags": []
     },
     "output_type": "execute_result"
    }
   ],
   "source": [
    "print(img.shape)\n",
    "img_re = img.reshape(1, 32*32*3)\n",
    "# img_re = img_re.astype('float32') / 255.0\n",
    "print(img_re.shape)\n",
    "img_re"
   ]
  },
  {
   "cell_type": "code",
   "execution_count": 0,
   "metadata": {
    "colab": {
     "base_uri": "https://localhost:8080/",
     "height": 199
    },
    "colab_type": "code",
    "executionInfo": {
     "elapsed": 526,
     "status": "ok",
     "timestamp": 1570171195160,
     "user": {
      "displayName": "김태웅",
      "photoUrl": "",
      "userId": "06196795162879697734"
     },
     "user_tz": -540
    },
    "id": "XnuIHwdsfvxK",
    "outputId": "4409632c-3f14-4222-c9dd-d13719c3f525"
   },
   "outputs": [
    {
     "data": {
      "text/plain": [
       "['airplane',\n",
       " 'automobile',\n",
       " 'bird',\n",
       " 'cat',\n",
       " 'deer',\n",
       " 'dog',\n",
       " 'frog',\n",
       " 'horse',\n",
       " 'ship',\n",
       " 'truck']"
      ]
     },
     "execution_count": 51,
     "metadata": {
      "tags": []
     },
     "output_type": "execute_result"
    }
   ],
   "source": [
    "label_names"
   ]
  },
  {
   "cell_type": "code",
   "execution_count": 0,
   "metadata": {
    "colab": {
     "base_uri": "https://localhost:8080/",
     "height": 35
    },
    "colab_type": "code",
    "executionInfo": {
     "elapsed": 529,
     "status": "ok",
     "timestamp": 1570171300852,
     "user": {
      "displayName": "김태웅",
      "photoUrl": "",
      "userId": "06196795162879697734"
     },
     "user_tz": -540
    },
    "id": "DiBi2K1zewta",
    "outputId": "414b00b1-ed64-48b0-81a8-e6c729283550"
   },
   "outputs": [
    {
     "name": "stdout",
     "output_type": "stream",
     "text": [
      "예측 레이블 : airplane\n"
     ]
    }
   ],
   "source": [
    "result = tf.argmax(model, 1)\n",
    "res_idx = sess.run(result, feed_dict={X: img_re.reshape(-1, 32, 32, 3),\n",
    "                                      keep_prob: 1})\n",
    "print('예측 레이블 :', label_names[res_idx[0]])"
   ]
  }
 ],
 "metadata": {
  "accelerator": "GPU",
  "colab": {
   "collapsed_sections": [],
   "name": "Cifar10.ipynb",
   "provenance": []
  },
  "kernelspec": {
   "display_name": "Python 3",
   "language": "python",
   "name": "python3"
  },
  "language_info": {
   "codemirror_mode": {
    "name": "ipython",
    "version": 3
   },
   "file_extension": ".py",
   "mimetype": "text/x-python",
   "name": "python",
   "nbconvert_exporter": "python",
   "pygments_lexer": "ipython3",
   "version": "3.7.3"
  },
  "varInspector": {
   "cols": {
    "lenName": 16,
    "lenType": 16,
    "lenVar": 40
   },
   "kernels_config": {
    "python": {
     "delete_cmd_postfix": "",
     "delete_cmd_prefix": "del ",
     "library": "var_list.py",
     "varRefreshCmd": "print(var_dic_list())"
    },
    "r": {
     "delete_cmd_postfix": ") ",
     "delete_cmd_prefix": "rm(",
     "library": "var_list.r",
     "varRefreshCmd": "cat(var_dic_list()) "
    }
   },
   "types_to_exclude": [
    "module",
    "function",
    "builtin_function_or_method",
    "instance",
    "_Feature"
   ],
   "window_display": false
  }
 },
 "nbformat": 4,
 "nbformat_minor": 1
}
