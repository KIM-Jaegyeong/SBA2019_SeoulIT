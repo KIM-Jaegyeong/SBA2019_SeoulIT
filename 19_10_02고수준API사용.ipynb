{
  "nbformat": 4,
  "nbformat_minor": 0,
  "metadata": {
    "colab": {
      "name": "19-10-02고수준API사용.ipynb",
      "provenance": [],
      "include_colab_link": true
    },
    "kernelspec": {
      "name": "python3",
      "display_name": "Python 3"
    }
  },
  "cells": [
    {
      "cell_type": "markdown",
      "metadata": {
        "id": "view-in-github",
        "colab_type": "text"
      },
      "source": [
        "<a href=\"https://colab.research.google.com/github/KIM-Jaegyeong/SBA2019_SeoulIT/blob/master/19_10_02%EA%B3%A0%EC%88%98%EC%A4%80API%EC%82%AC%EC%9A%A9.ipynb\" target=\"_parent\"><img src=\"https://colab.research.google.com/assets/colab-badge.svg\" alt=\"Open In Colab\"/></a>"
      ]
    },
    {
      "cell_type": "code",
      "metadata": {
        "id": "986ML1iG7CD9",
        "colab_type": "code",
        "outputId": "2832578c-4d45-4375-b487-807af0c56e8f",
        "colab": {
          "base_uri": "https://localhost:8080/",
          "height": 594
        }
      },
      "source": [
        "from tensorflow.examples.tutorials.mnist import input_data\n",
        "mnist = input_data.read_data_sets(\"./mnist/data/\", one_hot=True)\n",
        "import os, warnings\n",
        "# 이미지 처리 분야에서 가장 유명한 신경망 모델인 CNN 을 이용\n",
        "import tensorflow as tf\n",
        "import time"
      ],
      "execution_count": 1,
      "outputs": [
        {
          "output_type": "display_data",
          "data": {
            "text/html": [
              "<p style=\"color: red;\">\n",
              "The default version of TensorFlow in Colab will soon switch to TensorFlow 2.x.<br>\n",
              "We recommend you <a href=\"https://www.tensorflow.org/guide/migrate\" target=\"_blank\">upgrade</a> now \n",
              "or ensure your notebook will continue to use TensorFlow 1.x via the <code>%tensorflow_version 1.x</code> magic:\n",
              "<a href=\"https://colab.research.google.com/notebooks/tensorflow_version.ipynb\" target=\"_blank\">more info</a>.</p>\n"
            ],
            "text/plain": [
              "<IPython.core.display.HTML object>"
            ]
          },
          "metadata": {
            "tags": []
          }
        },
        {
          "output_type": "stream",
          "text": [
            "WARNING:tensorflow:From <ipython-input-1-c7204cf115d7>:2: read_data_sets (from tensorflow.contrib.learn.python.learn.datasets.mnist) is deprecated and will be removed in a future version.\n",
            "Instructions for updating:\n",
            "Please use alternatives such as official/mnist/dataset.py from tensorflow/models.\n",
            "WARNING:tensorflow:From /usr/local/lib/python3.6/dist-packages/tensorflow_core/contrib/learn/python/learn/datasets/mnist.py:260: maybe_download (from tensorflow.contrib.learn.python.learn.datasets.base) is deprecated and will be removed in a future version.\n",
            "Instructions for updating:\n",
            "Please write your own downloading logic.\n",
            "WARNING:tensorflow:From /usr/local/lib/python3.6/dist-packages/tensorflow_core/contrib/learn/python/learn/datasets/base.py:252: _internal_retry.<locals>.wrap.<locals>.wrapped_fn (from tensorflow.contrib.learn.python.learn.datasets.base) is deprecated and will be removed in a future version.\n",
            "Instructions for updating:\n",
            "Please use urllib or similar directly.\n",
            "Successfully downloaded train-images-idx3-ubyte.gz 9912422 bytes.\n",
            "WARNING:tensorflow:From /usr/local/lib/python3.6/dist-packages/tensorflow_core/contrib/learn/python/learn/datasets/mnist.py:262: extract_images (from tensorflow.contrib.learn.python.learn.datasets.mnist) is deprecated and will be removed in a future version.\n",
            "Instructions for updating:\n",
            "Please use tf.data to implement this functionality.\n",
            "Extracting ./mnist/data/train-images-idx3-ubyte.gz\n",
            "Successfully downloaded train-labels-idx1-ubyte.gz 28881 bytes.\n",
            "WARNING:tensorflow:From /usr/local/lib/python3.6/dist-packages/tensorflow_core/contrib/learn/python/learn/datasets/mnist.py:267: extract_labels (from tensorflow.contrib.learn.python.learn.datasets.mnist) is deprecated and will be removed in a future version.\n",
            "Instructions for updating:\n",
            "Please use tf.data to implement this functionality.\n",
            "Extracting ./mnist/data/train-labels-idx1-ubyte.gz\n",
            "WARNING:tensorflow:From /usr/local/lib/python3.6/dist-packages/tensorflow_core/contrib/learn/python/learn/datasets/mnist.py:110: dense_to_one_hot (from tensorflow.contrib.learn.python.learn.datasets.mnist) is deprecated and will be removed in a future version.\n",
            "Instructions for updating:\n",
            "Please use tf.one_hot on tensors.\n",
            "Successfully downloaded t10k-images-idx3-ubyte.gz 1648877 bytes.\n",
            "Extracting ./mnist/data/t10k-images-idx3-ubyte.gz\n",
            "Successfully downloaded t10k-labels-idx1-ubyte.gz 4542 bytes.\n",
            "Extracting ./mnist/data/t10k-labels-idx1-ubyte.gz\n",
            "WARNING:tensorflow:From /usr/local/lib/python3.6/dist-packages/tensorflow_core/contrib/learn/python/learn/datasets/mnist.py:290: DataSet.__init__ (from tensorflow.contrib.learn.python.learn.datasets.mnist) is deprecated and will be removed in a future version.\n",
            "Instructions for updating:\n",
            "Please use alternatives such as official/mnist/dataset.py from tensorflow/models.\n"
          ],
          "name": "stdout"
        }
      ]
    },
    {
      "cell_type": "code",
      "metadata": {
        "id": "nZdLyuS3_B1h",
        "colab_type": "code",
        "outputId": "d3cafe60-aac5-4b5c-d967-ad7c7fe79b0c",
        "colab": {
          "base_uri": "https://localhost:8080/",
          "height": 122
        }
      },
      "source": [
        "print(mnist.train.images.shape)\n",
        "print(mnist.train.labels.shape)\n",
        "print(mnist.test.images.shape)\n",
        "print(mnist.test.labels.shape)\n",
        "print(mnist.validation.images.shape)\n",
        "print(mnist.validation.labels.shape)"
      ],
      "execution_count": 2,
      "outputs": [
        {
          "output_type": "stream",
          "text": [
            "(55000, 784)\n",
            "(55000, 10)\n",
            "(10000, 784)\n",
            "(10000, 10)\n",
            "(5000, 784)\n",
            "(5000, 10)\n"
          ],
          "name": "stdout"
        }
      ]
    },
    {
      "cell_type": "markdown",
      "metadata": {
        "id": "t_lmEewg_OVF",
        "colab_type": "text"
      },
      "source": [
        "## 01.신경망 모델 구성"
      ]
    },
    {
      "cell_type": "code",
      "metadata": {
        "id": "99ez31LV_NO0",
        "colab_type": "code",
        "colab": {}
      },
      "source": [
        "# 기존 모델에서는 입력 값을 28x28 하나의 차원으로 구성하였으나,\n",
        "# CNN 모델을 사용하기 위해 2차원 평면과 특성치의 형태를 갖는 구조로 만듭니다.\n",
        "# None는 입력데이터의 개수, 마지막 차원 1은 채널(색특징)의 개수.\n",
        "# MNIST는 회색조의 이미지로 색상이 한개\n",
        "X = tf.placeholder(tf.float32, [None, 28, 28, 1])\n",
        "Y = tf.placeholder(tf.float32, [None, 10])\n",
        "is_training = tf.placeholder(tf.bool) # dropout를 수행할지 안할지 결정"
      ],
      "execution_count": 0,
      "outputs": []
    },
    {
      "cell_type": "markdown",
      "metadata": {
        "id": "sSXCGfpT_vGy",
        "colab_type": "text"
      },
      "source": [
        "## CNN 계층 구성\n",
        "- W1: 가중치\n",
        " - W1 [3 3 1 32]\n",
        "   - [3,3] : 커널크기\n",
        "   - 1 : 입력값 채널수\n",
        "   - 32 : 필터의 개수 (커널의 개수)\n",
        "- L1 : 계층\n",
        " - (?, 28, 28, 32)\n",
        "   -? : 데이터 개수는 확정되지 않음.\n",
        "   - 28, 28 : 커널을 통해 만들어진 이미지 픽셀\n",
        "   - 32 : 커널(필터)의 개수\n",
        "- Pool : 플링 계층\n",
        "   - (?, 14, 14, 32)\n",
        "   - ? : 데이터 개수가 정해져 있지 않음.\n",
        "   - 14, 14 : 커널을 통해 만들어진 이미지 픽셀\n",
        "   - 32 : 커널(필터)의 개수\n"
      ]
    },
    {
      "cell_type": "code",
      "metadata": {
        "id": "qyBpjTmF_SfE",
        "colab_type": "code",
        "colab": {}
      },
      "source": [
        "# 원래 코드\n",
        "# W1 = tf.Variable(tf.random_normal([3, 3, 1, 32], stddev=0.01))\n",
        "# L1 = tf.nn.conv2d(X, W1, strides=[1, 1, 1, 1], padding='SAME')\n",
        "# L1 = tf.nn.relu(L1) # 활성화 함수\n",
        "# L1 = tf.nn.max_pool(L1, ksize=[1, 2, 2, 1], strides=[1, 2, 2, 1], padding='SAME')\n"
      ],
      "execution_count": 0,
      "outputs": []
    },
    {
      "cell_type": "code",
      "metadata": {
        "id": "WJC-qJz_AJFs",
        "colab_type": "code",
        "outputId": "8e95d109-f761-4550-9eb4-05c9be71383b",
        "colab": {
          "base_uri": "https://localhost:8080/",
          "height": 248
        }
      },
      "source": [
        "L1 = tf.layers.conv2d(X,32,[3,3])\n",
        "L1 = tf.layers.max_pooling2d(L1, [2,2], [2,2])\n",
        "L1 = tf.layers.dropout(L1, 0.7, is_training)\n"
      ],
      "execution_count": 4,
      "outputs": [
        {
          "output_type": "stream",
          "text": [
            "WARNING:tensorflow:From <ipython-input-4-04bd74df5026>:1: conv2d (from tensorflow.python.layers.convolutional) is deprecated and will be removed in a future version.\n",
            "Instructions for updating:\n",
            "Use `tf.keras.layers.Conv2D` instead.\n",
            "WARNING:tensorflow:From /usr/local/lib/python3.6/dist-packages/tensorflow_core/python/layers/convolutional.py:424: Layer.apply (from tensorflow.python.keras.engine.base_layer) is deprecated and will be removed in a future version.\n",
            "Instructions for updating:\n",
            "Please use `layer.__call__` method instead.\n",
            "WARNING:tensorflow:From <ipython-input-4-04bd74df5026>:2: max_pooling2d (from tensorflow.python.layers.pooling) is deprecated and will be removed in a future version.\n",
            "Instructions for updating:\n",
            "Use keras.layers.MaxPooling2D instead.\n",
            "WARNING:tensorflow:From <ipython-input-4-04bd74df5026>:3: dropout (from tensorflow.python.layers.core) is deprecated and will be removed in a future version.\n",
            "Instructions for updating:\n",
            "Use keras.layers.dropout instead.\n"
          ],
          "name": "stdout"
        }
      ]
    },
    {
      "cell_type": "code",
      "metadata": {
        "id": "o09G_lCCANF-",
        "colab_type": "code",
        "colab": {}
      },
      "source": [
        "# W2 = tf.Variable(tf.random_normal([3, 3, 32, 64], stddev=0.01))\n",
        "# L2 = tf.nn.conv2d(L1, W2, strides=[1, 1, 1, 1], padding='SAME')\n",
        "# L2 = tf.nn.relu(L2)\n",
        "# L2 = tf.nn.max_pool(L2, ksize=[1, 2, 2, 1], strides=[1, 2, 2, 1], padding='SAME')\n",
        "L2 = tf.layers.conv2d(L1, 64, [3,3])\n",
        "L2 = tf.layers.max_pooling2d(L2, [2,2], [2,2])\n",
        "L2 = tf.layers.dropout(L2, 0.7, is_training)"
      ],
      "execution_count": 0,
      "outputs": []
    },
    {
      "cell_type": "code",
      "metadata": {
        "id": "GrUnFGXwAlB1",
        "colab_type": "code",
        "outputId": "8c287fd2-0c85-492c-d373-ed3e09511251",
        "colab": {
          "base_uri": "https://localhost:8080/",
          "height": 283
        }
      },
      "source": [
        "# W3 = tf.Variable(tf.random_normal([7 * 7 * 64, 256], stddev=0.01))\n",
        "# L3 = tf.reshape(L2, [-1, 7 * 7 * 64])\n",
        "# L3 = tf.matmul(L3, W3)\n",
        "# L3 = tf.nn.relu(L3)\n",
        "# L3 = tf.nn.dropout(L3, keep_prob)\n",
        "L3 = tf.contrib.layers.flatten(L2)\n",
        "L3 = tf.layers.dense(L3, 256, activation=tf.nn.relu)\n",
        "L3 = tf.layers.dropout(L3, 0.5, is_training)\n"
      ],
      "execution_count": 6,
      "outputs": [
        {
          "output_type": "stream",
          "text": [
            "WARNING:tensorflow:\n",
            "The TensorFlow contrib module will not be included in TensorFlow 2.0.\n",
            "For more information, please see:\n",
            "  * https://github.com/tensorflow/community/blob/master/rfcs/20180907-contrib-sunset.md\n",
            "  * https://github.com/tensorflow/addons\n",
            "  * https://github.com/tensorflow/io (for I/O related ops)\n",
            "If you depend on functionality not listed there, please file an issue.\n",
            "\n",
            "WARNING:tensorflow:From /usr/local/lib/python3.6/dist-packages/tensorflow_core/contrib/layers/python/layers/layers.py:1634: flatten (from tensorflow.python.layers.core) is deprecated and will be removed in a future version.\n",
            "Instructions for updating:\n",
            "Use keras.layers.flatten instead.\n",
            "WARNING:tensorflow:From <ipython-input-6-ccdf79516e01>:2: dense (from tensorflow.python.layers.core) is deprecated and will be removed in a future version.\n",
            "Instructions for updating:\n",
            "Use keras.layers.Dense instead.\n"
          ],
          "name": "stdout"
        }
      ]
    },
    {
      "cell_type": "code",
      "metadata": {
        "id": "LEA087IpA4WE",
        "colab_type": "code",
        "colab": {}
      },
      "source": [
        "# 최종 출력값 L3 에서의 출력 256개를 입력값으로 받아서 0~9 레이블인 10개의 출력값을 만듭니다.\n",
        "# W4 = tf.Variable(tf.random_normal([256, 10], stddev=0.01))\n",
        "# model = tf.matmul(L3, W4)\n",
        "model = tf.layers.dense(L3, 10, activation=None)\n"
      ],
      "execution_count": 0,
      "outputs": []
    },
    {
      "cell_type": "code",
      "metadata": {
        "id": "IXjRC4LZBKAG",
        "colab_type": "code",
        "colab": {}
      },
      "source": [
        "cost = tf.reduce_mean(tf.nn.softmax_cross_entropy_with_logits_v2(logits=model, labels=Y))\n",
        "optimizer = tf.train.AdamOptimizer(0.001).minimize(cost)"
      ],
      "execution_count": 0,
      "outputs": []
    },
    {
      "cell_type": "code",
      "metadata": {
        "id": "psJdzFNxBMIF",
        "colab_type": "code",
        "outputId": "f8d55c40-0ab3-4970-d214-140bb0f44330",
        "colab": {
          "base_uri": "https://localhost:8080/",
          "height": 246
        }
      },
      "source": [
        "%%time\n",
        "#########\n",
        "# 신경망 모델 학습\n",
        "######\n",
        "init = tf.global_variables_initializer()\n",
        "sess = tf.Session()\n",
        "sess.run(init)\n",
        "batch_size = 100\n",
        "total_batch = int(mnist.train.num_examples / batch_size)\n",
        "for epoch in range(10):\n",
        "    total_cost = 0\n",
        "    for i in range(total_batch):\n",
        "       batch_xs, batch_ys = mnist.train.next_batch(batch_size)\n",
        " # 이미지 데이터를 CNN 모델을 위한 자료형태인 [28 28 1] 의 형태로 재구성합니다.\n",
        "       batch_xs = batch_xs.reshape(-1, 28, 28, 1)\n",
        "       _, cost_val = sess.run([optimizer, cost],feed_dict={X: batch_xs, Y: batch_ys,is_training: True})\n",
        "       total_cost += cost_val\n",
        "    print('Epoch:', '%04d' % (epoch + 1),\n",
        " 'Avg. cost =', '{:.3f}'.format(total_cost / total_batch))\n",
        "print('최적화 완료!')\n"
      ],
      "execution_count": 9,
      "outputs": [
        {
          "output_type": "stream",
          "text": [
            "Epoch: 0001 Avg. cost = 0.172\n",
            "Epoch: 0002 Avg. cost = 0.049\n",
            "Epoch: 0003 Avg. cost = 0.031\n",
            "Epoch: 0004 Avg. cost = 0.021\n",
            "Epoch: 0005 Avg. cost = 0.015\n",
            "Epoch: 0006 Avg. cost = 0.015\n",
            "Epoch: 0007 Avg. cost = 0.012\n",
            "Epoch: 0008 Avg. cost = 0.008\n",
            "Epoch: 0009 Avg. cost = 0.008\n",
            "Epoch: 0010 Avg. cost = 0.007\n",
            "최적화 완료!\n",
            "CPU times: user 10min 51s, sys: 11.8 s, total: 11min 3s\n",
            "Wall time: 5min 43s\n"
          ],
          "name": "stdout"
        }
      ]
    },
    {
      "cell_type": "code",
      "metadata": {
        "id": "9z9NAEOZBN-l",
        "colab_type": "code",
        "outputId": "621d7f30-80ef-4d10-89d6-4b5d5205dbcb",
        "colab": {
          "base_uri": "https://localhost:8080/",
          "height": 34
        }
      },
      "source": [
        "is_correct = tf.equal(tf.argmax(model, 1), tf.argmax(Y, 1))\n",
        "accuracy = tf.reduce_mean(tf.cast(is_correct, tf.float32))\n",
        "print('정확도:', sess.run(accuracy,\n",
        " feed_dict={X: mnist.test.images.reshape(-1, 28, 28, 1),\n",
        " Y: mnist.test.labels,\n",
        " is_training: False}))"
      ],
      "execution_count": 10,
      "outputs": [
        {
          "output_type": "stream",
          "text": [
            "정확도: 0.989\n"
          ],
          "name": "stdout"
        }
      ]
    },
    {
      "cell_type": "code",
      "metadata": {
        "id": "ZJgESCVKBQWV",
        "colab_type": "code",
        "colab": {}
      },
      "source": [
        ""
      ],
      "execution_count": 0,
      "outputs": []
    }
  ]
}