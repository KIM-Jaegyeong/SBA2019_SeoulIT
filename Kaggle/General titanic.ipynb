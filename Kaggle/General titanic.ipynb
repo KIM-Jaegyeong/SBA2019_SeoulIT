{
 "cells": [
  {
   "cell_type": "markdown",
   "metadata": {
    "ExecuteTime": {
     "end_time": "2019-09-02T05:56:02.735567Z",
     "start_time": "2019-09-02T05:56:02.731705Z"
    }
   },
   "source": [
    "# Data Analysis"
   ]
  },
  {
   "cell_type": "markdown",
   "metadata": {},
   "source": [
    "## 데이터분석 미션\n",
    "- 과제1 : 남자/여자 수, 객실 등급별 수\n",
    "- 과제2 : 연령대별 수 ( 10대 : OO명, 20대 : OO명, 30대 : OO명 )\n",
    "- 과제3 : 남여별/객실등급별 생존자수를 그래프로 표현"
   ]
  },
  {
   "attachments": {
    "image.png": {
     "image/png": "[encoded data removed]"
    }
   },
   "cell_type": "markdown",
   "metadata": {},
   "source": [
    "![image.png](attachment:image.png)"
   ]
  },
  {
   "cell_type": "code",
   "execution_count": 1,
   "metadata": {
    "ExecuteTime": {
     "end_time": "2019-09-02T05:57:18.295829Z",
     "start_time": "2019-09-02T05:57:17.016499Z"
    }
   },
   "outputs": [],
   "source": [
    "import numpy as np\n",
    "import pandas as pd\n",
    "import matplotlib.pyplot as plt\n",
    "\n",
    "%matplotlib inline"
   ]
  },
  {
   "cell_type": "code",
   "execution_count": 2,
   "metadata": {
    "ExecuteTime": {
     "end_time": "2019-09-02T05:58:25.598759Z",
     "start_time": "2019-09-02T05:58:25.591924Z"
    }
   },
   "outputs": [
    {
     "data": {
      "text/plain": [
       "'C:\\\\Users\\\\dxodn\\\\Desktop\\\\Github\\\\Dummy\\\\Python\\\\ML'"
      ]
     },
     "execution_count": 2,
     "metadata": {},
     "output_type": "execute_result"
    }
   ],
   "source": [
    "%pwd"
   ]
  },
  {
   "cell_type": "markdown",
   "metadata": {},
   "source": [
    "### 데이터 다운로드 및 분석"
   ]
  },
  {
   "cell_type": "code",
   "execution_count": 3,
   "metadata": {
    "ExecuteTime": {
     "end_time": "2019-09-02T05:59:14.542215Z",
     "start_time": "2019-09-02T05:59:14.528498Z"
    }
   },
   "outputs": [],
   "source": [
    "df = pd.read_csv(\"../titanic/train.csv\")"
   ]
  },
  {
   "cell_type": "code",
   "execution_count": 4,
   "metadata": {
    "ExecuteTime": {
     "end_time": "2019-09-02T05:59:22.045557Z",
     "start_time": "2019-09-02T05:59:22.026025Z"
    }
   },
   "outputs": [
    {
     "data": {
      "text/html": [
       "<div>\n",
       "<style scoped>\n",
       "    .dataframe tbody tr th:only-of-type {\n",
       "        vertical-align: middle;\n",
       "    }\n",
       "\n",
       "    .dataframe tbody tr th {\n",
       "        vertical-align: top;\n",
       "    }\n",
       "\n",
       "    .dataframe thead th {\n",
       "        text-align: right;\n",
       "    }\n",
       "</style>\n",
       "<table border=\"1\" class=\"dataframe\">\n",
       "  <thead>\n",
       "    <tr style=\"text-align: right;\">\n",
       "      <th></th>\n",
       "      <th>PassengerId</th>\n",
       "      <th>Survived</th>\n",
       "      <th>Pclass</th>\n",
       "      <th>Name</th>\n",
       "      <th>Sex</th>\n",
       "      <th>Age</th>\n",
       "      <th>SibSp</th>\n",
       "      <th>Parch</th>\n",
       "      <th>Ticket</th>\n",
       "      <th>Fare</th>\n",
       "      <th>Cabin</th>\n",
       "      <th>Embarked</th>\n",
       "    </tr>\n",
       "  </thead>\n",
       "  <tbody>\n",
       "    <tr>\n",
       "      <th>0</th>\n",
       "      <td>1</td>\n",
       "      <td>0</td>\n",
       "      <td>3</td>\n",
       "      <td>Braund, Mr. Owen Harris</td>\n",
       "      <td>male</td>\n",
       "      <td>22.0</td>\n",
       "      <td>1</td>\n",
       "      <td>0</td>\n",
       "      <td>A/5 21171</td>\n",
       "      <td>7.2500</td>\n",
       "      <td>NaN</td>\n",
       "      <td>S</td>\n",
       "    </tr>\n",
       "    <tr>\n",
       "      <th>1</th>\n",
       "      <td>2</td>\n",
       "      <td>1</td>\n",
       "      <td>1</td>\n",
       "      <td>Cumings, Mrs. John Bradley (Florence Briggs Th...</td>\n",
       "      <td>female</td>\n",
       "      <td>38.0</td>\n",
       "      <td>1</td>\n",
       "      <td>0</td>\n",
       "      <td>PC 17599</td>\n",
       "      <td>71.2833</td>\n",
       "      <td>C85</td>\n",
       "      <td>C</td>\n",
       "    </tr>\n",
       "    <tr>\n",
       "      <th>2</th>\n",
       "      <td>3</td>\n",
       "      <td>1</td>\n",
       "      <td>3</td>\n",
       "      <td>Heikkinen, Miss. Laina</td>\n",
       "      <td>female</td>\n",
       "      <td>26.0</td>\n",
       "      <td>0</td>\n",
       "      <td>0</td>\n",
       "      <td>STON/O2. 3101282</td>\n",
       "      <td>7.9250</td>\n",
       "      <td>NaN</td>\n",
       "      <td>S</td>\n",
       "    </tr>\n",
       "    <tr>\n",
       "      <th>3</th>\n",
       "      <td>4</td>\n",
       "      <td>1</td>\n",
       "      <td>1</td>\n",
       "      <td>Futrelle, Mrs. Jacques Heath (Lily May Peel)</td>\n",
       "      <td>female</td>\n",
       "      <td>35.0</td>\n",
       "      <td>1</td>\n",
       "      <td>0</td>\n",
       "      <td>113803</td>\n",
       "      <td>53.1000</td>\n",
       "      <td>C123</td>\n",
       "      <td>S</td>\n",
       "    </tr>\n",
       "    <tr>\n",
       "      <th>4</th>\n",
       "      <td>5</td>\n",
       "      <td>0</td>\n",
       "      <td>3</td>\n",
       "      <td>Allen, Mr. William Henry</td>\n",
       "      <td>male</td>\n",
       "      <td>35.0</td>\n",
       "      <td>0</td>\n",
       "      <td>0</td>\n",
       "      <td>373450</td>\n",
       "      <td>8.0500</td>\n",
       "      <td>NaN</td>\n",
       "      <td>S</td>\n",
       "    </tr>\n",
       "  </tbody>\n",
       "</table>\n",
       "</div>"
      ],
      "text/plain": [
       "   PassengerId  Survived  Pclass  \\\n",
       "0            1         0       3   \n",
       "1            2         1       1   \n",
       "2            3         1       3   \n",
       "3            4         1       1   \n",
       "4            5         0       3   \n",
       "\n",
       "                                                Name     Sex   Age  SibSp  \\\n",
       "0                            Braund, Mr. Owen Harris    male  22.0      1   \n",
       "1  Cumings, Mrs. John Bradley (Florence Briggs Th...  female  38.0      1   \n",
       "2                             Heikkinen, Miss. Laina  female  26.0      0   \n",
       "3       Futrelle, Mrs. Jacques Heath (Lily May Peel)  female  35.0      1   \n",
       "4                           Allen, Mr. William Henry    male  35.0      0   \n",
       "\n",
       "   Parch            Ticket     Fare Cabin Embarked  \n",
       "0      0         A/5 21171   7.2500   NaN        S  \n",
       "1      0          PC 17599  71.2833   C85        C  \n",
       "2      0  STON/O2. 3101282   7.9250   NaN        S  \n",
       "3      0            113803  53.1000  C123        S  \n",
       "4      0            373450   8.0500   NaN        S  "
      ]
     },
     "execution_count": 4,
     "metadata": {},
     "output_type": "execute_result"
    }
   ],
   "source": [
    "df.head()"
   ]
  },
  {
   "cell_type": "code",
   "execution_count": 5,
   "metadata": {
    "ExecuteTime": {
     "end_time": "2019-09-02T05:59:46.591973Z",
     "start_time": "2019-09-02T05:59:46.587089Z"
    }
   },
   "outputs": [
    {
     "data": {
      "text/plain": [
       "891"
      ]
     },
     "execution_count": 5,
     "metadata": {},
     "output_type": "execute_result"
    }
   ],
   "source": [
    "len(df) # row 확인"
   ]
  },
  {
   "cell_type": "markdown",
   "metadata": {},
   "source": [
    "## 데이터 분석1\n",
    "- 남자/여자별 승객수 분석 결과\n",
    "- 객실 등급별 승객수 분석 결과"
   ]
  },
  {
   "cell_type": "code",
   "execution_count": 6,
   "metadata": {
    "ExecuteTime": {
     "end_time": "2019-09-02T06:02:19.294653Z",
     "start_time": "2019-09-02T06:02:19.288793Z"
    }
   },
   "outputs": [
    {
     "data": {
      "text/plain": [
       "pandas.core.series.Series"
      ]
     },
     "execution_count": 6,
     "metadata": {},
     "output_type": "execute_result"
    }
   ],
   "source": [
    "type(df['Sex']) # 한 컬럼이니까 Series"
   ]
  },
  {
   "cell_type": "code",
   "execution_count": 7,
   "metadata": {
    "ExecuteTime": {
     "end_time": "2019-09-02T06:02:23.588887Z",
     "start_time": "2019-09-02T06:02:23.583978Z"
    }
   },
   "outputs": [
    {
     "data": {
      "text/plain": [
       "891"
      ]
     },
     "execution_count": 7,
     "metadata": {},
     "output_type": "execute_result"
    }
   ],
   "source": [
    "len(df['Sex'])"
   ]
  },
  {
   "cell_type": "code",
   "execution_count": 8,
   "metadata": {
    "ExecuteTime": {
     "end_time": "2019-09-02T06:02:37.607296Z",
     "start_time": "2019-09-02T06:02:37.600460Z"
    }
   },
   "outputs": [
    {
     "data": {
      "text/plain": [
       "0      male\n",
       "1    female\n",
       "2    female\n",
       "3    female\n",
       "4      male\n",
       "Name: Sex, dtype: object"
      ]
     },
     "execution_count": 8,
     "metadata": {},
     "output_type": "execute_result"
    }
   ],
   "source": [
    "df['Sex'].head()"
   ]
  },
  {
   "cell_type": "code",
   "execution_count": 9,
   "metadata": {
    "ExecuteTime": {
     "end_time": "2019-09-02T06:02:47.573727Z",
     "start_time": "2019-09-02T06:02:47.568844Z"
    }
   },
   "outputs": [
    {
     "data": {
      "text/plain": [
       "'male'"
      ]
     },
     "execution_count": 9,
     "metadata": {},
     "output_type": "execute_result"
    }
   ],
   "source": [
    "df['Sex'][0] # 위에 봐라 0에 무엇이 위치했는지"
   ]
  },
  {
   "cell_type": "code",
   "execution_count": 14,
   "metadata": {
    "ExecuteTime": {
     "end_time": "2019-09-02T06:03:38.452818Z",
     "start_time": "2019-09-02T06:03:38.448912Z"
    }
   },
   "outputs": [],
   "source": [
    "from functools import * "
   ]
  },
  {
   "cell_type": "code",
   "execution_count": 15,
   "metadata": {
    "ExecuteTime": {
     "end_time": "2019-09-02T06:08:33.646725Z",
     "start_time": "2019-09-02T06:08:33.641802Z"
    }
   },
   "outputs": [],
   "source": [
    "# male과 female 키만 넣어주기\n",
    "result_by_sex = {\n",
    "    \"male\" : 0,\n",
    "    \"female\" : 0\n",
    "}\n",
    "\n",
    "# pclass에 공간만 만들어주기\n",
    "result_by_pclass = {\n",
    "    1 : 0,\n",
    "    2 : 0,\n",
    "    3 : 0\n",
    "}"
   ]
  },
  {
   "cell_type": "code",
   "execution_count": 20,
   "metadata": {
    "ExecuteTime": {
     "end_time": "2019-09-02T06:10:33.031022Z",
     "start_time": "2019-09-02T06:10:33.025116Z"
    }
   },
   "outputs": [],
   "source": [
    "def count_columns(result_dic, element) :\n",
    "    if result_dic.get(element) :\n",
    "        result_dic[element] += 1\n",
    "    else:\n",
    "        result_dic[element] = 1\n",
    "\n",
    "    return result_dic\n",
    "\n",
    "def get_group_count(df_column) :\n",
    "    return reduce(count_columns, df_column, {})"
   ]
  },
  {
   "cell_type": "code",
   "execution_count": 32,
   "metadata": {
    "ExecuteTime": {
     "end_time": "2019-09-02T06:04:14.021445Z",
     "start_time": "2019-09-02T06:04:14.016526Z"
    }
   },
   "outputs": [
    {
     "ename": "NameError",
     "evalue": "name 'result_dic' is not defined",
     "output_type": "error",
     "traceback": [
      "\u001b[1;31m---------------------------------------------------------------------------\u001b[0m",
      "\u001b[1;31mNameError\u001b[0m                                 Traceback (most recent call last)",
      "\u001b[1;32m<ipython-input-32-efdb42d0816f>\u001b[0m in \u001b[0;36m<module>\u001b[1;34m()\u001b[0m\n\u001b[0;32m      1\u001b[0m \u001b[0mresult\u001b[0m \u001b[1;33m=\u001b[0m \u001b[0mget_group_count\u001b[0m\u001b[1;33m(\u001b[0m\u001b[0mdf\u001b[0m\u001b[1;33m[\u001b[0m\u001b[1;34m'Sex'\u001b[0m\u001b[1;33m]\u001b[0m\u001b[1;33m)\u001b[0m\u001b[1;33m\u001b[0m\u001b[0m\n\u001b[1;32m----> 2\u001b[1;33m \u001b[0mcount_columns\u001b[0m\u001b[1;33m(\u001b[0m\u001b[0mresult_dic\u001b[0m\u001b[1;33m,\u001b[0m \u001b[0melement\u001b[0m\u001b[1;33m)\u001b[0m \u001b[1;33m==\u001b[0m \u001b[1;33m(\u001b[0m\u001b[0mdf_column\u001b[0m\u001b[1;33m,\u001b[0m \u001b[1;33m{\u001b[0m\u001b[1;33m}\u001b[0m\u001b[1;33m)\u001b[0m\u001b[1;33m\u001b[0m\u001b[0m\n\u001b[0m\u001b[0;32m      3\u001b[0m \u001b[1;31m# 이런 식으로 분리해서 생각하자\u001b[0m\u001b[1;33m\u001b[0m\u001b[1;33m\u001b[0m\u001b[0m\n",
      "\u001b[1;31mNameError\u001b[0m: name 'result_dic' is not defined"
     ]
    }
   ],
   "source": [
    "result = get_group_count(df['Sex'])\n",
    "count_columns(result_dic, element) == (df_column, {})\n",
    "# 이런 식으로 분리해서 생각하자"
   ]
  },
  {
   "cell_type": "code",
   "execution_count": 18,
   "metadata": {},
   "outputs": [
    {
     "data": {
      "text/plain": [
       "{3: 491, 1: 216, 2: 184}"
      ]
     },
     "execution_count": 18,
     "metadata": {},
     "output_type": "execute_result"
    }
   ],
   "source": [
    "result = get_group_count(df['Pclass'])\n",
    "result"
   ]
  },
  {
   "cell_type": "markdown",
   "metadata": {},
   "source": [
    "## 데이터 분석2"
   ]
  },
  {
   "cell_type": "code",
   "execution_count": null,
   "metadata": {
    "ExecuteTime": {
     "end_time": "2019-09-02T06:14:46.486014Z",
     "start_time": "2019-09-02T06:14:46.481132Z"
    }
   },
   "outputs": [],
   "source": [
    "result = {\n",
    "    \"male\" : {\n",
    "        1 : 0,\n",
    "        2 : 0, \n",
    "        3 : 0\n",
    "    },\n",
    "    \"female\" : {\n",
    "        1 : 0,\n",
    "        2 : 0, \n",
    "        3 : 0\n",
    "    }\n",
    "}"
   ]
  },
  {
   "cell_type": "markdown",
   "metadata": {},
   "source": [
    "## 데이터 분석결과 시각화"
   ]
  },
  {
   "cell_type": "code",
   "execution_count": null,
   "metadata": {
    "ExecuteTime": {
     "end_time": "2019-09-02T06:24:09.374924Z",
     "start_time": "2019-09-02T06:24:09.371063Z"
    }
   },
   "outputs": [],
   "source": [
    "count_f, count_m = [94, 76, 144], [122, 108, 347]"
   ]
  },
  {
   "cell_type": "code",
   "execution_count": null,
   "metadata": {
    "ExecuteTime": {
     "end_time": "2019-09-02T06:23:19.468556Z",
     "start_time": "2019-09-02T06:23:19.459767Z"
    }
   },
   "outputs": [],
   "source": [
    "import matplotlib.pyplot as plt\n",
    "import pandas as pd\n",
    "from matplotlib import font_manager, rc\n",
    "font_name = font_manager.FontProperties(fname=\"C:/Windows/Fonts/MALGUN.TTF\").get_name()\n",
    "rc('font', family=font_name)\n",
    "\n",
    "plt.rcParams['figure.figsize'] = (10,6)"
   ]
  },
  {
   "cell_type": "code",
   "execution_count": null,
   "metadata": {
    "ExecuteTime": {
     "end_time": "2019-09-02T06:26:44.298435Z",
     "start_time": "2019-09-02T06:26:44.025957Z"
    }
   },
   "outputs": [],
   "source": [
    "t1 = [ 1, 2, 3 ]\n",
    "t2 = [ 5, 6, 7 ]\n",
    "\n",
    "plt.bar(x = t1, height = count_f, color='r', label='여자') # x 1, 2, 3\n",
    "plt.bar(x = t2, height = count_m, color='b', label='남자') # x 5, 6, 7\n",
    "plt.xlabel('객실등급별') # x축 이름\n",
    "plt.ylabel('승객수') # y축 이름\n",
    "plt.legend(title='Sex')\n",
    "\n",
    "t = list(range(1,8)) # 1, 2, 3, 4, 5, 6, 7\n",
    "plt.xticks(t , ('1st','2nd','3rd','','1st','2nd','3rd'))   # set the locations of the xticks\n",
    "plt.show()"
   ]
  },
  {
   "cell_type": "code",
   "execution_count": null,
   "metadata": {
    "ExecuteTime": {
     "end_time": "2019-09-02T06:41:28.451067Z",
     "start_time": "2019-09-02T06:41:28.444242Z"
    }
   },
   "outputs": [],
   "source": [
    "# 남녀, 승객수로 구분을 하고 색 구분은 등실 순으로\n",
    "count_p1 = count_f[0], count_m[0]\n",
    "count_p2 = count_f[1], count_m[1]\n",
    "count_p3 = count_f[2], count_m[2]\n",
    "\n",
    "count_p1, count_p2, count_p3"
   ]
  },
  {
   "cell_type": "code",
   "execution_count": null,
   "metadata": {
    "ExecuteTime": {
     "end_time": "2019-09-02T06:42:03.502063Z",
     "start_time": "2019-09-02T06:42:03.236386Z"
    }
   },
   "outputs": [],
   "source": [
    "t1 = [ 1, 5 ]\n",
    "t2 = [ 2, 6 ]\n",
    "t3 = [ 3, 7 ]\n",
    "\n",
    "plt.figure(figsize=(10,6))\n",
    "plt.bar(t1, count_p1, color='r', width=1, label='1등실')\n",
    "plt.bar(t2, count_p2, color='g', width=1, label='2등실')\n",
    "plt.bar(t3, count_p3, color='b', width=1, label='3등실')\n",
    "\n",
    "plt.xlabel('남여별구분')\n",
    "plt.ylabel('승객수')\n",
    "plt.legend(title='Pclass')\n",
    "\n",
    "t = list(range(1,8))\n",
    "# set the locations of the xticks\n",
    "plt.xticks(t , ('','여자','','','','남자',''))\n",
    "\n",
    "plt.show()"
   ]
  },
  {
   "cell_type": "code",
   "execution_count": null,
   "metadata": {
    "ExecuteTime": {
     "end_time": "2019-09-02T06:43:00.832656Z",
     "start_time": "2019-09-02T06:43:00.828779Z"
    }
   },
   "outputs": [],
   "source": [
    "from pandas import Series, DataFrame"
   ]
  },
  {
   "cell_type": "code",
   "execution_count": null,
   "metadata": {
    "ExecuteTime": {
     "end_time": "2019-09-02T06:43:06.447254Z",
     "start_time": "2019-09-02T06:43:06.436511Z"
    }
   },
   "outputs": [],
   "source": [
    "df_tmp = DataFrame({\n",
    "            'Sex' : df.Sex,\n",
    "            'Pclass' : df.Pclass\n",
    "        })\n",
    "\n",
    "df_tmp.head(10)"
   ]
  },
  {
   "cell_type": "code",
   "execution_count": null,
   "metadata": {
    "ExecuteTime": {
     "end_time": "2019-09-02T06:43:11.694643Z",
     "start_time": "2019-09-02T06:43:11.684876Z"
    }
   },
   "outputs": [],
   "source": [
    "len(df[df.Sex=='female'][df.Pclass==1])"
   ]
  },
  {
   "cell_type": "code",
   "execution_count": null,
   "metadata": {
    "ExecuteTime": {
     "end_time": "2019-09-02T06:43:15.631405Z",
     "start_time": "2019-09-02T06:43:15.620662Z"
    }
   },
   "outputs": [],
   "source": [
    "df_tmp_f = df_tmp[df_tmp.Sex=='female']\n",
    "df_tmp_f.head()"
   ]
  },
  {
   "cell_type": "code",
   "execution_count": null,
   "metadata": {
    "ExecuteTime": {
     "end_time": "2019-09-02T06:43:20.550649Z",
     "start_time": "2019-09-02T06:43:20.539906Z"
    }
   },
   "outputs": [],
   "source": [
    "df_tmp_f1 = df_tmp_f[df_tmp_f.Pclass==1]\n",
    "df_tmp_f1.head()"
   ]
  },
  {
   "cell_type": "code",
   "execution_count": null,
   "metadata": {
    "ExecuteTime": {
     "end_time": "2019-09-02T06:43:25.433802Z",
     "start_time": "2019-09-02T06:43:25.428875Z"
    }
   },
   "outputs": [],
   "source": [
    "len(df_tmp_f1)"
   ]
  },
  {
   "cell_type": "code",
   "execution_count": null,
   "metadata": {
    "ExecuteTime": {
     "end_time": "2019-09-02T06:43:30.645989Z",
     "start_time": "2019-09-02T06:43:30.636222Z"
    }
   },
   "outputs": [],
   "source": [
    "df_tmp_f1[::10]"
   ]
  },
  {
   "cell_type": "code",
   "execution_count": null,
   "metadata": {
    "ExecuteTime": {
     "end_time": "2019-09-02T06:43:35.665824Z",
     "start_time": "2019-09-02T06:43:35.660942Z"
    }
   },
   "outputs": [],
   "source": [
    "len(df_tmp)"
   ]
  },
  {
   "cell_type": "code",
   "execution_count": null,
   "metadata": {
    "ExecuteTime": {
     "end_time": "2019-09-02T06:43:40.839966Z",
     "start_time": "2019-09-02T06:43:40.828248Z"
    }
   },
   "outputs": [],
   "source": [
    "df_tmp['Category'] = \"\" # 새로운 카테고리를 만들어 줌\n",
    "df_tmp.head()"
   ]
  },
  {
   "cell_type": "code",
   "execution_count": null,
   "metadata": {
    "ExecuteTime": {
     "end_time": "2019-09-02T06:43:57.361476Z",
     "start_time": "2019-09-02T06:43:57.356606Z"
    }
   },
   "outputs": [],
   "source": [
    "df_tmp.index"
   ]
  },
  {
   "cell_type": "code",
   "execution_count": null,
   "metadata": {
    "ExecuteTime": {
     "end_time": "2019-09-02T06:44:54.769313Z",
     "start_time": "2019-09-02T06:44:24.619970Z"
    }
   },
   "outputs": [],
   "source": [
    "for idx in  df_tmp.index:\n",
    "    pclass = df_tmp['Pclass'][idx]\n",
    "    sex    = df_tmp['Sex'][idx]\n",
    "    category = '{}:{}'.format(pclass, sex)\n",
    "    \n",
    "    if (idx%100==0) or (idx==len(df_tmp)-1):  print(idx, '\\t=>', category)\n",
    "        \n",
    "    # df_tmp['Category'][idx] = category\n",
    "    df_tmp.Category[idx] = category"
   ]
  },
  {
   "cell_type": "code",
   "execution_count": null,
   "metadata": {
    "ExecuteTime": {
     "end_time": "2019-09-02T06:47:20.502800Z",
     "start_time": "2019-09-02T06:47:20.492989Z"
    }
   },
   "outputs": [],
   "source": [
    "df_tmp.head()"
   ]
  },
  {
   "cell_type": "code",
   "execution_count": null,
   "metadata": {
    "ExecuteTime": {
     "end_time": "2019-09-02T06:47:20.769373Z",
     "start_time": "2019-09-02T06:47:20.763514Z"
    }
   },
   "outputs": [],
   "source": [
    "df_tmp['Category'].unique()"
   ]
  },
  {
   "cell_type": "code",
   "execution_count": null,
   "metadata": {
    "ExecuteTime": {
     "end_time": "2019-09-02T06:47:21.051617Z",
     "start_time": "2019-09-02T06:47:21.045757Z"
    }
   },
   "outputs": [],
   "source": [
    "len(df_tmp[df_tmp['Category']=='1:female'])"
   ]
  },
  {
   "cell_type": "code",
   "execution_count": null,
   "metadata": {
    "ExecuteTime": {
     "end_time": "2019-09-02T06:47:21.432500Z",
     "start_time": "2019-09-02T06:47:21.420779Z"
    }
   },
   "outputs": [],
   "source": [
    "count_f = []\n",
    "count_f.append(len(df_tmp[df_tmp['Category']=='1:female']))\n",
    "count_f.append(len(df_tmp[df_tmp['Category']=='2:female']))\n",
    "count_f.append(len(df_tmp[df_tmp['Category']=='3:female']))\n",
    "\n",
    "count_f"
   ]
  },
  {
   "cell_type": "code",
   "execution_count": null,
   "metadata": {
    "ExecuteTime": {
     "end_time": "2019-09-02T06:47:26.215995Z",
     "start_time": "2019-09-02T06:47:26.205251Z"
    }
   },
   "outputs": [],
   "source": [
    "count_m = []\n",
    "count_m.append(len(df_tmp[df_tmp['Category']=='1:male']))\n",
    "count_m.append(len(df_tmp[df_tmp['Category']=='2:male']))\n",
    "count_m.append(len(df_tmp[df_tmp['Category']=='3:male']))\n",
    "\n",
    "count_m"
   ]
  },
  {
   "cell_type": "code",
   "execution_count": null,
   "metadata": {
    "ExecuteTime": {
     "end_time": "2019-09-02T06:47:31.042460Z",
     "start_time": "2019-09-02T06:47:30.716269Z"
    }
   },
   "outputs": [],
   "source": [
    "t1 = [ 1, 5 ]\n",
    "t2 = [ 2, 6 ]\n",
    "t3 = [ 3, 7 ]\n",
    "\n",
    "plt.figure(figsize=(10,6))\n",
    "plt.bar(t1, count_p1, color='r', width=1, label='1등실')\n",
    "plt.bar(t2, count_p2, color='g', width=1, label='2등실')\n",
    "plt.bar(t3, count_p3, color='b', width=1, label='3등실')\n",
    "plt.title('타이타닉호 남여구분 객식등급별 승객수')\n",
    "plt.xlabel('성별구분')\n",
    "plt.ylabel('승객수')\n",
    "plt.legend(title='Pclass')\n",
    "\n",
    "t = list(range(1,8))\n",
    "# set the locations of the xticks\n",
    "# plt.xticks(t , ('','여자','','','','남자',''))   \n",
    "plt.xticks(t , ('1등실','2등실\\n\\n여자','3등실','','1등실','2등실\\n\\n남자','3등실'))   \n",
    "plt.show()"
   ]
  },
  {
   "cell_type": "code",
   "execution_count": null,
   "metadata": {
    "ExecuteTime": {
     "end_time": "2019-09-02T06:50:21.244289Z",
     "start_time": "2019-09-02T06:50:21.237497Z"
    }
   },
   "outputs": [],
   "source": [
    "# count_all = count_f.copy()\n",
    "count_all = [0]\n",
    "count_all.extend(count_f) # 익스텐드는 *로 한 번 벗겨서 올려줌\n",
    "count_all.append(0)\n",
    "count_all.extend(count_m)\n",
    "count_all"
   ]
  },
  {
   "cell_type": "code",
   "execution_count": null,
   "metadata": {
    "ExecuteTime": {
     "end_time": "2019-09-02T06:49:14.963897Z",
     "start_time": "2019-09-02T06:49:14.957022Z"
    }
   },
   "outputs": [],
   "source": [
    "?count_all.extend"
   ]
  },
  {
   "cell_type": "code",
   "execution_count": null,
   "metadata": {
    "ExecuteTime": {
     "end_time": "2019-09-02T06:47:47.679218Z",
     "start_time": "2019-09-02T06:47:47.357910Z"
    }
   },
   "outputs": [],
   "source": [
    "plt.figure(figsize=(10,6))\n",
    "\n",
    "colors = ['w' , 'b', 'g', 'r', 'w', 'c', 'm', 'y', 'w', 'k' ]\n",
    "labels = ['', '여자,1등실', '여자,2등실', '여자,3등실', '', '남자,1등실', '남자,2등실', '남자,2등실']\n",
    "# xticks = ('', '여자','','','','남자','' )\n",
    "xticks = ('1등실', '2등실\\n\\n여자','3등실','','1등실','2등실\\n\\n남자','3등실' )\n",
    "t = list(range(1,8))\n",
    "\n",
    "for idx in range(1, 8):\n",
    "    plt.bar(idx, count_all[idx], color=colors[idx], width=0.8, label=labels[idx])\n",
    "\n",
    "plt.title('타이타닉호 남여-객실등급별 승객수')\n",
    "plt.ylabel('승객수')\n",
    "plt.legend(title='남여-객실등급별\\n')\n",
    "\n",
    "plt.xticks(t , xticks)   # set the locations of the xticks\n",
    "plt.show()"
   ]
  }
 ],
 "metadata": {
  "kernelspec": {
   "display_name": "Python 3",
   "language": "python",
   "name": "python3"
  },
  "language_info": {
   "codemirror_mode": {
    "name": "ipython",
    "version": 3
   },
   "file_extension": ".py",
   "mimetype": "text/x-python",
   "name": "python",
   "nbconvert_exporter": "python",
   "pygments_lexer": "ipython3",
   "version": "3.7.0"
  },
  "varInspector": {
   "cols": {
    "lenName": 16,
    "lenType": 16,
    "lenVar": 40
   },
   "kernels_config": {
    "python": {
     "delete_cmd_postfix": "",
     "delete_cmd_prefix": "del ",
     "library": "var_list.py",
     "varRefreshCmd": "print(var_dic_list())"
    },
    "r": {
     "delete_cmd_postfix": ") ",
     "delete_cmd_prefix": "rm(",
     "library": "var_list.r",
     "varRefreshCmd": "cat(var_dic_list()) "
    }
   },
   "types_to_exclude": [
    "module",
    "function",
    "builtin_function_or_method",
    "instance",
    "_Feature"
   ],
   "window_display": false
  }
 },
 "nbformat": 4,
 "nbformat_minor": 2
}
