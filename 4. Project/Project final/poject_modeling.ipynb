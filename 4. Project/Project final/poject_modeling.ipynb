{
  "nbformat": 4,
  "nbformat_minor": 0,
  "metadata": {
    "colab": {
      "name": "poject_modeling.ipynb",
      "provenance": [],
      "collapsed_sections": [],
      "machine_shape": "hm",
      "include_colab_link": true
    },
    "kernelspec": {
      "name": "python3",
      "display_name": "Python 3"
    },
    "accelerator": "GPU"
  },
  "cells": [
    {
      "cell_type": "markdown",
      "metadata": {
        "id": "view-in-github",
        "colab_type": "text"
      },
      "source": [
        "<a href=\"https://colab.research.google.com/github/KIM-Jaegyeong/SBA2019_SeoulIT/blob/master/poject_modeling.ipynb\" target=\"_parent\"><img src=\"https://colab.research.google.com/assets/colab-badge.svg\" alt=\"Open In Colab\"/></a>"
      ]
    },
    {
      "cell_type": "markdown",
      "metadata": {
        "id": "3k7mw4wW8vv9",
        "colab_type": "text"
      },
      "source": [
        "# 패키지 불러오기"
      ]
    },
    {
      "cell_type": "code",
      "metadata": {
        "id": "nzSkdKTA5tKd",
        "colab_type": "code",
        "colab": {}
      },
      "source": [
        "import numpy as np\n",
        "import pandas as pd\n",
        "import matplotlib.pyplot as plt\n",
        "%matplotlib inline\n",
        "import warnings\n",
        "import seaborn as sns\n",
        "import scipy.stats as stats\n",
        "sns.set(style='darkgrid')\n",
        "warnings.filterwarnings('ignore')"
      ],
      "execution_count": 0,
      "outputs": []
    },
    {
      "cell_type": "markdown",
      "metadata": {
        "id": "q-oObWzCgyej",
        "colab_type": "text"
      },
      "source": [
        ""
      ]
    },
    {
      "cell_type": "code",
      "metadata": {
        "id": "6UwyxXC0WuL_",
        "colab_type": "code",
        "colab": {}
      },
      "source": [
        "import matplotlib.pyplot as plt\n",
        "from IPython.display import set_matplotlib_formats\n",
        "# Window 의 한글 폰트 설정\n",
        "# plt.rc('font',family='Malgun Gothic')\n",
        "# Mac 의 한글 폰트 설정\n",
        "plt.rc('font', family='AppleGothic')\n",
        "# 한글폰트 사용시 마이너스 폰트 깨지는 문제에 대한 대처\n",
        "plt.rc('axes', unicode_minus=False)\n",
        "\n",
        "set_matplotlib_formats('retina')\n",
        "\n",
        "# 그래프가 노트북 안에 보이게 하기 위해\n",
        "%matplotlib inline"
      ],
      "execution_count": 0,
      "outputs": []
    },
    {
      "cell_type": "code",
      "metadata": {
        "id": "vTzttrccWx_q",
        "colab_type": "code",
        "outputId": "ecc1606e-dd97-4ca6-db76-dcc302324228",
        "colab": {
          "base_uri": "https://localhost:8080/",
          "height": 70
        }
      },
      "source": [
        "# 나눔고딕 설치\n",
        "!apt -qq -y install fonts-nanum > /dev/null\n",
        "\n",
        "import matplotlib.font_manager as fm\n",
        "\n",
        "fontpath = '/usr/share/fonts/truetype/nanum/NanumBarunGothic.ttf'\n",
        "font = fm.FontProperties(fname=fontpath, size=9)\n",
        "fm._rebuild()\n",
        "\n",
        "# 그래프에 retina display 적용\n",
        "%config InlineBackend.figure_format = 'retina'\n",
        "\n",
        "# Colab 의 한글 폰트 설정\n",
        "plt.rc('font', family='NanumBarunGothic') "
      ],
      "execution_count": 0,
      "outputs": [
        {
          "output_type": "stream",
          "text": [
            "\n",
            "WARNING: apt does not have a stable CLI interface. Use with caution in scripts.\n",
            "\n"
          ],
          "name": "stdout"
        }
      ]
    },
    {
      "cell_type": "markdown",
      "metadata": {
        "id": "GrSeDFco8ypP",
        "colab_type": "text"
      },
      "source": [
        "# 데이터 불러오기"
      ]
    },
    {
      "cell_type": "code",
      "metadata": {
        "id": "wfA-h3eP5wSY",
        "colab_type": "code",
        "colab": {}
      },
      "source": [
        "train = pd.read_csv(\"train.csv\", sep=',', parse_dates=['Date'],\n",
        "                    dtype={'StateHoliday': str, 'SchoolHoliday':str})\n",
        "\n",
        "test = pd.read_csv(\"test.csv\", sep=\",\", index_col = 'Id', parse_dates=['Date'],\n",
        "                  dtype={'StateHoliday': str, 'SchoolHoliday':str})\n",
        "\n",
        "store = pd.read_csv(\"store.csv\", sep=\",\", dtype={'StoreType': str,\n",
        "                                                      'Assortment': str,\n",
        "                                                      'PromoInterval': str})"
      ],
      "execution_count": 0,
      "outputs": []
    },
    {
      "cell_type": "markdown",
      "metadata": {
        "id": "A1BpKPPz80FF",
        "colab_type": "text"
      },
      "source": [
        "#컬럼 소개"
      ]
    },
    {
      "cell_type": "markdown",
      "metadata": {
        "id": "vQ27Ax_C82zM",
        "colab_type": "text"
      },
      "source": [
        "**Store**\n",
        "\n",
        "Store : 가게 고유 id\n",
        "\n",
        "StoreType : 가게 타입 a,b,c,d\n",
        "\n",
        "Assortment: 분류 레벨 (a = basic, b = \n",
        "extra, c = extended )\n",
        "\n",
        "CompetitionDistance: 경쟁 업체와의 거리\n",
        "(meters)\n",
        "\n",
        "CompetitionOpenSinceMonth : 경쟁업체가 open한 월\n",
        "\n",
        "CompetitionOpenSinceYear : 경쟁업체가 \n",
        "open한 년도\n",
        "\n",
        "Promo2 : 0 = store is not participating, 1 \n",
        "= store is participating\n",
        "\n",
        "Promo2SinceWeek : 프로모션 참여 시작 주\n",
        "\n",
        "Promo2SinceYear : 프로모션 참여 시작 달\n",
        "\n",
        "PromoInterval : 프로모션 하는 달\n",
        "\n",
        "**Test**\n",
        "\n",
        "Id: id\n",
        "\n",
        "Store : 가게 고유 id\n",
        "\n",
        "dayofweek: the date in a week: 1¬-7 요일?\n",
        "\n",
        "date : 날짜\n",
        "\n",
        "open : closed =0 , open =1\n",
        "\n",
        "promo : 0 = no promo, 1 = promo\n",
        "\n",
        "StateHoliday : a = public holiday, b = \n",
        "Easter holiday, c = Christmas, 0 = None\n",
        "\n",
        "SchoolHoliday : : 1 = school holiday, 0 = not school holiday\n",
        "\n",
        "**Train**\n",
        "\n",
        "Store: 가게 고유 id\n",
        "\n",
        "Dayofweek : the date in a week: 1¬-7 요일?\n",
        "\n",
        "\n",
        "Date : 날짜\n",
        "\n",
        "Sales : the turnover for any given day: \n",
        "integer number (This is what to be predict)\n",
        " 판매수?\n",
        "\n",
        "Customers : 지정 날짜의 고객수 ( test data에 없음)\n",
        "\n",
        "open : closed =0 , open =1\n",
        "\n",
        "promo : 0 = no promo, 1 = promo\n",
        "\n",
        "StateHoliday : a = public holiday, b = Easter holiday, c = Christmas, 0 = None\n",
        "\n",
        "SchoolHoliday : : 1 = school holiday, 0 = not school holiday"
      ]
    },
    {
      "cell_type": "markdown",
      "metadata": {
        "id": "G6OFGz5Q9Xce",
        "colab_type": "text"
      },
      "source": [
        "# 데이터 탐색"
      ]
    },
    {
      "cell_type": "markdown",
      "metadata": {
        "id": "BOrMT1wA9Yp1",
        "colab_type": "text"
      },
      "source": [
        "**1) Train Dataset**"
      ]
    },
    {
      "cell_type": "code",
      "metadata": {
        "id": "UXbvOBfv84jY",
        "colab_type": "code",
        "outputId": "b89afe9d-2ca5-4ae2-843e-44b339101b70",
        "colab": {
          "base_uri": "https://localhost:8080/",
          "height": 158
        }
      },
      "source": [
        "print(train.head())"
      ],
      "execution_count": 0,
      "outputs": [
        {
          "output_type": "stream",
          "text": [
            "   Store  DayOfWeek       Date    Sales  ...  Open  Promo  StateHoliday SchoolHoliday\n",
            "0      1          5 2015-07-31   5263.0  ...   1.0    1.0             0             1\n",
            "1      2          5 2015-07-31   6064.0  ...   1.0    1.0             0             1\n",
            "2      3          5 2015-07-31   8314.0  ...   1.0    1.0             0             1\n",
            "3      4          5 2015-07-31  13995.0  ...   1.0    1.0             0             1\n",
            "4      5          5 2015-07-31   4822.0  ...   1.0    1.0             0             1\n",
            "\n",
            "[5 rows x 9 columns]\n"
          ],
          "name": "stdout"
        }
      ]
    },
    {
      "cell_type": "code",
      "metadata": {
        "id": "sjJBiSex564f",
        "colab_type": "code",
        "outputId": "bbdf08ef-33ee-4965-b538-b35532418e66",
        "colab": {
          "base_uri": "https://localhost:8080/",
          "height": 263
        }
      },
      "source": [
        "train.info()"
      ],
      "execution_count": 0,
      "outputs": [
        {
          "output_type": "stream",
          "text": [
            "<class 'pandas.core.frame.DataFrame'>\n",
            "RangeIndex: 420077 entries, 0 to 420076\n",
            "Data columns (total 9 columns):\n",
            "Store            420077 non-null int64\n",
            "DayOfWeek        420077 non-null int64\n",
            "Date             420077 non-null datetime64[ns]\n",
            "Sales            420076 non-null float64\n",
            "Customers        420076 non-null float64\n",
            "Open             420076 non-null float64\n",
            "Promo            420076 non-null float64\n",
            "StateHoliday     420076 non-null object\n",
            "SchoolHoliday    420076 non-null object\n",
            "dtypes: datetime64[ns](1), float64(4), int64(2), object(2)\n",
            "memory usage: 28.8+ MB\n"
          ],
          "name": "stdout"
        }
      ]
    },
    {
      "cell_type": "markdown",
      "metadata": {
        "id": "YhVAT5MK9eBK",
        "colab_type": "text"
      },
      "source": [
        "- StateHoliday, StateHoliday 범주형 -> 실수형\n",
        "- 행 1017208개, 컬럼 9개\n",
        "- - 범주형 변수 : DayOfWeek, Open,Promo (StateHoliday, SchoolHoliday object->변환하기)"
      ]
    },
    {
      "cell_type": "markdown",
      "metadata": {
        "id": "Tx1vxyPF-mYF",
        "colab_type": "text"
      },
      "source": [
        "# 컬럼 정리"
      ]
    },
    {
      "cell_type": "code",
      "metadata": {
        "id": "Qny0s_lF8tkh",
        "colab_type": "code",
        "colab": {}
      },
      "source": [
        "# date - 년,월 분류\n",
        "train['Year'] = pd.DatetimeIndex(train['Date']).year\n",
        "train['Month'] = pd.DatetimeIndex(train['Date']).month"
      ],
      "execution_count": 0,
      "outputs": []
    },
    {
      "cell_type": "code",
      "metadata": {
        "id": "-M4zTX_1-p_J",
        "colab_type": "code",
        "outputId": "78d8091a-4897-4a0e-f11f-9c4a99a79b32",
        "colab": {
          "base_uri": "https://localhost:8080/",
          "height": 210
        }
      },
      "source": [
        "train = train[['Store', 'DayOfWeek', 'Date', 'Year', 'Month', 'Customers', 'Open',\n",
        "               'Promo', 'StateHoliday', 'SchoolHoliday', 'Sales']]\n",
        "list(train.columns.values)"
      ],
      "execution_count": 0,
      "outputs": [
        {
          "output_type": "execute_result",
          "data": {
            "text/plain": [
              "['Store',\n",
              " 'DayOfWeek',\n",
              " 'Date',\n",
              " 'Year',\n",
              " 'Month',\n",
              " 'Customers',\n",
              " 'Open',\n",
              " 'Promo',\n",
              " 'StateHoliday',\n",
              " 'SchoolHoliday',\n",
              " 'Sales']"
            ]
          },
          "metadata": {
            "tags": []
          },
          "execution_count": 20
        }
      ]
    },
    {
      "cell_type": "code",
      "metadata": {
        "id": "DRSJsbPU-rnH",
        "colab_type": "code",
        "outputId": "7fe72d8b-9f25-4b09-93aa-ae812ce59bc0",
        "colab": {
          "base_uri": "https://localhost:8080/",
          "height": 34
        }
      },
      "source": [
        "train['StateHoliday'].unique()"
      ],
      "execution_count": 0,
      "outputs": [
        {
          "output_type": "execute_result",
          "data": {
            "text/plain": [
              "array(['0', 'a', 'b', 'c', nan], dtype=object)"
            ]
          },
          "metadata": {
            "tags": []
          },
          "execution_count": 21
        }
      ]
    },
    {
      "cell_type": "code",
      "metadata": {
        "id": "7U9VayAD-suv",
        "colab_type": "code",
        "colab": {}
      },
      "source": [
        "# train.loc[train['StateHoliday'] == '0', 'StateHoliday'] = 0\n",
        "# train.loc[train['StateHoliday'] == 'a', 'StateHoliday'] = 1\n",
        "# train.loc[train['StateHoliday'] == 'b', 'StateHoliday'] = 2\n",
        "# train.loc[train['StateHoliday'] == 'c', 'StateHoliday'] = 3\n",
        "# train['StateHoliday'] = train['StateHoliday'].astype(int, copy=False)"
      ],
      "execution_count": 0,
      "outputs": []
    },
    {
      "cell_type": "code",
      "metadata": {
        "id": "_pZhxKEA-twZ",
        "colab_type": "code",
        "colab": {}
      },
      "source": [
        "# int로 만드는 function\n",
        "def factor_to_integer(df, colname, start_value=0):\n",
        "    while df[colname].dtype == object:\n",
        "        myval = start_value # factor starts at \"start_value\".\n",
        "        for sval in df[colname].unique():\n",
        "            df.loc[df[colname] == sval, colname] = myval\n",
        "            myval += 1\n",
        "        df[colname] = df[colname].astype(int, copy=False)\n",
        "    print('levels :', df[colname].unique(), '; data type :', df[colname].dtype)"
      ],
      "execution_count": 0,
      "outputs": []
    },
    {
      "cell_type": "code",
      "metadata": {
        "id": "qE7cizCN-vGn",
        "colab_type": "code",
        "colab": {}
      },
      "source": [
        "# factor_to_integer(train, 'SchoolHoliday')"
      ],
      "execution_count": 0,
      "outputs": []
    },
    {
      "cell_type": "code",
      "metadata": {
        "id": "nq0hDwb_-wuH",
        "colab_type": "code",
        "outputId": "e30eeb07-4db0-48f2-bb7b-ffb6f35d40b9",
        "colab": {
          "base_uri": "https://localhost:8080/",
          "height": 298
        }
      },
      "source": [
        "train.info()"
      ],
      "execution_count": 0,
      "outputs": [
        {
          "output_type": "stream",
          "text": [
            "<class 'pandas.core.frame.DataFrame'>\n",
            "RangeIndex: 420077 entries, 0 to 420076\n",
            "Data columns (total 11 columns):\n",
            "Store            420077 non-null int64\n",
            "DayOfWeek        420077 non-null int64\n",
            "Date             420077 non-null datetime64[ns]\n",
            "Year             420077 non-null int64\n",
            "Month            420077 non-null int64\n",
            "Customers        420076 non-null float64\n",
            "Open             420076 non-null float64\n",
            "Promo            420076 non-null float64\n",
            "StateHoliday     420076 non-null object\n",
            "SchoolHoliday    420076 non-null object\n",
            "Sales            420076 non-null float64\n",
            "dtypes: datetime64[ns](1), float64(4), int64(4), object(2)\n",
            "memory usage: 35.3+ MB\n"
          ],
          "name": "stdout"
        }
      ]
    },
    {
      "cell_type": "code",
      "metadata": {
        "id": "mHkCGLZV-xv7",
        "colab_type": "code",
        "outputId": "fcebbf22-3567-4d7a-e084-5089d61a7b66",
        "colab": {
          "base_uri": "https://localhost:8080/",
          "height": 210
        }
      },
      "source": [
        "print(train.describe())"
      ],
      "execution_count": 0,
      "outputs": [
        {
          "output_type": "stream",
          "text": [
            "               Store      DayOfWeek  ...          Promo          Sales\n",
            "count  420077.000000  420077.000000  ...  420076.000000  420076.000000\n",
            "mean      558.674695       4.002492  ...       0.394181    5935.773715\n",
            "std       321.979296       1.999417  ...       0.488675    3891.595052\n",
            "min         1.000000       1.000000  ...       0.000000       0.000000\n",
            "25%       281.000000       2.000000  ...       0.000000    3890.000000\n",
            "50%       558.000000       4.000000  ...       0.000000    5921.000000\n",
            "75%       838.000000       6.000000  ...       1.000000    8051.000000\n",
            "max      1115.000000       7.000000  ...       1.000000   41551.000000\n",
            "\n",
            "[8 rows x 8 columns]\n"
          ],
          "name": "stdout"
        }
      ]
    },
    {
      "cell_type": "code",
      "metadata": {
        "id": "9fk7skoK-y3W",
        "colab_type": "code",
        "outputId": "52f07bd1-742e-4098-ffad-b8a12f393918",
        "colab": {
          "base_uri": "https://localhost:8080/",
          "height": 210
        }
      },
      "source": [
        "#null 확인\n",
        "from collections import Counter\n",
        "x = {colname : train[colname].isnull().sum() for colname in train.columns}\n",
        "Counter(x).most_common()"
      ],
      "execution_count": 0,
      "outputs": [
        {
          "output_type": "execute_result",
          "data": {
            "text/plain": [
              "[('Customers', 1),\n",
              " ('Open', 1),\n",
              " ('Promo', 1),\n",
              " ('StateHoliday', 1),\n",
              " ('SchoolHoliday', 1),\n",
              " ('Sales', 1),\n",
              " ('Store', 0),\n",
              " ('DayOfWeek', 0),\n",
              " ('Date', 0),\n",
              " ('Year', 0),\n",
              " ('Month', 0)]"
            ]
          },
          "metadata": {
            "tags": []
          },
          "execution_count": 28
        }
      ]
    },
    {
      "cell_type": "markdown",
      "metadata": {
        "id": "fgvhiDEo-1VD",
        "colab_type": "text"
      },
      "source": [
        "\n",
        "\n",
        "\n",
        "\n",
        "\n",
        "\n",
        "\n",
        "\n",
        "\n",
        "\n",
        "\n",
        "\n",
        "\n",
        "\n",
        "\n",
        "**2) Test Dataset**"
      ]
    },
    {
      "cell_type": "code",
      "metadata": {
        "id": "4JrLiABS-2g3",
        "colab_type": "code",
        "outputId": "427682f0-3fd8-4a6d-d8e1-5433f0cf86b0",
        "colab": {
          "base_uri": "https://localhost:8080/",
          "height": 140
        }
      },
      "source": [
        "print(test.head())"
      ],
      "execution_count": 0,
      "outputs": [
        {
          "output_type": "stream",
          "text": [
            "    Store  DayOfWeek       Date  Open  Promo StateHoliday SchoolHoliday\n",
            "Id                                                                     \n",
            "1       1          4 2015-09-17   1.0      1            0             0\n",
            "2       3          4 2015-09-17   1.0      1            0             0\n",
            "3       7          4 2015-09-17   1.0      1            0             0\n",
            "4       8          4 2015-09-17   1.0      1            0             0\n",
            "5       9          4 2015-09-17   1.0      1            0             0\n"
          ],
          "name": "stdout"
        }
      ]
    },
    {
      "cell_type": "code",
      "metadata": {
        "id": "Z4vNY3ty-3eY",
        "colab_type": "code",
        "outputId": "b19646db-2be3-4a54-bc86-94c3a47d1d23",
        "colab": {
          "base_uri": "https://localhost:8080/",
          "height": 228
        }
      },
      "source": [
        "test.info()"
      ],
      "execution_count": 0,
      "outputs": [
        {
          "output_type": "stream",
          "text": [
            "<class 'pandas.core.frame.DataFrame'>\n",
            "Int64Index: 41088 entries, 1 to 41088\n",
            "Data columns (total 7 columns):\n",
            "Store            41088 non-null int64\n",
            "DayOfWeek        41088 non-null int64\n",
            "Date             41088 non-null datetime64[ns]\n",
            "Open             41077 non-null float64\n",
            "Promo            41088 non-null int64\n",
            "StateHoliday     41088 non-null object\n",
            "SchoolHoliday    41088 non-null object\n",
            "dtypes: datetime64[ns](1), float64(1), int64(3), object(2)\n",
            "memory usage: 2.5+ MB\n"
          ],
          "name": "stdout"
        }
      ]
    },
    {
      "cell_type": "markdown",
      "metadata": {
        "id": "k-MUbXC--5W4",
        "colab_type": "text"
      },
      "source": [
        "- StateHoliday, StateHoliday 범주형 -> 실수형\n",
        "- open float?\n",
        "- 행 41088개, 컬럼 7개"
      ]
    },
    {
      "cell_type": "markdown",
      "metadata": {
        "id": "RJZc_DM3-9Us",
        "colab_type": "text"
      },
      "source": [
        "# 컬럼 정리"
      ]
    },
    {
      "cell_type": "code",
      "metadata": {
        "id": "5c2-e7m_-4ef",
        "colab_type": "code",
        "colab": {}
      },
      "source": [
        "test['Year'] = pd.DatetimeIndex(test['Date']).year\n",
        "test['Month'] = pd.DatetimeIndex(test['Date']).month"
      ],
      "execution_count": 0,
      "outputs": []
    },
    {
      "cell_type": "code",
      "metadata": {
        "id": "n9OjsGO8-z63",
        "colab_type": "code",
        "outputId": "1c6d047c-eb3f-4987-bf69-9a167df3f905",
        "colab": {
          "base_uri": "https://localhost:8080/",
          "height": 175
        }
      },
      "source": [
        "test = test[['Store', 'DayOfWeek', 'Date', 'Year', 'Month', 'Open',\n",
        "             'Promo', 'StateHoliday', 'SchoolHoliday']]\n",
        "list(test.columns.values)"
      ],
      "execution_count": 0,
      "outputs": [
        {
          "output_type": "execute_result",
          "data": {
            "text/plain": [
              "['Store',\n",
              " 'DayOfWeek',\n",
              " 'Date',\n",
              " 'Year',\n",
              " 'Month',\n",
              " 'Open',\n",
              " 'Promo',\n",
              " 'StateHoliday',\n",
              " 'SchoolHoliday']"
            ]
          },
          "metadata": {
            "tags": []
          },
          "execution_count": 32
        }
      ]
    },
    {
      "cell_type": "code",
      "metadata": {
        "id": "LrYJxtj2_CWP",
        "colab_type": "code",
        "outputId": "3288699c-dea4-4947-d7a5-6860ecea9fd0",
        "colab": {
          "base_uri": "https://localhost:8080/",
          "height": 175
        }
      },
      "source": [
        "#null 확인\n",
        "x = {colname : test[colname].isnull().sum() for colname in test.columns}\n",
        "Counter(x).most_common()"
      ],
      "execution_count": 0,
      "outputs": [
        {
          "output_type": "execute_result",
          "data": {
            "text/plain": [
              "[('Open', 11),\n",
              " ('Store', 0),\n",
              " ('DayOfWeek', 0),\n",
              " ('Date', 0),\n",
              " ('Year', 0),\n",
              " ('Month', 0),\n",
              " ('Promo', 0),\n",
              " ('StateHoliday', 0),\n",
              " ('SchoolHoliday', 0)]"
            ]
          },
          "metadata": {
            "tags": []
          },
          "execution_count": 33
        }
      ]
    },
    {
      "cell_type": "code",
      "metadata": {
        "id": "dVIush5Q_DPH",
        "colab_type": "code",
        "outputId": "0d82cd1e-ed71-4bff-acad-25d57ef83842",
        "colab": {
          "base_uri": "https://localhost:8080/",
          "height": 281
        }
      },
      "source": [
        "# store 622가 NaN값 \n",
        "print(test.ix[np.isnan(test['Open'])])"
      ],
      "execution_count": 0,
      "outputs": [
        {
          "output_type": "stream",
          "text": [
            "       Store  DayOfWeek       Date  ...  Promo  StateHoliday  SchoolHoliday\n",
            "Id                                  ...                                    \n",
            "480      622          4 2015-09-17  ...      1             0              0\n",
            "1336     622          3 2015-09-16  ...      1             0              0\n",
            "2192     622          2 2015-09-15  ...      1             0              0\n",
            "3048     622          1 2015-09-14  ...      1             0              0\n",
            "4760     622          6 2015-09-12  ...      0             0              0\n",
            "5616     622          5 2015-09-11  ...      0             0              0\n",
            "6472     622          4 2015-09-10  ...      0             0              0\n",
            "7328     622          3 2015-09-09  ...      0             0              0\n",
            "8184     622          2 2015-09-08  ...      0             0              0\n",
            "9040     622          1 2015-09-07  ...      0             0              0\n",
            "10752    622          6 2015-09-05  ...      0             0              0\n",
            "\n",
            "[11 rows x 9 columns]\n"
          ],
          "name": "stdout"
        }
      ]
    },
    {
      "cell_type": "code",
      "metadata": {
        "id": "vUttLKJs_Eop",
        "colab_type": "code",
        "outputId": "17df386d-8245-40fa-c286-1bee6d56b392",
        "colab": {
          "base_uri": "https://localhost:8080/",
          "height": 158
        }
      },
      "source": [
        "print(train.ix[train['Store'] == 622].head())"
      ],
      "execution_count": 0,
      "outputs": [
        {
          "output_type": "stream",
          "text": [
            "      Store  DayOfWeek       Date  ...  StateHoliday  SchoolHoliday   Sales\n",
            "621     622          5 2015-07-31  ...             0              0  6306.0\n",
            "1736    622          4 2015-07-30  ...             0              0  5412.0\n",
            "2851    622          3 2015-07-29  ...             0              0  5326.0\n",
            "3966    622          2 2015-07-28  ...             0              0  4966.0\n",
            "5081    622          1 2015-07-27  ...             0              0  5413.0\n",
            "\n",
            "[5 rows x 11 columns]\n"
          ],
          "name": "stdout"
        }
      ]
    },
    {
      "cell_type": "code",
      "metadata": {
        "id": "5T9c-KPb_Fph",
        "colab_type": "code",
        "colab": {}
      },
      "source": [
        "test.ix[np.isnan(test['Open']), 'Open'] = 1"
      ],
      "execution_count": 0,
      "outputs": []
    },
    {
      "cell_type": "code",
      "metadata": {
        "id": "sNzsELBh_Gif",
        "colab_type": "code",
        "outputId": "30521d78-3022-4c02-9b0a-bcf6d4835350",
        "colab": {
          "base_uri": "https://localhost:8080/",
          "height": 175
        }
      },
      "source": [
        "from collections import Counter\n",
        "x = {colname : test[colname].isnull().sum() for colname in test.columns}\n",
        "Counter(x).most_common()"
      ],
      "execution_count": 0,
      "outputs": [
        {
          "output_type": "execute_result",
          "data": {
            "text/plain": [
              "[('Store', 0),\n",
              " ('DayOfWeek', 0),\n",
              " ('Date', 0),\n",
              " ('Year', 0),\n",
              " ('Month', 0),\n",
              " ('Open', 0),\n",
              " ('Promo', 0),\n",
              " ('StateHoliday', 0),\n",
              " ('SchoolHoliday', 0)]"
            ]
          },
          "metadata": {
            "tags": []
          },
          "execution_count": 37
        }
      ]
    },
    {
      "cell_type": "code",
      "metadata": {
        "id": "hXzcW1rH_Hk6",
        "colab_type": "code",
        "outputId": "dd40f04a-8a65-4f67-cea7-b6bc61d662e6",
        "colab": {
          "base_uri": "https://localhost:8080/",
          "height": 34
        }
      },
      "source": [
        "test['StateHoliday'].unique()"
      ],
      "execution_count": 0,
      "outputs": [
        {
          "output_type": "execute_result",
          "data": {
            "text/plain": [
              "array(['0', 'a'], dtype=object)"
            ]
          },
          "metadata": {
            "tags": []
          },
          "execution_count": 38
        }
      ]
    },
    {
      "cell_type": "code",
      "metadata": {
        "id": "IPg7mfc2_UAi",
        "colab_type": "code",
        "outputId": "68b2fb72-dd63-4c1e-f92c-222782341632",
        "colab": {
          "base_uri": "https://localhost:8080/",
          "height": 34
        }
      },
      "source": [
        "\n",
        "test['SchoolHoliday'].unique()"
      ],
      "execution_count": 0,
      "outputs": [
        {
          "output_type": "execute_result",
          "data": {
            "text/plain": [
              "array(['0', '1'], dtype=object)"
            ]
          },
          "metadata": {
            "tags": []
          },
          "execution_count": 39
        }
      ]
    },
    {
      "cell_type": "code",
      "metadata": {
        "id": "An5_ZZiq_VBH",
        "colab_type": "code",
        "outputId": "a794d1f6-5ba4-4148-ce7a-2e7883777ad2",
        "colab": {
          "base_uri": "https://localhost:8080/",
          "height": 228
        }
      },
      "source": [
        "\n",
        "\n",
        "\n",
        "\n",
        "factor_to_integer(test, 'StateHoliday')\n",
        "factor_to_integer(test, 'SchoolHoliday')\n",
        "test.dtypes"
      ],
      "execution_count": 0,
      "outputs": [
        {
          "output_type": "stream",
          "text": [
            "levels : [0 1] ; data type : int64\n",
            "levels : [0 1] ; data type : int64\n"
          ],
          "name": "stdout"
        },
        {
          "output_type": "execute_result",
          "data": {
            "text/plain": [
              "Store                     int64\n",
              "DayOfWeek                 int64\n",
              "Date             datetime64[ns]\n",
              "Year                      int64\n",
              "Month                     int64\n",
              "Open                    float64\n",
              "Promo                     int64\n",
              "StateHoliday              int64\n",
              "SchoolHoliday             int64\n",
              "dtype: object"
            ]
          },
          "metadata": {
            "tags": []
          },
          "execution_count": 40
        }
      ]
    },
    {
      "cell_type": "code",
      "metadata": {
        "id": "ZQUK9dsx_V64",
        "colab_type": "code",
        "colab": {}
      },
      "source": [
        "# holiday 맞추기 (StateHoliday : a = public holiday, b = Easter holiday, c = Christmas, 0 = None)\n",
        "# train = train.loc[train['StateHoliday'] < 2]"
      ],
      "execution_count": 0,
      "outputs": []
    },
    {
      "cell_type": "markdown",
      "metadata": {
        "id": "NkE0gVjX_YRo",
        "colab_type": "text"
      },
      "source": [
        "**3) Store Dataset**"
      ]
    },
    {
      "cell_type": "code",
      "metadata": {
        "id": "jiYfC42Y_ZFR",
        "colab_type": "code",
        "outputId": "9bfa83b5-b418-446a-ae29-499b291782c9",
        "colab": {
          "base_uri": "https://localhost:8080/",
          "height": 175
        }
      },
      "source": [
        "\n",
        "\n",
        "\n",
        "print(test.head())"
      ],
      "execution_count": 0,
      "outputs": [
        {
          "output_type": "stream",
          "text": [
            "    Store  DayOfWeek       Date  Year  ...  Open  Promo  StateHoliday  SchoolHoliday\n",
            "Id                                     ...                                          \n",
            "1       1          4 2015-09-17  2015  ...   1.0      1             0              0\n",
            "2       3          4 2015-09-17  2015  ...   1.0      1             0              0\n",
            "3       7          4 2015-09-17  2015  ...   1.0      1             0              0\n",
            "4       8          4 2015-09-17  2015  ...   1.0      1             0              0\n",
            "5       9          4 2015-09-17  2015  ...   1.0      1             0              0\n",
            "\n",
            "[5 rows x 9 columns]\n"
          ],
          "name": "stdout"
        }
      ]
    },
    {
      "cell_type": "code",
      "metadata": {
        "id": "C_EKbjvQ_aWU",
        "colab_type": "code",
        "outputId": "c62990ea-5c63-4577-dcbb-c9f2968676be",
        "colab": {
          "base_uri": "https://localhost:8080/",
          "height": 281
        }
      },
      "source": [
        "store.info()"
      ],
      "execution_count": 0,
      "outputs": [
        {
          "output_type": "stream",
          "text": [
            "<class 'pandas.core.frame.DataFrame'>\n",
            "RangeIndex: 1115 entries, 0 to 1114\n",
            "Data columns (total 10 columns):\n",
            "Store                        1115 non-null int64\n",
            "StoreType                    1115 non-null object\n",
            "Assortment                   1115 non-null object\n",
            "CompetitionDistance          1112 non-null float64\n",
            "CompetitionOpenSinceMonth    761 non-null float64\n",
            "CompetitionOpenSinceYear     761 non-null float64\n",
            "Promo2                       1115 non-null int64\n",
            "Promo2SinceWeek              571 non-null float64\n",
            "Promo2SinceYear              571 non-null float64\n",
            "PromoInterval                571 non-null object\n",
            "dtypes: float64(5), int64(2), object(3)\n",
            "memory usage: 87.2+ KB\n"
          ],
          "name": "stdout"
        }
      ]
    },
    {
      "cell_type": "code",
      "metadata": {
        "id": "n0rKGlof_bJB",
        "colab_type": "code",
        "outputId": "dc7d2070-6431-4355-aec3-630664323eb7",
        "colab": {
          "base_uri": "https://localhost:8080/",
          "height": 193
        }
      },
      "source": [
        "x = {colname : store[colname].isnull().sum() for colname in store.columns}\n",
        "Counter(x).most_common()"
      ],
      "execution_count": 0,
      "outputs": [
        {
          "output_type": "execute_result",
          "data": {
            "text/plain": [
              "[('Promo2SinceWeek', 544),\n",
              " ('Promo2SinceYear', 544),\n",
              " ('PromoInterval', 544),\n",
              " ('CompetitionOpenSinceMonth', 354),\n",
              " ('CompetitionOpenSinceYear', 354),\n",
              " ('CompetitionDistance', 3),\n",
              " ('Store', 0),\n",
              " ('StoreType', 0),\n",
              " ('Assortment', 0),\n",
              " ('Promo2', 0)]"
            ]
          },
          "metadata": {
            "tags": []
          },
          "execution_count": 45
        }
      ]
    },
    {
      "cell_type": "code",
      "metadata": {
        "id": "6_dT0-mI_cTk",
        "colab_type": "code",
        "outputId": "f7cb002f-cabe-426e-d46f-d97894431c78",
        "colab": {
          "base_uri": "https://localhost:8080/",
          "height": 52
        }
      },
      "source": [
        "store['PromoInterval'].unique()"
      ],
      "execution_count": 0,
      "outputs": [
        {
          "output_type": "execute_result",
          "data": {
            "text/plain": [
              "array([nan, 'Jan,Apr,Jul,Oct', 'Feb,May,Aug,Nov', 'Mar,Jun,Sept,Dec'],\n",
              "      dtype=object)"
            ]
          },
          "metadata": {
            "tags": []
          },
          "execution_count": 46
        }
      ]
    },
    {
      "cell_type": "code",
      "metadata": {
        "id": "9fmsvq4o_dnQ",
        "colab_type": "code",
        "colab": {}
      },
      "source": [
        "\n",
        "\n",
        "\n",
        "\n",
        "\n",
        "store.ix[store['Promo2'] == 0, ['Promo2SinceWeek', 'Promo2SinceYear', 'PromoInterval']] = 0"
      ],
      "execution_count": 0,
      "outputs": []
    },
    {
      "cell_type": "code",
      "metadata": {
        "id": "_zVK5QK1_e3Y",
        "colab_type": "code",
        "colab": {}
      },
      "source": [
        "store.ix[store['Promo2'] != 0, 'Promo2SinceWeek'] = store['Promo2SinceWeek'].max() - store.ix[store['Promo2'] != 0, 'Promo2SinceWeek']"
      ],
      "execution_count": 0,
      "outputs": []
    },
    {
      "cell_type": "code",
      "metadata": {
        "id": "6-tLvm6g_f0V",
        "colab_type": "code",
        "colab": {}
      },
      "source": [
        "store.ix[store['Promo2'] != 0, 'Promo2SinceYear'] = store['Promo2SinceYear'].max() - store.ix[store['Promo2'] != 0, 'Promo2SinceYear']"
      ],
      "execution_count": 0,
      "outputs": []
    },
    {
      "cell_type": "code",
      "metadata": {
        "id": "9IkdWsjj_iW8",
        "colab_type": "code",
        "outputId": "649444b9-11ee-42a1-93dc-bfd6dea673e8",
        "colab": {
          "base_uri": "https://localhost:8080/"
        }
      },
      "source": [
        "factor_to_integer(store, 'PromoInterval', start_value=0)"
      ],
      "execution_count": 0,
      "outputs": [
        {
          "output_type": "stream",
          "text": [
            "levels : [0 1 2 3] ; data type : int64\n"
          ],
          "name": "stdout"
        }
      ]
    },
    {
      "cell_type": "code",
      "metadata": {
        "id": "b5shfDkA_jO3",
        "colab_type": "code",
        "outputId": "037d27c1-08c6-4e4b-b4d7-09f18a66cec7",
        "colab": {
          "base_uri": "https://localhost:8080/"
        }
      },
      "source": [
        "factor_to_integer(store, 'StoreType')\n",
        "factor_to_integer(store, 'Assortment')\n",
        "store.dtypes"
      ],
      "execution_count": 0,
      "outputs": [
        {
          "output_type": "stream",
          "text": [
            "levels : [0 1 2 3] ; data type : int64\n",
            "levels : [0 1 2] ; data type : int64\n"
          ],
          "name": "stdout"
        },
        {
          "output_type": "execute_result",
          "data": {
            "text/plain": [
              "Store                          int64\n",
              "StoreType                      int64\n",
              "Assortment                     int64\n",
              "CompetitionDistance          float64\n",
              "CompetitionOpenSinceMonth    float64\n",
              "CompetitionOpenSinceYear     float64\n",
              "Promo2                         int64\n",
              "Promo2SinceWeek              float64\n",
              "Promo2SinceYear              float64\n",
              "PromoInterval                  int64\n",
              "dtype: object"
            ]
          },
          "metadata": {
            "tags": []
          },
          "execution_count": 51
        }
      ]
    },
    {
      "cell_type": "code",
      "metadata": {
        "id": "XZ7EQSLo_keq",
        "colab_type": "code",
        "outputId": "e8da58fb-aa9c-46dd-86e2-884cd819900f",
        "colab": {
          "base_uri": "https://localhost:8080/"
        }
      },
      "source": [
        "\n",
        "x = {colname : store[colname].isnull().sum() for colname in store.columns}\n",
        "Counter(x).most_common()"
      ],
      "execution_count": 0,
      "outputs": [
        {
          "output_type": "execute_result",
          "data": {
            "text/plain": [
              "[('CompetitionOpenSinceMonth', 354),\n",
              " ('CompetitionOpenSinceYear', 354),\n",
              " ('CompetitionDistance', 3),\n",
              " ('Store', 0),\n",
              " ('StoreType', 0),\n",
              " ('Assortment', 0),\n",
              " ('Promo2', 0),\n",
              " ('Promo2SinceWeek', 0),\n",
              " ('Promo2SinceYear', 0),\n",
              " ('PromoInterval', 0)]"
            ]
          },
          "metadata": {
            "tags": []
          },
          "execution_count": 52
        }
      ]
    },
    {
      "cell_type": "code",
      "metadata": {
        "id": "8wt8-YH1_obf",
        "colab_type": "code",
        "outputId": "03e9736b-24fa-41c4-ba47-14b447bb2a73",
        "colab": {
          "base_uri": "https://localhost:8080/"
        }
      },
      "source": [
        "from sklearn.preprocessing import Imputer\n",
        "imputer = Imputer().fit(store)\n",
        "store_imputed = imputer.transform(store)"
      ],
      "execution_count": 0,
      "outputs": [
        {
          "output_type": "stream",
          "text": [
            "/usr/local/lib/python3.6/dist-packages/sklearn/utils/deprecation.py:66: DeprecationWarning: Class Imputer is deprecated; Imputer was deprecated in version 0.20 and will be removed in 0.22. Import impute.SimpleImputer from sklearn instead.\n",
            "  warnings.warn(msg, category=DeprecationWarning)\n"
          ],
          "name": "stderr"
        }
      ]
    },
    {
      "cell_type": "code",
      "metadata": {
        "id": "9957b5Qc_p6Q",
        "colab_type": "code",
        "colab": {}
      },
      "source": [
        "store2 = pd.DataFrame(store_imputed, columns=store.columns.values)"
      ],
      "execution_count": 0,
      "outputs": []
    },
    {
      "cell_type": "code",
      "metadata": {
        "id": "zkaMbjf-_rOP",
        "colab_type": "code",
        "outputId": "2640edc1-c894-4662-fef2-0c7ba46823fe",
        "colab": {
          "base_uri": "https://localhost:8080/"
        }
      },
      "source": [
        "x = {colname : store2[colname].isnull().sum() for colname in store2.columns}\n",
        "Counter(x).most_common()"
      ],
      "execution_count": 0,
      "outputs": [
        {
          "output_type": "execute_result",
          "data": {
            "text/plain": [
              "[('Store', 0),\n",
              " ('StoreType', 0),\n",
              " ('Assortment', 0),\n",
              " ('CompetitionDistance', 0),\n",
              " ('CompetitionOpenSinceMonth', 0),\n",
              " ('CompetitionOpenSinceYear', 0),\n",
              " ('Promo2', 0),\n",
              " ('Promo2SinceWeek', 0),\n",
              " ('Promo2SinceYear', 0),\n",
              " ('PromoInterval', 0)]"
            ]
          },
          "metadata": {
            "tags": []
          },
          "execution_count": 55
        }
      ]
    },
    {
      "cell_type": "code",
      "metadata": {
        "id": "idgUr8PP_slv",
        "colab_type": "code",
        "colab": {}
      },
      "source": [
        "store2['CompetitionOpenSinceMonth'] = store2['CompetitionOpenSinceMonth'].max() - store2['CompetitionOpenSinceMonth']"
      ],
      "execution_count": 0,
      "outputs": []
    },
    {
      "cell_type": "code",
      "metadata": {
        "id": "E8xYba7L_t1U",
        "colab_type": "code",
        "colab": {}
      },
      "source": [
        "store2['CompetitionOpenSinceYear'] = store2['CompetitionOpenSinceYear'].max() - store2['CompetitionOpenSinceYear']"
      ],
      "execution_count": 0,
      "outputs": []
    },
    {
      "cell_type": "code",
      "metadata": {
        "id": "X6n1c-GI_vAp",
        "colab_type": "code",
        "outputId": "5946af02-9892-4eed-9be7-7c2154fcee8e",
        "colab": {
          "base_uri": "https://localhost:8080/"
        }
      },
      "source": [
        "len(store2['Store']) - sum(store2['Store'].isin(train['Store']))"
      ],
      "execution_count": 0,
      "outputs": [
        {
          "output_type": "execute_result",
          "data": {
            "text/plain": [
              "0"
            ]
          },
          "metadata": {
            "tags": []
          },
          "execution_count": 58
        }
      ]
    },
    {
      "cell_type": "code",
      "metadata": {
        "id": "Q-YJs1vQ_v_b",
        "colab_type": "code",
        "outputId": "1eb6299c-5a50-4eaf-c859-6a1bfd32af0c",
        "colab": {
          "base_uri": "https://localhost:8080/"
        }
      },
      "source": [
        "StoreStore = pd.Series(store2['Store']); StoreTrain = pd.Series(train['Store'])\n",
        "\n",
        "sum(StoreTrain.isin(StoreStore) == False)"
      ],
      "execution_count": 0,
      "outputs": [
        {
          "output_type": "execute_result",
          "data": {
            "text/plain": [
              "0"
            ]
          },
          "metadata": {
            "tags": []
          },
          "execution_count": 59
        }
      ]
    },
    {
      "cell_type": "code",
      "metadata": {
        "id": "HLze9kc0_w3M",
        "colab_type": "code",
        "colab": {}
      },
      "source": [
        "train_store = pd.merge(train, store2, how = 'left', on='Store')"
      ],
      "execution_count": 0,
      "outputs": []
    },
    {
      "cell_type": "code",
      "metadata": {
        "id": "g1mT_-Y8_yEU",
        "colab_type": "code",
        "outputId": "d30e9ab8-9d62-47a9-d028-c5e4234aeb9a",
        "colab": {
          "base_uri": "https://localhost:8080/"
        }
      },
      "source": [
        "print(train_store.head())"
      ],
      "execution_count": 0,
      "outputs": [
        {
          "output_type": "stream",
          "text": [
            "   Store  DayOfWeek       Date  ...  Promo2SinceWeek  Promo2SinceYear  PromoInterval\n",
            "0      1          5 2015-07-31  ...              0.0              0.0            0.0\n",
            "1      2          5 2015-07-31  ...             37.0              5.0            1.0\n",
            "2      3          5 2015-07-31  ...             36.0              4.0            1.0\n",
            "3      4          5 2015-07-31  ...              0.0              0.0            0.0\n",
            "4      5          5 2015-07-31  ...              0.0              0.0            0.0\n",
            "\n",
            "[5 rows x 20 columns]\n"
          ],
          "name": "stdout"
        }
      ]
    },
    {
      "cell_type": "code",
      "metadata": {
        "id": "sxa-KEd__zX2",
        "colab_type": "code",
        "colab": {}
      },
      "source": [
        "test_store = test.reset_index().merge(store2, how = 'left', on='Store').set_index('Id')"
      ],
      "execution_count": 0,
      "outputs": []
    },
    {
      "cell_type": "code",
      "metadata": {
        "id": "g_xLPwAa_05u",
        "colab_type": "code",
        "outputId": "88cb7a80-2880-47e2-b53e-8d23b9f1a3d0",
        "colab": {
          "base_uri": "https://localhost:8080/"
        }
      },
      "source": [
        "\n",
        "print(test_store.head())"
      ],
      "execution_count": 0,
      "outputs": [
        {
          "output_type": "stream",
          "text": [
            "    Store  DayOfWeek  ... Promo2SinceYear  PromoInterval\n",
            "Id                    ...                               \n",
            "1       1          4  ...             0.0            0.0\n",
            "2       3          4  ...             4.0            1.0\n",
            "3       7          4  ...             0.0            0.0\n",
            "4       8          4  ...             0.0            0.0\n",
            "5       9          4  ...             0.0            0.0\n",
            "\n",
            "[5 rows x 18 columns]\n"
          ],
          "name": "stdout"
        }
      ]
    },
    {
      "cell_type": "code",
      "metadata": {
        "id": "zmcG0-sM_14l",
        "colab_type": "code",
        "outputId": "2045ce5f-dfa1-42bb-82e3-f127b8914215",
        "colab": {
          "base_uri": "https://localhost:8080/"
        }
      },
      "source": [
        "test_store.isnull().sum()"
      ],
      "execution_count": 0,
      "outputs": [
        {
          "output_type": "execute_result",
          "data": {
            "text/plain": [
              "Store                        0\n",
              "DayOfWeek                    0\n",
              "Date                         0\n",
              "Year                         0\n",
              "Month                        0\n",
              "Open                         0\n",
              "Promo                        0\n",
              "StateHoliday                 0\n",
              "SchoolHoliday                0\n",
              "StoreType                    0\n",
              "Assortment                   0\n",
              "CompetitionDistance          0\n",
              "CompetitionOpenSinceMonth    0\n",
              "CompetitionOpenSinceYear     0\n",
              "Promo2                       0\n",
              "Promo2SinceWeek              0\n",
              "Promo2SinceYear              0\n",
              "PromoInterval                0\n",
              "dtype: int64"
            ]
          },
          "metadata": {
            "tags": []
          },
          "execution_count": 64
        }
      ]
    },
    {
      "cell_type": "code",
      "metadata": {
        "id": "0fMgnDSyx6Zu",
        "colab_type": "code",
        "outputId": "e21b7906-ca21-4e82-a93c-93abf080abd0",
        "colab": {
          "base_uri": "https://localhost:8080/"
        }
      },
      "source": [
        "train_store.columns"
      ],
      "execution_count": 0,
      "outputs": [
        {
          "output_type": "execute_result",
          "data": {
            "text/plain": [
              "Index(['Store', 'DayOfWeek', 'Date', 'Year', 'Month', 'Customers', 'Open',\n",
              "       'Promo', 'StateHoliday', 'SchoolHoliday', 'Sales', 'StoreType',\n",
              "       'Assortment', 'CompetitionDistance', 'CompetitionOpenSinceMonth',\n",
              "       'CompetitionOpenSinceYear', 'Promo2', 'Promo2SinceWeek',\n",
              "       'Promo2SinceYear', 'PromoInterval'],\n",
              "      dtype='object')"
            ]
          },
          "metadata": {
            "tags": []
          },
          "execution_count": 65
        }
      ]
    },
    {
      "cell_type": "code",
      "metadata": {
        "id": "18Cv-jmxyAC8",
        "colab_type": "code",
        "outputId": "3caa46bf-cc68-4e6f-e51b-248c170acb12",
        "colab": {
          "base_uri": "https://localhost:8080/"
        }
      },
      "source": [
        "test_store.columns"
      ],
      "execution_count": 0,
      "outputs": [
        {
          "output_type": "execute_result",
          "data": {
            "text/plain": [
              "Index(['Store', 'DayOfWeek', 'Date', 'Year', 'Month', 'Open', 'Promo',\n",
              "       'StateHoliday', 'SchoolHoliday', 'StoreType', 'Assortment',\n",
              "       'CompetitionDistance', 'CompetitionOpenSinceMonth',\n",
              "       'CompetitionOpenSinceYear', 'Promo2', 'Promo2SinceWeek',\n",
              "       'Promo2SinceYear', 'PromoInterval'],\n",
              "      dtype='object')"
            ]
          },
          "metadata": {
            "tags": []
          },
          "execution_count": 66
        }
      ]
    },
    {
      "cell_type": "code",
      "metadata": {
        "id": "FaRd63ZOyVfl",
        "colab_type": "code",
        "colab": {}
      },
      "source": [
        "drop_columns = [\"상권업종중분류코드\", \"상권업종소분류코드\", \n",
        "                \"건물관리번호\", \"표준산업분류코드\", \"표준산업분류명\", \n",
        "                \"지번부번지\", \"층정보\", \"건물명\", \"호정보\", \n",
        "                \"지점명\", \"건물부번지\", \"동정보\"]"
      ],
      "execution_count": 0,
      "outputs": []
    },
    {
      "cell_type": "markdown",
      "metadata": {
        "id": "lwKCQNYvoDdq",
        "colab_type": "text"
      },
      "source": [
        "# 모델링\n"
      ]
    },
    {
      "cell_type": "code",
      "metadata": {
        "id": "evY02C6SAOQC",
        "colab_type": "code",
        "outputId": "c5f06b90-d997-40f9-fce3-44539eb6feaf",
        "colab": {
          "base_uri": "https://localhost:8080/"
        }
      },
      "source": [
        "train_store.columns.values"
      ],
      "execution_count": 0,
      "outputs": [
        {
          "output_type": "execute_result",
          "data": {
            "text/plain": [
              "array(['Store', 'DayOfWeek', 'Date', 'Year', 'Month', 'Customers', 'Open',\n",
              "       'Promo', 'StateHoliday', 'SchoolHoliday', 'Sales', 'StoreType',\n",
              "       'Assortment', 'CompetitionDistance', 'CompetitionOpenSinceMonth',\n",
              "       'CompetitionOpenSinceYear', 'Promo2', 'Promo2SinceWeek',\n",
              "       'Promo2SinceYear', 'PromoInterval'], dtype=object)"
            ]
          },
          "metadata": {
            "tags": []
          },
          "execution_count": 68
        }
      ]
    },
    {
      "cell_type": "code",
      "metadata": {
        "id": "zyqniXz63EIj",
        "colab_type": "code",
        "colab": {}
      },
      "source": [
        "# from sklearn.model_selection import train_test_split\n",
        "# from sklearn.metrics import accuracy_score"
      ],
      "execution_count": 0,
      "outputs": []
    },
    {
      "cell_type": "code",
      "metadata": {
        "id": "k4JfR4yt3bkA",
        "colab_type": "code",
        "colab": {}
      },
      "source": [
        "# target , feature\n",
        "# feature_cols =[ 'Store', \n",
        "#     'CompetitionDistance', \n",
        "#     'Promo', \n",
        "#     'Promo2', \n",
        "#     'SchoolHoliday',\n",
        "#     'StateHoliday',\n",
        "#     'StoreType',\n",
        "#     'Assortment',\n",
        "#     'DayOfWeek',\n",
        "#     'Month',\n",
        "#     'Year']\n",
        "# X = train_model[feature_cols] # Feature\n",
        "# y = train_model['Sales']  # Target variable"
      ],
      "execution_count": 0,
      "outputs": []
    },
    {
      "cell_type": "code",
      "metadata": {
        "id": "ONnOKuB2UkSt",
        "colab_type": "code",
        "colab": {}
      },
      "source": [
        "# X_train, X_test, y_train, y_test =train_test_split(X, y, test_size=0.3, random_state=777 )"
      ],
      "execution_count": 0,
      "outputs": []
    },
    {
      "cell_type": "code",
      "metadata": {
        "id": "ksw5i_Zv3GGx",
        "colab_type": "code",
        "colab": {}
      },
      "source": [
        "# X = train_model.drop(['Sales', 'CompetitionOpenSinceYear', 'CompetitionOpenSinceMonth','Promo2SinceWeek','Promo2SinceYear'], axis=1)\n",
        "# Y = train_model[\"Sales\"]\n",
        "# X_train, X_val, y_train, y_val = train_test_split(X, Y, test_size = 0.20, random_state = 0)"
      ],
      "execution_count": 0,
      "outputs": []
    },
    {
      "cell_type": "code",
      "metadata": {
        "id": "wmPe1ZUB3rPO",
        "colab_type": "code",
        "colab": {}
      },
      "source": [
        "# Logistic Regression\n",
        "# from sklearn.linear_model import LogisticRegression\n",
        "\n",
        "# logreg = LogisticRegression()\n",
        "# logreg.fit(X_train, y_train)\n",
        "# y_pred = logreg.predict(X_val)\n",
        "# acc_logreg = round(accuracy_score(y_pred, y_val) * 100, 2)\n",
        "# print(acc_logreg)"
      ],
      "execution_count": 0,
      "outputs": []
    },
    {
      "cell_type": "code",
      "metadata": {
        "id": "kzPwQ1LUWIDU",
        "colab_type": "code",
        "colab": {}
      },
      "source": [
        ""
      ],
      "execution_count": 0,
      "outputs": []
    },
    {
      "cell_type": "code",
      "metadata": {
        "id": "kjP5_JRyI5Qo",
        "colab_type": "code",
        "colab": {}
      },
      "source": [
        "# from sklearn.model_selection import train_test_split\n",
        "# from sklearn.tree import DecisionTreeClassifier\n",
        "# from sklearn.ensemble import AdaBoostRegressor\n",
        "# from sklearn.model_selection import cross_validate\n",
        "# from sklearn.utils import shuffle\n",
        "# from sklearn.metrics import mean_squared_error, explained_variance_score"
      ],
      "execution_count": 0,
      "outputs": []
    },
    {
      "cell_type": "code",
      "metadata": {
        "id": "2amN3gpaNddT",
        "colab_type": "code",
        "colab": {}
      },
      "source": [
        "# X, y = shuffle(X,y,random_state=10)"
      ],
      "execution_count": 0,
      "outputs": []
    },
    {
      "cell_type": "code",
      "metadata": {
        "id": "NhImpu_nI5JU",
        "colab_type": "code",
        "colab": {}
      },
      "source": [
        "# X_train, X_test, y_train, y_test =train_test_split(X, y, test_size=0.3, random_state=10) # 70% train"
      ],
      "execution_count": 0,
      "outputs": []
    },
    {
      "cell_type": "code",
      "metadata": {
        "id": "UWZF8NYMI5Cg",
        "colab_type": "code",
        "colab": {}
      },
      "source": [
        "# from sklearn.tree import DecisionTreeRegressor\n",
        "# regressor = AdaBoostRegressor(DecisionTreeRegressor(max_depth=4), n_estimators=400, random_state=10)\n",
        "# regressor.fit(X_train, y_train)"
      ],
      "execution_count": 0,
      "outputs": []
    },
    {
      "cell_type": "code",
      "metadata": {
        "id": "eiv3Ie5eI49j",
        "colab_type": "code",
        "colab": {}
      },
      "source": [
        "# y_pred = regressor.predict(X_train)\n",
        "# mse = mean_squared_error(y_test,y_pred)\n",
        "# evs = explained_variance_score(y_test,y_pred)\n"
      ],
      "execution_count": 0,
      "outputs": []
    },
    {
      "cell_type": "markdown",
      "metadata": {
        "id": "ydUWB1V4AZij",
        "colab_type": "text"
      },
      "source": [
        "**DecisionTree**"
      ]
    },
    {
      "cell_type": "code",
      "metadata": {
        "id": "UrNmkTi7AYA3",
        "colab_type": "code",
        "colab": {}
      },
      "source": [
        "# from sklearn.model_selection import train_test_split\n",
        "# from sklearn.tree import DecisionTreeClassifier"
      ],
      "execution_count": 0,
      "outputs": []
    },
    {
      "cell_type": "code",
      "metadata": {
        "id": "vaquI8cVAhr5",
        "colab_type": "code",
        "colab": {}
      },
      "source": [
        "# X_train, X_test, y_train, y_test = train_test_split(X, y, test_size=0.3, random_state=10) # 70% train"
      ],
      "execution_count": 0,
      "outputs": []
    },
    {
      "cell_type": "code",
      "metadata": {
        "id": "mc0tY4EsAP-Z",
        "colab_type": "code",
        "colab": {}
      },
      "source": [
        "# print(X_test.columns)\n",
        "# print(X_train.columns)\n",
        "# print(y_train.shape)"
      ],
      "execution_count": 0,
      "outputs": []
    },
    {
      "cell_type": "code",
      "metadata": {
        "id": "mu3PBnI9AdkB",
        "colab_type": "code",
        "colab": {}
      },
      "source": [
        "# # 의사결정 트리 모델 생성\n",
        "# clf = DecisionTreeClassifier()\n",
        "# # 학습\n",
        "# clf = clf.fit(X_train,y_train)\n",
        "# # 예측\n",
        "# y_pred = clf.predict(X_test)"
      ],
      "execution_count": 0,
      "outputs": []
    },
    {
      "cell_type": "code",
      "metadata": {
        "id": "ZXoYgy24AMqA",
        "colab_type": "code",
        "colab": {}
      },
      "source": [
        "# # 모델평가\n",
        "# print(\"Accuracy:\",metrics.accuracy_score(y_test, y_pred))"
      ],
      "execution_count": 0,
      "outputs": []
    },
    {
      "cell_type": "code",
      "metadata": {
        "id": "d4cPm2DU_XGE",
        "colab_type": "code",
        "colab": {}
      },
      "source": [
        "# from sklearn.ensemble import AdaBoostRegressor\n",
        "\n",
        "# X_train, X_test, y_train, y_test = train_test_split(X, y, test_size=0.3, random_state=100)\n",
        "\n",
        "# model = AdaBoostRegressor(base_estimator=Lasso())\n",
        "# model.fit(X_train, y_train)"
      ],
      "execution_count": 0,
      "outputs": []
    },
    {
      "cell_type": "code",
      "metadata": {
        "id": "nKiZxBMhCZM1",
        "colab_type": "code",
        "colab": {}
      },
      "source": [
        ""
      ],
      "execution_count": 0,
      "outputs": []
    },
    {
      "cell_type": "code",
      "metadata": {
        "id": "Qpv6cMez-qEr",
        "colab_type": "code",
        "colab": {}
      },
      "source": [
        "# #모델 검증\n",
        "# print(model.score(X_train, y_train)) \n",
        "# print(model.score(X_test, y_test))"
      ],
      "execution_count": 0,
      "outputs": []
    },
    {
      "cell_type": "code",
      "metadata": {
        "id": "XGfLV0OZCBl2",
        "colab_type": "code",
        "colab": {}
      },
      "source": [
        ""
      ],
      "execution_count": 0,
      "outputs": []
    },
    {
      "cell_type": "code",
      "metadata": {
        "id": "w2Y0VTQNCBc9",
        "colab_type": "code",
        "colab": {}
      },
      "source": [
        ""
      ],
      "execution_count": 0,
      "outputs": []
    },
    {
      "cell_type": "code",
      "metadata": {
        "id": "1T-VtzlgCBSp",
        "colab_type": "code",
        "colab": {}
      },
      "source": [
        ""
      ],
      "execution_count": 0,
      "outputs": []
    }
  ]
}