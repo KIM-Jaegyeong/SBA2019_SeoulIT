{
 "cells": [
  {
   "cell_type": "code",
   "execution_count": 1,
   "metadata": {},
   "outputs": [],
   "source": [
    "from IPython.display import Image"
   ]
  },
  {
   "cell_type": "markdown",
   "metadata": {},
   "source": [
    "## 과제1 : 메인페이지 정보 크롤링 - 랭킹, 메뉴, 카페, 링크(상세페이지)"
   ]
  },
  {
   "cell_type": "code",
   "execution_count": 48,
   "metadata": {},
   "outputs": [],
   "source": [
    "import time\n",
    "import re\n",
    "import pandas as pd\n",
    "from bs4 import BeautifulSoup \n",
    "from urllib.request import urlopen"
   ]
  },
  {
   "cell_type": "code",
   "execution_count": 3,
   "metadata": {},
   "outputs": [],
   "source": [
    "# 구글에서 '50 Best Sandwiches' 검색\n",
    "site = 'http://www.chicagomag.com/Chicago-Magazine/November-2012/Best-Sandwiches-Chicago/'\n",
    "html = urlopen(site)\n",
    "soup = BeautifulSoup(html, \"lxml\")"
   ]
  },
  {
   "cell_type": "code",
   "execution_count": 4,
   "metadata": {},
   "outputs": [
    {
     "data": {
      "text/plain": [
       "<title>\n",
       "  The 50 Best Sandwiches in Chicago |\n",
       "  Chicago magazine\n",
       "      |  November 2012\n",
       "    </title>"
      ]
     },
     "execution_count": 4,
     "metadata": {},
     "output_type": "execute_result"
    }
   ],
   "source": [
    "# 웹페이지 로딩 확인\n",
    "soup.title"
   ]
  },
  {
   "cell_type": "code",
   "execution_count": 5,
   "metadata": {},
   "outputs": [
    {
     "data": {
      "text/plain": [
       "<title>\n",
       "  The 50 Best Sandwiches in Chicago |\n",
       "  Chicago magazine\n",
       "      |  November 2012\n",
       "    </title>"
      ]
     },
     "execution_count": 5,
     "metadata": {},
     "output_type": "execute_result"
    }
   ],
   "source": [
    "html_title = soup.find('title')\n",
    "html_title"
   ]
  },
  {
   "cell_type": "code",
   "execution_count": 6,
   "metadata": {},
   "outputs": [
    {
     "data": {
      "text/plain": [
       "bs4.element.Tag"
      ]
     },
     "execution_count": 6,
     "metadata": {},
     "output_type": "execute_result"
    }
   ],
   "source": [
    "type(html_title)"
   ]
  },
  {
   "cell_type": "code",
   "execution_count": 7,
   "metadata": {},
   "outputs": [
    {
     "data": {
      "text/plain": [
       "'\\r\\n  The 50 Best Sandwiches in Chicago |\\r\\n  Chicago magazine\\r\\n      |  November 2012\\r\\n    '"
      ]
     },
     "execution_count": 7,
     "metadata": {},
     "output_type": "execute_result"
    }
   ],
   "source": [
    "html_title.getText()"
   ]
  },
  {
   "cell_type": "code",
   "execution_count": 8,
   "metadata": {},
   "outputs": [
    {
     "data": {
      "text/plain": [
       "'\\r\\n  The 50 Best Sandwiches in Chicago |\\r\\n  Chicago magazine\\r\\n      |  November 2012\\r\\n    '"
      ]
     },
     "execution_count": 8,
     "metadata": {},
     "output_type": "execute_result"
    }
   ],
   "source": [
    "html_title.get_text()"
   ]
  },
  {
   "cell_type": "code",
   "execution_count": 9,
   "metadata": {},
   "outputs": [
    {
     "data": {
      "text/plain": [
       "'\\r\\n  The 50 Best Sandwiches in Chicago |\\r\\n  Chicago magazine\\r\\n      |  November 2012\\r\\n    '"
      ]
     },
     "execution_count": 9,
     "metadata": {},
     "output_type": "execute_result"
    }
   ],
   "source": [
    "title = html_title.text\n",
    "title"
   ]
  },
  {
   "cell_type": "code",
   "execution_count": 10,
   "metadata": {},
   "outputs": [
    {
     "name": "stdout",
     "output_type": "stream",
     "text": [
      "The 50 Best Sandwiches in Chicago |\r\n",
      "  Chicago magazine\r\n",
      "      |  November 2012\n"
     ]
    }
   ],
   "source": [
    "print(title.strip())"
   ]
  },
  {
   "cell_type": "code",
   "execution_count": 11,
   "metadata": {},
   "outputs": [
    {
     "data": {
      "text/plain": [
       "<div id=\"reveal-bar-mobile\">\n",
       "<button id=\"reveal-bar-mobile-sections-button\">More →</button>\n",
       "<ul class=\"reveal-share-buttons list-no-bullets clearfix\">\n",
       "<li class=\"fb\"><a href=\"https://www.facebook.com/sharer/sharer.php?u=http://www.chicagomag.com/Chicago-Magazine/November-2012/Best-Sandwiches-Chicago/%3Futm_source=facebook.com%26utm_medium=referral%26utm_campaign=Facebook%20mobile%20reveal%20bar%2019493%20Dec%2013%202019%2022:24\" onclick=\"ga('send',  'event', 'Sharing', 'Facebook share from mobile reveal bar','The 50 Best Sandwiches in Chicago'); return socialPopup('https://www.facebook.com/sharer/sharer.php?u=http://www.chicagomag.com/Chicago-Magazine/November-2012/Best-Sandwiches-Chicago/%3Futm_source=facebook.com%26utm_medium=referral%26utm_campaign=Facebook%20mobile%20reveal%20bar%2019493%20Dec%2013%202019%2022:24');\" target=\"_blank\"><i class=\"icon-facebook\"></i></a>\n",
       "</li>\n",
       "<li class=\"tw\"><a href=\"https://twitter.com/share?text=The+50+Best+Sandwiches+in+Chicago&amp;url=http://www.chicagomag.com/Chicago-Magazine/November-2012/Best-Sandwiches-Chicago/\" onclick=\"ga('send',  'event', 'Sharing', 'Tweet story from mobile reveal bar','The 50 Best Sandwiches in Chicago'); return tweetPopup('The+50+Best+Sandwiches+in+Chicago','/Chicago-Magazine/November-2012/Best-Sandwiches-Chicago/','mobile+reveal+bar+19493');\" target=\"_blank\"><i class=\"icon-twitter\"></i></a></li>\n",
       "</ul>\n",
       "</div>"
      ]
     },
     "execution_count": 11,
     "metadata": {},
     "output_type": "execute_result"
    }
   ],
   "source": [
    "# 이건 너무 많다.\n",
    "div_tag = soup.find('div')\n",
    "div_tag"
   ]
  },
  {
   "cell_type": "code",
   "execution_count": 12,
   "metadata": {},
   "outputs": [
    {
     "name": "stdout",
     "output_type": "stream",
     "text": [
      "<div id=\"reveal-bar-mobile\">\n",
      " <button id=\"reveal-bar-mobile-sections-button\">\n",
      "  More →\n",
      " </button>\n",
      " <ul class=\"reveal-share-buttons list-no-bullets clearfix\">\n",
      "  <li class=\"fb\">\n",
      "   <a href=\"https://www.facebook.com/sharer/sharer.php?u=http://www.chicagomag.com/Chicago-Magazine/November-2012/Best-Sandwiches-Chicago/%3Futm_source=facebook.com%26utm_medium=referral%26utm_campaign=Facebook%20mobile%20reveal%20bar%2019493%20Dec%2013%202019%2022:24\" onclick=\"ga('send',  'event', 'Sharing', 'Facebook share from mobile reveal bar','The 50 Best Sandwiches in Chicago'); return socialPopup('https://www.facebook.com/sharer/sharer.php?u=http://www.chicagomag.com/Chicago-Magazine/November-2012/Best-Sandwiches-Chicago/%3Futm_source=facebook.com%26utm_medium=referral%26utm_campaign=Facebook%20mobile%20reveal%20bar%2019493%20Dec%2013%202019%2022:24');\" target=\"_blank\">\n",
      "    <i class=\"icon-facebook\">\n",
      "    </i>\n",
      "   </a>\n",
      "  </li>\n",
      "  <li class=\"tw\">\n",
      "   <a href=\"https://twitter.com/share?text=The+50+Best+Sandwiches+in+Chicago&amp;url=http://www.chicagomag.com/Chicago-Magazine/November-2012/Best-Sandwiches-Chicago/\" onclick=\"ga('send',  'event', 'Sharing', 'Tweet story from mobile reveal bar','The 50 Best Sandwiches in Chicago'); return tweetPopup('The+50+Best+Sandwiches+in+Chicago','/Chicago-Magazine/November-2012/Best-Sandwiches-Chicago/','mobile+reveal+bar+19493');\" target=\"_blank\">\n",
      "    <i class=\"icon-twitter\">\n",
      "    </i>\n",
      "   </a>\n",
      "  </li>\n",
      " </ul>\n",
      "</div>\n",
      "\n"
     ]
    }
   ],
   "source": [
    "print(div_tag.prettify())"
   ]
  },
  {
   "cell_type": "code",
   "execution_count": 13,
   "metadata": {},
   "outputs": [],
   "source": [
    "div_tags = soup.find_all('div')"
   ]
  },
  {
   "cell_type": "code",
   "execution_count": 14,
   "metadata": {},
   "outputs": [
    {
     "data": {
      "text/plain": [
       "217"
      ]
     },
     "execution_count": 14,
     "metadata": {},
     "output_type": "execute_result"
    }
   ],
   "source": [
    "len(div_tags)"
   ]
  },
  {
   "cell_type": "code",
   "execution_count": 15,
   "metadata": {},
   "outputs": [
    {
     "name": "stdout",
     "output_type": "stream",
     "text": [
      "<div id=\"reveal-bar-mobile\">\n",
      " <button id=\"reveal-bar-mobile-sections-button\">\n",
      "  More →\n",
      " </button>\n",
      " <ul class=\"reveal-share-buttons list-no-bullets clearfix\">\n",
      "  <li class=\"fb\">\n",
      "   <a href=\"https://www.facebook.com/sharer/sharer.php?u=http://www.chicagomag.com/Chicago-Magazine/November-2012/Best-Sandwiches-Chicago/%3Futm_source=facebook.com%26utm_medium=referral%26utm_campaign=Facebook%20mobile%20reveal%20bar%2019493%20Dec%2013%202019%2022:24\" onclick=\"ga('send',  'event', 'Sharing', 'Facebook share from mobile reveal bar','The 50 Best Sandwiches in Chicago'); return socialPopup('https://www.facebook.com/sharer/sharer.php?u=http://www.chicagomag.com/Chicago-Magazine/November-2012/Best-Sandwiches-Chicago/%3Futm_source=facebook.com%26utm_medium=referral%26utm_campaign=Facebook%20mobile%20reveal%20bar%2019493%20Dec%2013%202019%2022:24');\" target=\"_blank\">\n",
      "    <i class=\"icon-facebook\">\n",
      "    </i>\n",
      "   </a>\n",
      "  </li>\n",
      "  <li class=\"tw\">\n",
      "   <a href=\"https://twitter.com/share?text=The+50+Best+Sandwiches+in+Chicago&amp;url=http://www.chicagomag.com/Chicago-Magazine/November-2012/Best-Sandwiches-Chicago/\" onclick=\"ga('send',  'event', 'Sharing', 'Tweet story from mobile reveal bar','The 50 Best Sandwiches in Chicago'); return tweetPopup('The+50+Best+Sandwiches+in+Chicago','/Chicago-Magazine/November-2012/Best-Sandwiches-Chicago/','mobile+reveal+bar+19493');\" target=\"_blank\">\n",
      "    <i class=\"icon-twitter\">\n",
      "    </i>\n",
      "   </a>\n",
      "  </li>\n",
      " </ul>\n",
      "</div>\n",
      "\n"
     ]
    }
   ],
   "source": [
    "div_tag = div_tags[0]\n",
    "print(div_tag.prettify())"
   ]
  },
  {
   "cell_type": "code",
   "execution_count": 16,
   "metadata": {},
   "outputs": [
    {
     "data": {
      "text/plain": [
       "bs4.element.Tag"
      ]
     },
     "execution_count": 16,
     "metadata": {},
     "output_type": "execute_result"
    }
   ],
   "source": [
    "type(div_tag)"
   ]
  },
  {
   "cell_type": "code",
   "execution_count": 17,
   "metadata": {},
   "outputs": [
    {
     "data": {
      "text/plain": [
       "bs4.element.ResultSet"
      ]
     },
     "execution_count": 17,
     "metadata": {},
     "output_type": "execute_result"
    }
   ],
   "source": [
    "type(div_tags)"
   ]
  },
  {
   "cell_type": "markdown",
   "metadata": {},
   "source": [
    "## STEP1 : 수집할 데이터의 Tag & Class 확인\n",
    "### 메인페이지 크롤링대상 타겟데이터\n",
    "- 랭킹\n",
    "- 메뉴\n",
    "- 카페\n",
    "- 링크(상세페이지)"
   ]
  },
  {
   "cell_type": "code",
   "execution_count": 18,
   "metadata": {},
   "outputs": [
    {
     "data": {
      "text/plain": [
       "50"
      ]
     },
     "execution_count": 18,
     "metadata": {},
     "output_type": "execute_result"
    }
   ],
   "source": [
    "div_tags = soup.find_all('div', 'sammy')\n",
    "len(div_tags)"
   ]
  },
  {
   "cell_type": "code",
   "execution_count": 19,
   "metadata": {},
   "outputs": [
    {
     "name": "stdout",
     "output_type": "stream",
     "text": [
      "<div class=\"sammy\" style=\"position: relative;\">\n",
      " <div class=\"sammyRank\">\n",
      "  1\n",
      " </div>\n",
      " <div class=\"sammyListing\">\n",
      "  <a href=\"/Chicago-Magazine/November-2012/Best-Sandwiches-in-Chicago-Old-Oak-Tap-BLT/\">\n",
      "   <b>\n",
      "    BLT\n",
      "   </b>\n",
      "   <br/>\n",
      "   Old Oak Tap\n",
      "   <br/>\n",
      "   <em>\n",
      "    Read more\n",
      "   </em>\n",
      "  </a>\n",
      " </div>\n",
      "</div>\n",
      "\n"
     ]
    }
   ],
   "source": [
    "div_tag = div_tags[0]\n",
    "print(div_tag.prettify())"
   ]
  },
  {
   "cell_type": "code",
   "execution_count": 20,
   "metadata": {},
   "outputs": [
    {
     "data": {
      "text/plain": [
       "<div class=\"sammyRank\">1</div>"
      ]
     },
     "execution_count": 20,
     "metadata": {},
     "output_type": "execute_result"
    }
   ],
   "source": [
    "# 랭킹\n",
    "data_1 = div_tag.find('div', 'sammyRank')\n",
    "data_1"
   ]
  },
  {
   "cell_type": "code",
   "execution_count": 21,
   "metadata": {},
   "outputs": [
    {
     "data": {
      "text/plain": [
       "'1'"
      ]
     },
     "execution_count": 21,
     "metadata": {},
     "output_type": "execute_result"
    }
   ],
   "source": [
    "data_1 = data_1.get_text()\n",
    "data_1"
   ]
  },
  {
   "cell_type": "code",
   "execution_count": 22,
   "metadata": {},
   "outputs": [
    {
     "data": {
      "text/plain": [
       "<div class=\"sammyListing\"><a href=\"/Chicago-Magazine/November-2012/Best-Sandwiches-in-Chicago-Old-Oak-Tap-BLT/\"><b>BLT</b><br/>\n",
       "Old Oak Tap<br/>\n",
       "<em>Read more</em> </a></div>"
      ]
     },
     "execution_count": 22,
     "metadata": {},
     "output_type": "execute_result"
    }
   ],
   "source": [
    "div_listing = div_tag.find('div', 'sammyListing')\n",
    "div_listing"
   ]
  },
  {
   "cell_type": "code",
   "execution_count": 23,
   "metadata": {},
   "outputs": [
    {
     "data": {
      "text/plain": [
       "'BLT\\r\\nOld Oak Tap\\nRead more '"
      ]
     },
     "execution_count": 23,
     "metadata": {},
     "output_type": "execute_result"
    }
   ],
   "source": [
    "div_listing.get_text()"
   ]
  },
  {
   "cell_type": "code",
   "execution_count": 24,
   "metadata": {},
   "outputs": [
    {
     "data": {
      "text/plain": [
       "['BLT\\r', 'Old Oak Tap', 'Read more ']"
      ]
     },
     "execution_count": 24,
     "metadata": {},
     "output_type": "execute_result"
    }
   ],
   "source": [
    "div_listing.get_text().split('\\n')"
   ]
  },
  {
   "cell_type": "code",
   "execution_count": 25,
   "metadata": {},
   "outputs": [
    {
     "data": {
      "text/plain": [
       "'BLT'"
      ]
     },
     "execution_count": 25,
     "metadata": {},
     "output_type": "execute_result"
    }
   ],
   "source": [
    "# 메뉴\n",
    "data_2 = div_listing.get_text().split('\\n')[0]\n",
    "data_2 = data_2.strip()\n",
    "data_2"
   ]
  },
  {
   "cell_type": "code",
   "execution_count": 26,
   "metadata": {},
   "outputs": [
    {
     "data": {
      "text/plain": [
       "'Old Oak Tap'"
      ]
     },
     "execution_count": 26,
     "metadata": {},
     "output_type": "execute_result"
    }
   ],
   "source": [
    "# 카페\n",
    "data_3 = div_listing.get_text().split('\\n')[1]\n",
    "data_3 = data_3.strip()\n",
    "data_3"
   ]
  },
  {
   "cell_type": "code",
   "execution_count": 27,
   "metadata": {},
   "outputs": [
    {
     "data": {
      "text/plain": [
       "'/Chicago-Magazine/November-2012/Best-Sandwiches-in-Chicago-Old-Oak-Tap-BLT/'"
      ]
     },
     "execution_count": 27,
     "metadata": {},
     "output_type": "execute_result"
    }
   ],
   "source": [
    "# 링크(상세페이지)\n",
    "data_4 = div_listing.find('a')['href']\n",
    "data_4"
   ]
  },
  {
   "cell_type": "markdown",
   "metadata": {},
   "source": [
    "## STEP2 : 메인페이지 정보 크롤링 모듈\n",
    "### 메인페이지의 타겟데이터를 한번에 수집"
   ]
  },
  {
   "cell_type": "code",
   "execution_count": 28,
   "metadata": {},
   "outputs": [],
   "source": [
    "def getMainpageData(soup):\n",
    "    ret_dict  = dict()\n",
    "    columns   = [ '랭킹', '메뉴', '카페', '링크' ]\n",
    "    rank_list = list()\n",
    "    menu_list = list()\n",
    "    cafe_list = list()\n",
    "    link_list = list()\n",
    "    \n",
    "    div_tags = soup.find_all('div', 'sammy')\n",
    "    total = len(div_tags)\n",
    "    \n",
    "    for idx in range(total):\n",
    "        div_tag = div_tags[idx]\n",
    "        \n",
    "        # 랭킹\n",
    "        data_1 = div_tag.find('div', 'sammyRank')\n",
    "        data_1 = data_1.get_text()\n",
    "        \n",
    "        div_listing = div_tag.find('div', 'sammyListing')\n",
    "        \n",
    "        # 메뉴\n",
    "        data_2 = div_listing.get_text().split('\\n')[0]\n",
    "        data_2 = data_2.strip()    \n",
    "\n",
    "        # 카페\n",
    "        data_3 = div_listing.get_text().split('\\n')[1]\n",
    "        data_3 = data_3.strip()\n",
    "\n",
    "        # 링크(상세페이지)\n",
    "        data_4 = div_listing.find('a')['href']\n",
    "        \n",
    "        rank_list.append(data_1)\n",
    "        menu_list.append(data_2)\n",
    "        cafe_list.append(data_3)\n",
    "        link_list.append(data_4)\n",
    "    else:\n",
    "        print('크롤링 완료!!!')\n",
    "    \n",
    "    ret_dict[columns[0]] = rank_list\n",
    "    ret_dict[columns[1]] = menu_list\n",
    "    ret_dict[columns[2]] = cafe_list\n",
    "    ret_dict[columns[3]] = link_list\n",
    "    \n",
    "    return ret_dict"
   ]
  },
  {
   "cell_type": "code",
   "execution_count": 29,
   "metadata": {},
   "outputs": [
    {
     "name": "stdout",
     "output_type": "stream",
     "text": [
      "크롤링 완료!!!\n"
     ]
    }
   ],
   "source": [
    "ret_dict = getMainpageData(soup)"
   ]
  },
  {
   "cell_type": "code",
   "execution_count": 30,
   "metadata": {},
   "outputs": [
    {
     "data": {
      "text/plain": [
       "dict_keys(['랭킹', '메뉴', '카페', '링크'])"
      ]
     },
     "execution_count": 30,
     "metadata": {},
     "output_type": "execute_result"
    }
   ],
   "source": [
    "ret_dict.keys()"
   ]
  },
  {
   "cell_type": "code",
   "execution_count": 31,
   "metadata": {},
   "outputs": [
    {
     "data": {
      "text/plain": [
       "['1', '2', '3', '4', '5', '6', '7', '8', '9', '10']"
      ]
     },
     "execution_count": 31,
     "metadata": {},
     "output_type": "execute_result"
    }
   ],
   "source": [
    "ret_dict['랭킹'][:10]"
   ]
  },
  {
   "cell_type": "code",
   "execution_count": 32,
   "metadata": {},
   "outputs": [
    {
     "data": {
      "text/plain": [
       "['BLT',\n",
       " 'Fried Bologna',\n",
       " 'Woodland Mushroom',\n",
       " 'Roast Beef',\n",
       " 'PB&L',\n",
       " 'Belgian Chicken Curry Salad',\n",
       " 'Lobster Roll',\n",
       " 'Smoked Salmon Salad',\n",
       " 'Atomica Cemitas',\n",
       " 'Grilled Laughing Bird Shrimp and Fried Po’ Boy']"
      ]
     },
     "execution_count": 32,
     "metadata": {},
     "output_type": "execute_result"
    }
   ],
   "source": [
    "ret_dict['메뉴'][:10]"
   ]
  },
  {
   "cell_type": "code",
   "execution_count": 33,
   "metadata": {},
   "outputs": [
    {
     "data": {
      "text/plain": [
       "['Old Oak Tap',\n",
       " 'Au Cheval',\n",
       " 'Xoco',\n",
       " 'Al’s Deli',\n",
       " 'Publican Quality Meats',\n",
       " 'Hendrickx Belgian Bread Crafter',\n",
       " 'Acadia',\n",
       " 'Birchwood Kitchen',\n",
       " 'Cemitas Puebla',\n",
       " 'Nana']"
      ]
     },
     "execution_count": 33,
     "metadata": {},
     "output_type": "execute_result"
    }
   ],
   "source": [
    "ret_dict['카페'][:10]"
   ]
  },
  {
   "cell_type": "code",
   "execution_count": 34,
   "metadata": {},
   "outputs": [
    {
     "data": {
      "text/plain": [
       "['/Chicago-Magazine/November-2012/Best-Sandwiches-in-Chicago-Old-Oak-Tap-BLT/',\n",
       " '/Chicago-Magazine/November-2012/Best-Sandwiches-in-Chicago-Au-Cheval-Fried-Bologna/',\n",
       " '/Chicago-Magazine/November-2012/Best-Sandwiches-in-Chicago-Xoco-Woodland-Mushroom/',\n",
       " '/Chicago-Magazine/November-2012/Best-Sandwiches-in-Chicago-Als-Deli-Roast-Beef/',\n",
       " '/Chicago-Magazine/November-2012/Best-Sandwiches-in-Chicago-Publican-Quality-Meats-PB-L/',\n",
       " 'http://www.chicagomag.com/Chicago-Magazine/November-2012/Best-Sandwiches-in-Chicago-Hendrickx-Belgian-Bread-Crafter-Belgian-Chicken-Curry-Salad/',\n",
       " '/Chicago-Magazine/November-2012/Best-Sandwiches-in-Chicago-Acadia-Lobster-Roll/',\n",
       " '/Chicago-Magazine/November-2012/Best-Sandwiches-in-Chicago-Birchwood-Kitchen-Smoked-Salmon-Salad/',\n",
       " '/Chicago-Magazine/November-2012/Best-Sandwiches-in-Chicago-Cemitas-Puebla-Atomica-Cemitas/',\n",
       " '/Chicago-Magazine/November-2012/Best-Sandwiches-in-Chicago-Nana-Grilled-Laughing-Bird-Shrimp-and-Fried-Oyster-Po-Boy/']"
      ]
     },
     "execution_count": 34,
     "metadata": {},
     "output_type": "execute_result"
    }
   ],
   "source": [
    "ret_dict['링크'][:10]"
   ]
  },
  {
   "cell_type": "markdown",
   "metadata": {},
   "source": [
    "## STEP3 : 메인페이지 정보 크롤링 모듈 리팩토링\n",
    "### 개선할 부분 체킹 후 수정 보완"
   ]
  },
  {
   "cell_type": "code",
   "execution_count": 35,
   "metadata": {},
   "outputs": [
    {
     "data": {
      "text/plain": [
       "'/Chicago-Magazine/November-2012/Best-Sandwiches-in-Chicago-Old-Oak-Tap-BLT/'"
      ]
     },
     "execution_count": 35,
     "metadata": {},
     "output_type": "execute_result"
    }
   ],
   "source": [
    "ret_dict['링크'][0]"
   ]
  },
  {
   "cell_type": "code",
   "execution_count": 36,
   "metadata": {},
   "outputs": [
    {
     "data": {
      "text/plain": [
       "'http://www.chicagomag.com/Chicago-Magazine/November-2012/Best-Sandwiches-in-Chicago-Hendrickx-Belgian-Bread-Crafter-Belgian-Chicken-Curry-Salad/'"
      ]
     },
     "execution_count": 36,
     "metadata": {},
     "output_type": "execute_result"
    }
   ],
   "source": [
    "ret_dict['링크'][5]"
   ]
  },
  {
   "cell_type": "code",
   "execution_count": 37,
   "metadata": {},
   "outputs": [],
   "source": [
    "url_base = 'http://www.chicagomag.com'"
   ]
  },
  {
   "cell_type": "code",
   "execution_count": 38,
   "metadata": {},
   "outputs": [
    {
     "name": "stdout",
     "output_type": "stream",
     "text": [
      "http://www.chicagomag.com/Chicago-Magazine/November-2012/Best-Sandwiches-in-Chicago-Old-Oak-Tap-BLT/\n"
     ]
    }
   ],
   "source": [
    "data_4 = ret_dict['링크'][0]\n",
    "if not data_4.startswith(url_base):\n",
    "    data_4 = url_base + data_4\n",
    "    \n",
    "print(data_4)"
   ]
  },
  {
   "cell_type": "code",
   "execution_count": 39,
   "metadata": {},
   "outputs": [
    {
     "name": "stdout",
     "output_type": "stream",
     "text": [
      "http://www.chicagomag.com/Chicago-Magazine/November-2012/Best-Sandwiches-in-Chicago-Hendrickx-Belgian-Bread-Crafter-Belgian-Chicken-Curry-Salad/\n"
     ]
    }
   ],
   "source": [
    "data_4 = ret_dict['링크'][5]\n",
    "if not data_4.startswith(url_base):\n",
    "    data_4 = url_base + data_4\n",
    "    \n",
    "print(data_4)"
   ]
  },
  {
   "cell_type": "code",
   "execution_count": 40,
   "metadata": {},
   "outputs": [],
   "source": [
    "def getMainpageData(soup):\n",
    "    ret_dict  = dict()\n",
    "    columns   = [ '랭킹', '메뉴', '카페', '링크' ]\n",
    "    rank_list = list()\n",
    "    menu_list = list()\n",
    "    cafe_list = list()\n",
    "    link_list = list()\n",
    "    \n",
    "    div_tags = soup.find_all('div', 'sammy')\n",
    "    total = len(div_tags)\n",
    "    \n",
    "    for idx in range(total):\n",
    "        div_tag = div_tags[idx]\n",
    "        \n",
    "        # 랭킹\n",
    "        data_1 = div_tag.find('div', 'sammyRank')\n",
    "        data_1 = data_1.get_text()\n",
    "        \n",
    "        div_listing = div_tag.find('div', 'sammyListing')\n",
    "        \n",
    "\n",
    "        # # 메뉴\n",
    "        # data_2 = div_listing.get_text().split('\\n')[0]\n",
    "        # data_2 = data_2.strip()    \n",
    "\n",
    "        # # 카페\n",
    "        # data_3 = div_listing.get_text().split('\\n')[1]\n",
    "        # data_3 = data_3.strip()\n",
    "\n",
    "        data_split = div_listing.get_text().split('\\n')\n",
    "        \n",
    "        # 메뉴\n",
    "        data_2 = data_split[0].strip()    \n",
    "\n",
    "        # 카페\n",
    "        data_3 = data_split[1].strip()\n",
    "\n",
    "        # 링크(상세페이지)\n",
    "        data_4 = div_listing.find('a')['href']\n",
    "        if not data_4.startswith(url_base):\n",
    "            data_4 = url_base + data_4\n",
    "    \n",
    "        rank_list.append(data_1)\n",
    "        menu_list.append(data_2)\n",
    "        cafe_list.append(data_3)\n",
    "        link_list.append(data_4)\n",
    "        \n",
    "        time.sleep(0.3)\n",
    "        print('■', end='')\n",
    "    \n",
    "    else:\n",
    "        time.sleep(1)\n",
    "        print(' 크롤링 완료!!! ')\n",
    "        \n",
    "    ret_dict[columns[0]] = rank_list\n",
    "    ret_dict[columns[1]] = menu_list\n",
    "    ret_dict[columns[2]] = cafe_list\n",
    "    ret_dict[columns[3]] = link_list\n",
    "    \n",
    "    return ret_dict"
   ]
  },
  {
   "cell_type": "code",
   "execution_count": 42,
   "metadata": {},
   "outputs": [
    {
     "name": "stdout",
     "output_type": "stream",
     "text": [
      "■■■■■■■■■■■■■■■■■■■■■■■■■■■■■■■■■■■■■■■■■■■■■■■■■■ 크롤링 완료!!! \n"
     ]
    }
   ],
   "source": [
    "\n",
    "ret_dict = getMainpageData(soup)"
   ]
  },
  {
   "cell_type": "code",
   "execution_count": 43,
   "metadata": {},
   "outputs": [
    {
     "data": {
      "text/plain": [
       "['http://www.chicagomag.com/Chicago-Magazine/November-2012/Best-Sandwiches-in-Chicago-Old-Oak-Tap-BLT/',\n",
       " 'http://www.chicagomag.com/Chicago-Magazine/November-2012/Best-Sandwiches-in-Chicago-Au-Cheval-Fried-Bologna/',\n",
       " 'http://www.chicagomag.com/Chicago-Magazine/November-2012/Best-Sandwiches-in-Chicago-Xoco-Woodland-Mushroom/',\n",
       " 'http://www.chicagomag.com/Chicago-Magazine/November-2012/Best-Sandwiches-in-Chicago-Als-Deli-Roast-Beef/',\n",
       " 'http://www.chicagomag.com/Chicago-Magazine/November-2012/Best-Sandwiches-in-Chicago-Publican-Quality-Meats-PB-L/',\n",
       " 'http://www.chicagomag.com/Chicago-Magazine/November-2012/Best-Sandwiches-in-Chicago-Hendrickx-Belgian-Bread-Crafter-Belgian-Chicken-Curry-Salad/',\n",
       " 'http://www.chicagomag.com/Chicago-Magazine/November-2012/Best-Sandwiches-in-Chicago-Acadia-Lobster-Roll/',\n",
       " 'http://www.chicagomag.com/Chicago-Magazine/November-2012/Best-Sandwiches-in-Chicago-Birchwood-Kitchen-Smoked-Salmon-Salad/',\n",
       " 'http://www.chicagomag.com/Chicago-Magazine/November-2012/Best-Sandwiches-in-Chicago-Cemitas-Puebla-Atomica-Cemitas/',\n",
       " 'http://www.chicagomag.com/Chicago-Magazine/November-2012/Best-Sandwiches-in-Chicago-Nana-Grilled-Laughing-Bird-Shrimp-and-Fried-Oyster-Po-Boy/']"
      ]
     },
     "execution_count": 43,
     "metadata": {},
     "output_type": "execute_result"
    }
   ],
   "source": [
    "ret_dict['링크'][:10]"
   ]
  },
  {
   "cell_type": "markdown",
   "metadata": {},
   "source": [
    "## STEP4 : 메인페이지 크롤링 데이터 파일로 저장\n",
    "## CSV 파일로 저장"
   ]
  },
  {
   "cell_type": "code",
   "execution_count": 44,
   "metadata": {},
   "outputs": [],
   "source": [
    "import pandas as pd"
   ]
  },
  {
   "cell_type": "code",
   "execution_count": 45,
   "metadata": {},
   "outputs": [
    {
     "data": {
      "text/plain": [
       "dict_keys(['랭킹', '메뉴', '카페', '링크'])"
      ]
     },
     "execution_count": 45,
     "metadata": {},
     "output_type": "execute_result"
    }
   ],
   "source": [
    "ret_dict.keys()"
   ]
  },
  {
   "cell_type": "code",
   "execution_count": 46,
   "metadata": {},
   "outputs": [
    {
     "data": {
      "text/html": [
       "<div>\n",
       "<style scoped>\n",
       "    .dataframe tbody tr th:only-of-type {\n",
       "        vertical-align: middle;\n",
       "    }\n",
       "\n",
       "    .dataframe tbody tr th {\n",
       "        vertical-align: top;\n",
       "    }\n",
       "\n",
       "    .dataframe thead th {\n",
       "        text-align: right;\n",
       "    }\n",
       "</style>\n",
       "<table border=\"1\" class=\"dataframe\">\n",
       "  <thead>\n",
       "    <tr style=\"text-align: right;\">\n",
       "      <th></th>\n",
       "      <th>랭킹</th>\n",
       "      <th>메뉴</th>\n",
       "      <th>카페</th>\n",
       "      <th>링크</th>\n",
       "    </tr>\n",
       "  </thead>\n",
       "  <tbody>\n",
       "    <tr>\n",
       "      <th>0</th>\n",
       "      <td>1</td>\n",
       "      <td>BLT</td>\n",
       "      <td>Old Oak Tap</td>\n",
       "      <td>http://www.chicagomag.com/Chicago-Magazine/Nov...</td>\n",
       "    </tr>\n",
       "    <tr>\n",
       "      <th>1</th>\n",
       "      <td>2</td>\n",
       "      <td>Fried Bologna</td>\n",
       "      <td>Au Cheval</td>\n",
       "      <td>http://www.chicagomag.com/Chicago-Magazine/Nov...</td>\n",
       "    </tr>\n",
       "    <tr>\n",
       "      <th>2</th>\n",
       "      <td>3</td>\n",
       "      <td>Woodland Mushroom</td>\n",
       "      <td>Xoco</td>\n",
       "      <td>http://www.chicagomag.com/Chicago-Magazine/Nov...</td>\n",
       "    </tr>\n",
       "    <tr>\n",
       "      <th>3</th>\n",
       "      <td>4</td>\n",
       "      <td>Roast Beef</td>\n",
       "      <td>Al’s Deli</td>\n",
       "      <td>http://www.chicagomag.com/Chicago-Magazine/Nov...</td>\n",
       "    </tr>\n",
       "    <tr>\n",
       "      <th>4</th>\n",
       "      <td>5</td>\n",
       "      <td>PB&amp;L</td>\n",
       "      <td>Publican Quality Meats</td>\n",
       "      <td>http://www.chicagomag.com/Chicago-Magazine/Nov...</td>\n",
       "    </tr>\n",
       "    <tr>\n",
       "      <th>5</th>\n",
       "      <td>6</td>\n",
       "      <td>Belgian Chicken Curry Salad</td>\n",
       "      <td>Hendrickx Belgian Bread Crafter</td>\n",
       "      <td>http://www.chicagomag.com/Chicago-Magazine/Nov...</td>\n",
       "    </tr>\n",
       "    <tr>\n",
       "      <th>6</th>\n",
       "      <td>7</td>\n",
       "      <td>Lobster Roll</td>\n",
       "      <td>Acadia</td>\n",
       "      <td>http://www.chicagomag.com/Chicago-Magazine/Nov...</td>\n",
       "    </tr>\n",
       "    <tr>\n",
       "      <th>7</th>\n",
       "      <td>8</td>\n",
       "      <td>Smoked Salmon Salad</td>\n",
       "      <td>Birchwood Kitchen</td>\n",
       "      <td>http://www.chicagomag.com/Chicago-Magazine/Nov...</td>\n",
       "    </tr>\n",
       "    <tr>\n",
       "      <th>8</th>\n",
       "      <td>9</td>\n",
       "      <td>Atomica Cemitas</td>\n",
       "      <td>Cemitas Puebla</td>\n",
       "      <td>http://www.chicagomag.com/Chicago-Magazine/Nov...</td>\n",
       "    </tr>\n",
       "    <tr>\n",
       "      <th>9</th>\n",
       "      <td>10</td>\n",
       "      <td>Grilled Laughing Bird Shrimp and Fried Po’ Boy</td>\n",
       "      <td>Nana</td>\n",
       "      <td>http://www.chicagomag.com/Chicago-Magazine/Nov...</td>\n",
       "    </tr>\n",
       "  </tbody>\n",
       "</table>\n",
       "</div>"
      ],
      "text/plain": [
       "   랭킹                                              메뉴  \\\n",
       "0   1                                             BLT   \n",
       "1   2                                   Fried Bologna   \n",
       "2   3                               Woodland Mushroom   \n",
       "3   4                                      Roast Beef   \n",
       "4   5                                            PB&L   \n",
       "5   6                     Belgian Chicken Curry Salad   \n",
       "6   7                                    Lobster Roll   \n",
       "7   8                             Smoked Salmon Salad   \n",
       "8   9                                 Atomica Cemitas   \n",
       "9  10  Grilled Laughing Bird Shrimp and Fried Po’ Boy   \n",
       "\n",
       "                                카페  \\\n",
       "0                      Old Oak Tap   \n",
       "1                        Au Cheval   \n",
       "2                             Xoco   \n",
       "3                        Al’s Deli   \n",
       "4           Publican Quality Meats   \n",
       "5  Hendrickx Belgian Bread Crafter   \n",
       "6                           Acadia   \n",
       "7                Birchwood Kitchen   \n",
       "8                   Cemitas Puebla   \n",
       "9                             Nana   \n",
       "\n",
       "                                                  링크  \n",
       "0  http://www.chicagomag.com/Chicago-Magazine/Nov...  \n",
       "1  http://www.chicagomag.com/Chicago-Magazine/Nov...  \n",
       "2  http://www.chicagomag.com/Chicago-Magazine/Nov...  \n",
       "3  http://www.chicagomag.com/Chicago-Magazine/Nov...  \n",
       "4  http://www.chicagomag.com/Chicago-Magazine/Nov...  \n",
       "5  http://www.chicagomag.com/Chicago-Magazine/Nov...  \n",
       "6  http://www.chicagomag.com/Chicago-Magazine/Nov...  \n",
       "7  http://www.chicagomag.com/Chicago-Magazine/Nov...  \n",
       "8  http://www.chicagomag.com/Chicago-Magazine/Nov...  \n",
       "9  http://www.chicagomag.com/Chicago-Magazine/Nov...  "
      ]
     },
     "execution_count": 46,
     "metadata": {},
     "output_type": "execute_result"
    }
   ],
   "source": [
    "df = pd.DataFrame(ret_dict)\n",
    "df.head(10)"
   ]
  },
  {
   "cell_type": "code",
   "execution_count": 49,
   "metadata": {},
   "outputs": [],
   "source": [
    "df.to_csv('chicagomag_info.csv', encoding='utf-8')"
   ]
  },
  {
   "cell_type": "markdown",
   "metadata": {},
   "source": [
    "## STEP5 : 메인페이지 크롤링한 데이터 파일 읽어오기\n",
    "- 불필요한 칼럼 삭제\n",
    "- 랭킹정보 인덱스 설정"
   ]
  },
  {
   "cell_type": "code",
   "execution_count": 50,
   "metadata": {},
   "outputs": [
    {
     "data": {
      "text/html": [
       "<div>\n",
       "<style scoped>\n",
       "    .dataframe tbody tr th:only-of-type {\n",
       "        vertical-align: middle;\n",
       "    }\n",
       "\n",
       "    .dataframe tbody tr th {\n",
       "        vertical-align: top;\n",
       "    }\n",
       "\n",
       "    .dataframe thead th {\n",
       "        text-align: right;\n",
       "    }\n",
       "</style>\n",
       "<table border=\"1\" class=\"dataframe\">\n",
       "  <thead>\n",
       "    <tr style=\"text-align: right;\">\n",
       "      <th></th>\n",
       "      <th>Unnamed: 0</th>\n",
       "      <th>랭킹</th>\n",
       "      <th>메뉴</th>\n",
       "      <th>카페</th>\n",
       "      <th>링크</th>\n",
       "    </tr>\n",
       "  </thead>\n",
       "  <tbody>\n",
       "    <tr>\n",
       "      <th>0</th>\n",
       "      <td>0</td>\n",
       "      <td>1</td>\n",
       "      <td>BLT</td>\n",
       "      <td>Old Oak Tap</td>\n",
       "      <td>http://www.chicagomag.com/Chicago-Magazine/Nov...</td>\n",
       "    </tr>\n",
       "    <tr>\n",
       "      <th>1</th>\n",
       "      <td>1</td>\n",
       "      <td>2</td>\n",
       "      <td>Fried Bologna</td>\n",
       "      <td>Au Cheval</td>\n",
       "      <td>http://www.chicagomag.com/Chicago-Magazine/Nov...</td>\n",
       "    </tr>\n",
       "    <tr>\n",
       "      <th>2</th>\n",
       "      <td>2</td>\n",
       "      <td>3</td>\n",
       "      <td>Woodland Mushroom</td>\n",
       "      <td>Xoco</td>\n",
       "      <td>http://www.chicagomag.com/Chicago-Magazine/Nov...</td>\n",
       "    </tr>\n",
       "    <tr>\n",
       "      <th>3</th>\n",
       "      <td>3</td>\n",
       "      <td>4</td>\n",
       "      <td>Roast Beef</td>\n",
       "      <td>Al’s Deli</td>\n",
       "      <td>http://www.chicagomag.com/Chicago-Magazine/Nov...</td>\n",
       "    </tr>\n",
       "    <tr>\n",
       "      <th>4</th>\n",
       "      <td>4</td>\n",
       "      <td>5</td>\n",
       "      <td>PB&amp;L</td>\n",
       "      <td>Publican Quality Meats</td>\n",
       "      <td>http://www.chicagomag.com/Chicago-Magazine/Nov...</td>\n",
       "    </tr>\n",
       "  </tbody>\n",
       "</table>\n",
       "</div>"
      ],
      "text/plain": [
       "   Unnamed: 0  랭킹                 메뉴                      카페  \\\n",
       "0           0   1                BLT             Old Oak Tap   \n",
       "1           1   2      Fried Bologna               Au Cheval   \n",
       "2           2   3  Woodland Mushroom                    Xoco   \n",
       "3           3   4         Roast Beef               Al’s Deli   \n",
       "4           4   5               PB&L  Publican Quality Meats   \n",
       "\n",
       "                                                  링크  \n",
       "0  http://www.chicagomag.com/Chicago-Magazine/Nov...  \n",
       "1  http://www.chicagomag.com/Chicago-Magazine/Nov...  \n",
       "2  http://www.chicagomag.com/Chicago-Magazine/Nov...  \n",
       "3  http://www.chicagomag.com/Chicago-Magazine/Nov...  \n",
       "4  http://www.chicagomag.com/Chicago-Magazine/Nov...  "
      ]
     },
     "execution_count": 50,
     "metadata": {},
     "output_type": "execute_result"
    }
   ],
   "source": [
    "df = pd.read_csv('chicagomag_info.csv', encoding='utf-8')\n",
    "df.head()"
   ]
  },
  {
   "cell_type": "code",
   "execution_count": 51,
   "metadata": {},
   "outputs": [
    {
     "data": {
      "text/html": [
       "<div>\n",
       "<style scoped>\n",
       "    .dataframe tbody tr th:only-of-type {\n",
       "        vertical-align: middle;\n",
       "    }\n",
       "\n",
       "    .dataframe tbody tr th {\n",
       "        vertical-align: top;\n",
       "    }\n",
       "\n",
       "    .dataframe thead th {\n",
       "        text-align: right;\n",
       "    }\n",
       "</style>\n",
       "<table border=\"1\" class=\"dataframe\">\n",
       "  <thead>\n",
       "    <tr style=\"text-align: right;\">\n",
       "      <th></th>\n",
       "      <th>랭킹</th>\n",
       "      <th>메뉴</th>\n",
       "      <th>카페</th>\n",
       "      <th>링크</th>\n",
       "    </tr>\n",
       "  </thead>\n",
       "  <tbody>\n",
       "    <tr>\n",
       "      <th>0</th>\n",
       "      <td>1</td>\n",
       "      <td>BLT</td>\n",
       "      <td>Old Oak Tap</td>\n",
       "      <td>http://www.chicagomag.com/Chicago-Magazine/Nov...</td>\n",
       "    </tr>\n",
       "    <tr>\n",
       "      <th>1</th>\n",
       "      <td>2</td>\n",
       "      <td>Fried Bologna</td>\n",
       "      <td>Au Cheval</td>\n",
       "      <td>http://www.chicagomag.com/Chicago-Magazine/Nov...</td>\n",
       "    </tr>\n",
       "    <tr>\n",
       "      <th>2</th>\n",
       "      <td>3</td>\n",
       "      <td>Woodland Mushroom</td>\n",
       "      <td>Xoco</td>\n",
       "      <td>http://www.chicagomag.com/Chicago-Magazine/Nov...</td>\n",
       "    </tr>\n",
       "    <tr>\n",
       "      <th>3</th>\n",
       "      <td>4</td>\n",
       "      <td>Roast Beef</td>\n",
       "      <td>Al’s Deli</td>\n",
       "      <td>http://www.chicagomag.com/Chicago-Magazine/Nov...</td>\n",
       "    </tr>\n",
       "    <tr>\n",
       "      <th>4</th>\n",
       "      <td>5</td>\n",
       "      <td>PB&amp;L</td>\n",
       "      <td>Publican Quality Meats</td>\n",
       "      <td>http://www.chicagomag.com/Chicago-Magazine/Nov...</td>\n",
       "    </tr>\n",
       "  </tbody>\n",
       "</table>\n",
       "</div>"
      ],
      "text/plain": [
       "   랭킹                 메뉴                      카페  \\\n",
       "0   1                BLT             Old Oak Tap   \n",
       "1   2      Fried Bologna               Au Cheval   \n",
       "2   3  Woodland Mushroom                    Xoco   \n",
       "3   4         Roast Beef               Al’s Deli   \n",
       "4   5               PB&L  Publican Quality Meats   \n",
       "\n",
       "                                                  링크  \n",
       "0  http://www.chicagomag.com/Chicago-Magazine/Nov...  \n",
       "1  http://www.chicagomag.com/Chicago-Magazine/Nov...  \n",
       "2  http://www.chicagomag.com/Chicago-Magazine/Nov...  \n",
       "3  http://www.chicagomag.com/Chicago-Magazine/Nov...  \n",
       "4  http://www.chicagomag.com/Chicago-Magazine/Nov...  "
      ]
     },
     "execution_count": 51,
     "metadata": {},
     "output_type": "execute_result"
    }
   ],
   "source": [
    "# index_col='Unnamed: 0'') 삭제\n",
    "del df['Unnamed: 0']\n",
    "df.head()"
   ]
  },
  {
   "cell_type": "code",
   "execution_count": 52,
   "metadata": {},
   "outputs": [
    {
     "data": {
      "text/html": [
       "<div>\n",
       "<style scoped>\n",
       "    .dataframe tbody tr th:only-of-type {\n",
       "        vertical-align: middle;\n",
       "    }\n",
       "\n",
       "    .dataframe tbody tr th {\n",
       "        vertical-align: top;\n",
       "    }\n",
       "\n",
       "    .dataframe thead th {\n",
       "        text-align: right;\n",
       "    }\n",
       "</style>\n",
       "<table border=\"1\" class=\"dataframe\">\n",
       "  <thead>\n",
       "    <tr style=\"text-align: right;\">\n",
       "      <th></th>\n",
       "      <th>메뉴</th>\n",
       "      <th>카페</th>\n",
       "      <th>링크</th>\n",
       "    </tr>\n",
       "    <tr>\n",
       "      <th>랭킹</th>\n",
       "      <th></th>\n",
       "      <th></th>\n",
       "      <th></th>\n",
       "    </tr>\n",
       "  </thead>\n",
       "  <tbody>\n",
       "    <tr>\n",
       "      <th>1</th>\n",
       "      <td>BLT</td>\n",
       "      <td>Old Oak Tap</td>\n",
       "      <td>http://www.chicagomag.com/Chicago-Magazine/Nov...</td>\n",
       "    </tr>\n",
       "    <tr>\n",
       "      <th>2</th>\n",
       "      <td>Fried Bologna</td>\n",
       "      <td>Au Cheval</td>\n",
       "      <td>http://www.chicagomag.com/Chicago-Magazine/Nov...</td>\n",
       "    </tr>\n",
       "    <tr>\n",
       "      <th>3</th>\n",
       "      <td>Woodland Mushroom</td>\n",
       "      <td>Xoco</td>\n",
       "      <td>http://www.chicagomag.com/Chicago-Magazine/Nov...</td>\n",
       "    </tr>\n",
       "    <tr>\n",
       "      <th>4</th>\n",
       "      <td>Roast Beef</td>\n",
       "      <td>Al’s Deli</td>\n",
       "      <td>http://www.chicagomag.com/Chicago-Magazine/Nov...</td>\n",
       "    </tr>\n",
       "    <tr>\n",
       "      <th>5</th>\n",
       "      <td>PB&amp;L</td>\n",
       "      <td>Publican Quality Meats</td>\n",
       "      <td>http://www.chicagomag.com/Chicago-Magazine/Nov...</td>\n",
       "    </tr>\n",
       "  </tbody>\n",
       "</table>\n",
       "</div>"
      ],
      "text/plain": [
       "                   메뉴                      카페  \\\n",
       "랭킹                                              \n",
       "1                 BLT             Old Oak Tap   \n",
       "2       Fried Bologna               Au Cheval   \n",
       "3   Woodland Mushroom                    Xoco   \n",
       "4          Roast Beef               Al’s Deli   \n",
       "5                PB&L  Publican Quality Meats   \n",
       "\n",
       "                                                   링크  \n",
       "랭킹                                                     \n",
       "1   http://www.chicagomag.com/Chicago-Magazine/Nov...  \n",
       "2   http://www.chicagomag.com/Chicago-Magazine/Nov...  \n",
       "3   http://www.chicagomag.com/Chicago-Magazine/Nov...  \n",
       "4   http://www.chicagomag.com/Chicago-Magazine/Nov...  \n",
       "5   http://www.chicagomag.com/Chicago-Magazine/Nov...  "
      ]
     },
     "execution_count": 52,
     "metadata": {},
     "output_type": "execute_result"
    }
   ],
   "source": [
    "df.set_index('랭킹', inplace=True)\n",
    "df.head()"
   ]
  },
  {
   "cell_type": "code",
   "execution_count": 53,
   "metadata": {},
   "outputs": [
    {
     "name": "stdout",
     "output_type": "stream",
     "text": [
      "<class 'pandas.core.frame.DataFrame'>\n",
      "Int64Index: 50 entries, 1 to 50\n",
      "Data columns (total 3 columns):\n",
      "메뉴    50 non-null object\n",
      "카페    50 non-null object\n",
      "링크    50 non-null object\n",
      "dtypes: object(3)\n",
      "memory usage: 1.6+ KB\n"
     ]
    }
   ],
   "source": [
    "df.info()"
   ]
  },
  {
   "cell_type": "code",
   "execution_count": 54,
   "metadata": {},
   "outputs": [
    {
     "data": {
      "text/plain": [
       "'BLT'"
      ]
     },
     "execution_count": 54,
     "metadata": {},
     "output_type": "execute_result"
    }
   ],
   "source": [
    "df['메뉴'][1]"
   ]
  },
  {
   "cell_type": "code",
   "execution_count": 55,
   "metadata": {},
   "outputs": [
    {
     "data": {
      "text/plain": [
       "'http://www.chicagomag.com/Chicago-Magazine/November-2012/Best-Sandwiches-in-Chicago-Old-Oak-Tap-BLT/'"
      ]
     },
     "execution_count": 55,
     "metadata": {},
     "output_type": "execute_result"
    }
   ],
   "source": [
    "df['링크'][1]"
   ]
  },
  {
   "cell_type": "markdown",
   "metadata": {},
   "source": [
    "## STEP6 : 서브페이지의 수집할 데이터 Tag & Class 확인\n",
    "### 서브페이지 크롤링대상 타겟데이터\n",
    "- 메뉴가격\n",
    "- 카페주소\n",
    "- 전화번호\n",
    "- 홈페이지"
   ]
  },
  {
   "cell_type": "code",
   "execution_count": 56,
   "metadata": {},
   "outputs": [],
   "source": [
    "site = df['링크'][1]\n",
    "html = urlopen(site)\n",
    "soup = BeautifulSoup(html, \"lxml\")"
   ]
  },
  {
   "cell_type": "code",
   "execution_count": 57,
   "metadata": {},
   "outputs": [
    {
     "data": {
      "text/plain": [
       "<title>\n",
       "  1. Old Oak Tap BLT |\n",
       "  Chicago magazine\n",
       "      |  November 2012\n",
       "    </title>"
      ]
     },
     "execution_count": 57,
     "metadata": {},
     "output_type": "execute_result"
    }
   ],
   "source": [
    "# 서브페이지 로딩 확인\n",
    "soup.title"
   ]
  },
  {
   "cell_type": "code",
   "execution_count": 58,
   "metadata": {},
   "outputs": [
    {
     "data": {
      "text/plain": [
       "<p class=\"addy\">\n",
       "<em>$10. 2109 W. Chicago Ave., 773-772-0406, <a href=\"http://www.theoldoaktap.com/\">theoldoaktap.com</a></em></p>"
      ]
     },
     "execution_count": 58,
     "metadata": {},
     "output_type": "execute_result"
    }
   ],
   "source": [
    "p_tag = soup.find('p', 'addy')\n",
    "p_tag"
   ]
  },
  {
   "cell_type": "code",
   "execution_count": 59,
   "metadata": {},
   "outputs": [
    {
     "name": "stdout",
     "output_type": "stream",
     "text": [
      "<p class=\"addy\">\n",
      " <em>\n",
      "  $10. 2109 W. Chicago Ave., 773-772-0406,\n",
      "  <a href=\"http://www.theoldoaktap.com/\">\n",
      "   theoldoaktap.com\n",
      "  </a>\n",
      " </em>\n",
      "</p>\n",
      "\n"
     ]
    }
   ],
   "source": [
    "print(p_tag.prettify())"
   ]
  },
  {
   "cell_type": "code",
   "execution_count": 60,
   "metadata": {},
   "outputs": [
    {
     "data": {
      "text/plain": [
       "'\\n$10. 2109 W. Chicago Ave., 773-772-0406, theoldoaktap.com'"
      ]
     },
     "execution_count": 60,
     "metadata": {},
     "output_type": "execute_result"
    }
   ],
   "source": [
    "taginfo = p_tag.get_text()\n",
    "taginfo"
   ]
  },
  {
   "cell_type": "code",
   "execution_count": 61,
   "metadata": {},
   "outputs": [
    {
     "data": {
      "text/plain": [
       "'$10. 2109 W. Chicago Ave., 773-772-0406, theoldoaktap.com'"
      ]
     },
     "execution_count": 61,
     "metadata": {},
     "output_type": "execute_result"
    }
   ],
   "source": [
    "# taginfo = taginfo[taginfo.find('$'):]\n",
    "taginfo = taginfo.strip()\n",
    "taginfo"
   ]
  },
  {
   "cell_type": "markdown",
   "metadata": {},
   "source": [
    "## STEP7 : RegEx를 활용하여 분류\n",
    "### 태그정보로는 분류 안됨\n",
    "- 메뉴가격 : $로 시작\n",
    "- 카페주소 : 패턴 안보이므로 일단보류. 가격과 전화번호 사이\n",
    "- 전화번호 : 이거슨 RegEx, 숫자3-숫자3-숫자4\n",
    "- 홈페이지 : 요것도 RegEx, .com 혹은 .net 으로 끝남\n",
    "참조. Regular Expression 관련 사이트"
   ]
  },
  {
   "cell_type": "code",
   "execution_count": 62,
   "metadata": {},
   "outputs": [
    {
     "data": {
      "text/plain": [
       "'$10.'"
      ]
     },
     "execution_count": 62,
     "metadata": {},
     "output_type": "execute_result"
    }
   ],
   "source": [
    "# 메뉴가격\n",
    "menu_price = re.search('\\$\\d+\\.(\\d+)?', taginfo).group()\n",
    "menu_price"
   ]
  },
  {
   "cell_type": "code",
   "execution_count": 63,
   "metadata": {},
   "outputs": [],
   "source": [
    "# 카페주소\n",
    "cafe_addr = '일단보류'"
   ]
  },
  {
   "cell_type": "code",
   "execution_count": 64,
   "metadata": {},
   "outputs": [
    {
     "data": {
      "text/plain": [
       "'773-772-0406'"
      ]
     },
     "execution_count": 64,
     "metadata": {},
     "output_type": "execute_result"
    }
   ],
   "source": [
    "# 전화번호\n",
    "cafe_tel = re.search('\\d{3}[-]\\d{3}[-]\\d{4}', taginfo)\n",
    "if cafe_tel is not None:\n",
    "    cafe_tel = cafe_tel.group()\n",
    "else:\n",
    "    cafe_tel = 'No Contact'\n",
    "    \n",
    "cafe_tel"
   ]
  },
  {
   "cell_type": "code",
   "execution_count": 65,
   "metadata": {},
   "outputs": [
    {
     "data": {
      "text/plain": [
       "'$10. 2109 W. Chicago Ave., 773-772-0406, theoldoaktap.com'"
      ]
     },
     "execution_count": 65,
     "metadata": {},
     "output_type": "execute_result"
    }
   ],
   "source": [
    "taginfo"
   ]
  },
  {
   "cell_type": "code",
   "execution_count": 66,
   "metadata": {},
   "outputs": [
    {
     "data": {
      "text/plain": [
       "['$10. 2109 W. Chicago Ave.', '773-772-0406', 'theoldoaktap.com']"
      ]
     },
     "execution_count": 66,
     "metadata": {},
     "output_type": "execute_result"
    }
   ],
   "source": [
    "info_list = taginfo.split(', ')\n",
    "info_list"
   ]
  },
  {
   "cell_type": "code",
   "execution_count": 67,
   "metadata": {},
   "outputs": [
    {
     "data": {
      "text/plain": [
       "'theoldoaktap.com'"
      ]
     },
     "execution_count": 67,
     "metadata": {},
     "output_type": "execute_result"
    }
   ],
   "source": [
    "# 홈페이지\n",
    "if info_list[-1].endswith('.com') or info_list[-1].endswith('.net'):\n",
    "    home_page = info_list[-1]\n",
    "else:\n",
    "    home_page = 'No Homepage'\n",
    "\n",
    "home_page"
   ]
  },
  {
   "cell_type": "code",
   "execution_count": 68,
   "metadata": {},
   "outputs": [
    {
     "data": {
      "text/plain": [
       "'$10. 2109 W. Chicago Ave.'"
      ]
     },
     "execution_count": 68,
     "metadata": {},
     "output_type": "execute_result"
    }
   ],
   "source": [
    "info_list[0]"
   ]
  },
  {
   "cell_type": "code",
   "execution_count": 69,
   "metadata": {},
   "outputs": [
    {
     "data": {
      "text/plain": [
       "'$10.'"
      ]
     },
     "execution_count": 69,
     "metadata": {},
     "output_type": "execute_result"
    }
   ],
   "source": [
    "menu_price"
   ]
  },
  {
   "cell_type": "code",
   "execution_count": 70,
   "metadata": {},
   "outputs": [
    {
     "data": {
      "text/plain": [
       "'2109 W. Chicago Ave.'"
      ]
     },
     "execution_count": 70,
     "metadata": {},
     "output_type": "execute_result"
    }
   ],
   "source": [
    "# 카페주소\n",
    "idx = len(menu_price)\n",
    "cafe_addr = info_list[0][idx:].strip()\n",
    "cafe_addr"
   ]
  },
  {
   "cell_type": "markdown",
   "metadata": {},
   "source": [
    "## STEP8 : 서브페이지 정보 크롤링 모듈\n",
    "- 파일의 링크정보에 순차적으로 접속하여 데이터 크롤링\n",
    "- 메뉴가격, 카페주소, 전화번호, 홈페이지\n",
    "- 우선 TOP5 페이지정도만 수집후 데이터 검토"
   ]
  },
  {
   "cell_type": "code",
   "execution_count": 71,
   "metadata": {},
   "outputs": [
    {
     "name": "stdout",
     "output_type": "stream",
     "text": [
      "Top1 : http://www.chicagomag.com/Chicago-Magazine/November-2012/Best-Sandwiches-in-Chicago-Old-Oak-Tap-BLT/\n",
      "Top2 : http://www.chicagomag.com/Chicago-Magazine/November-2012/Best-Sandwiches-in-Chicago-Au-Cheval-Fried-Bologna/\n",
      "Top3 : http://www.chicagomag.com/Chicago-Magazine/November-2012/Best-Sandwiches-in-Chicago-Xoco-Woodland-Mushroom/\n",
      "Top4 : http://www.chicagomag.com/Chicago-Magazine/November-2012/Best-Sandwiches-in-Chicago-Als-Deli-Roast-Beef/\n",
      "Top5 : http://www.chicagomag.com/Chicago-Magazine/November-2012/Best-Sandwiches-in-Chicago-Publican-Quality-Meats-PB-L/\n"
     ]
    }
   ],
   "source": [
    "for ranking in df.index[:5]:\n",
    "    sub_link = df['링크'][ranking]\n",
    "    print('Top{} : {}'.format(ranking, sub_link))"
   ]
  },
  {
   "cell_type": "code",
   "execution_count": 72,
   "metadata": {},
   "outputs": [
    {
     "name": "stdout",
     "output_type": "stream",
     "text": [
      "Top1 Page : Crawling is completed.\n",
      "Top2 Page : Crawling is completed.\n",
      "Top3 Page : Crawling is completed.\n",
      "Top4 Page : Crawling is completed.\n",
      "Top5 Page : Crawling is completed.\n",
      "--------------------------------------------------\n",
      "크롤링 완료!!!\n"
     ]
    }
   ],
   "source": [
    "price_list = list()\n",
    "cfadd_list = list()\n",
    "cftel_list = list()\n",
    "homep_list = list()\n",
    "\n",
    "for ranking in df.index[:5]:\n",
    "    sub_link = df['링크'][ranking]\n",
    "    # print('{} : {}'.format(idx, sub_link))\n",
    "    html = urlopen(sub_link)\n",
    "    soup = BeautifulSoup(html, \"lxml\")\n",
    "    \n",
    "    p_tag = soup.find('p', 'addy')\n",
    "    taginfo = p_tag.get_text()\n",
    "    taginfo = taginfo.strip()\n",
    "\n",
    "    # 메뉴가격\n",
    "    menu_price = re.search('\\$\\d+\\.(\\d+)?', taginfo).group()\n",
    "\n",
    "    # 카페주소\n",
    "    cafe_addr = '일단보류' \n",
    "\n",
    "    # 전화번호\n",
    "    cafe_tel = re.search('\\d{3}[-]\\d{3}[-]\\d{4}', taginfo)\n",
    "    if cafe_tel is not None:\n",
    "        cafe_tel = cafe_tel.group()\n",
    "    else:\n",
    "        cafe_tel = 'No Contact'\n",
    "\n",
    "    info_list = taginfo.split(', ')\n",
    "\n",
    "    # 홈페이지\n",
    "    if info_list[-1].endswith('.com') or info_list[-1].endswith('.net'):\n",
    "        home_page = info_list[-1]\n",
    "    else:\n",
    "        home_page = 'No Homepage'\n",
    "\n",
    "    # 카페주소\n",
    "    idx = len(menu_price)\n",
    "    cafe_addr = info_list[0][idx:].strip()\n",
    "\n",
    "    price_list.append(menu_price)\n",
    "    cfadd_list.append(cafe_addr )\n",
    "    cftel_list.append(cafe_tel  )\n",
    "    homep_list.append(home_page )\n",
    "    \n",
    "    print('Top{} Page : Crawling is completed.'.format(ranking))\n",
    "else:\n",
    "    print('-'*50)\n",
    "    print('크롤링 완료!!!')"
   ]
  },
  {
   "cell_type": "code",
   "execution_count": 73,
   "metadata": {},
   "outputs": [
    {
     "data": {
      "text/plain": [
       "['$10.', '$9.', '$9.50', '$9.40', '$10.']"
      ]
     },
     "execution_count": 73,
     "metadata": {},
     "output_type": "execute_result"
    }
   ],
   "source": [
    "price_list"
   ]
  },
  {
   "cell_type": "code",
   "execution_count": 74,
   "metadata": {},
   "outputs": [
    {
     "data": {
      "text/plain": [
       "['2109 W. Chicago Ave.',\n",
       " '800 W. Randolph St.',\n",
       " '. 445 N. Clark St.',\n",
       " '. 914 Noyes St.',\n",
       " '825 W. Fulton Mkt.']"
      ]
     },
     "execution_count": 74,
     "metadata": {},
     "output_type": "execute_result"
    }
   ],
   "source": [
    "cfadd_list"
   ]
  },
  {
   "cell_type": "code",
   "execution_count": 75,
   "metadata": {},
   "outputs": [
    {
     "data": {
      "text/plain": [
       "['773-772-0406',\n",
       " '312-929-4580',\n",
       " '312-334-3688',\n",
       " '847-475-9400',\n",
       " '312-445-8977']"
      ]
     },
     "execution_count": 75,
     "metadata": {},
     "output_type": "execute_result"
    }
   ],
   "source": [
    "cftel_list"
   ]
  },
  {
   "cell_type": "code",
   "execution_count": 76,
   "metadata": {},
   "outputs": [
    {
     "data": {
      "text/plain": [
       "['theoldoaktap.com',\n",
       " 'aucheval.tumblr.com',\n",
       " 'rickbayless.com',\n",
       " 'alsdeli.net',\n",
       " 'publicanqualitymeats.com']"
      ]
     },
     "execution_count": 76,
     "metadata": {},
     "output_type": "execute_result"
    }
   ],
   "source": [
    "homep_list"
   ]
  },
  {
   "cell_type": "code",
   "execution_count": 77,
   "metadata": {},
   "outputs": [
    {
     "data": {
      "text/plain": [
       "['$10.', '$9.', '$9.50', '$9.40', '$10.']"
      ]
     },
     "execution_count": 77,
     "metadata": {},
     "output_type": "execute_result"
    }
   ],
   "source": [
    "price_list"
   ]
  },
  {
   "cell_type": "markdown",
   "metadata": {},
   "source": [
    "## 메뉴가격과 카페주소 정보를 수정보완"
   ]
  },
  {
   "cell_type": "code",
   "execution_count": 78,
   "metadata": {},
   "outputs": [
    {
     "data": {
      "text/plain": [
       "'$10'"
      ]
     },
     "execution_count": 78,
     "metadata": {},
     "output_type": "execute_result"
    }
   ],
   "source": [
    "menu_price = price_list[0]\n",
    "if menu_price.endswith('.'):\n",
    "    menu_price = menu_price[:-1]\n",
    "menu_price"
   ]
  },
  {
   "cell_type": "code",
   "execution_count": 79,
   "metadata": {},
   "outputs": [
    {
     "data": {
      "text/plain": [
       "'445 N. Clark St.'"
      ]
     },
     "execution_count": 79,
     "metadata": {},
     "output_type": "execute_result"
    }
   ],
   "source": [
    "cafe_addr = cfadd_list[2]\n",
    "if cafe_addr.startswith('.'):\n",
    "    cafe_addr = cafe_addr[1:].strip()\n",
    "cafe_addr"
   ]
  },
  {
   "cell_type": "code",
   "execution_count": 80,
   "metadata": {},
   "outputs": [],
   "source": [
    "# 만약 문제가 없다면, 전체 정보를 한번에 다 가져오기\n",
    "\n",
    "from tqdm import tqdm_notebook\n",
    "\n",
    "def getSubpagesData(df):\n",
    "\n",
    "    ret_dict  = dict()\n",
    "    columns   = [ '메뉴가격', '카페주소', '전화번호', '홈페이지' ]\n",
    "    price_list = list()\n",
    "    cfadd_list = list()\n",
    "    cftel_list = list()\n",
    "    homep_list = list()\n",
    "\n",
    "    for ranking in tqdm_notebook(df.index):\n",
    "        \n",
    "        sub_link = df['링크'][ranking]\n",
    "        html = urlopen(sub_link)\n",
    "        soup = BeautifulSoup(html, \"lxml\")\n",
    "\n",
    "        p_tag = soup.find('p', 'addy')\n",
    "        taginfo = p_tag.get_text()\n",
    "        taginfo = taginfo.strip()\n",
    "\n",
    "        # 메뉴가격\n",
    "        menu_price = re.search('\\$\\d+\\.(\\d+)?', taginfo).group()\n",
    "\n",
    "        # 카페주소\n",
    "        # cafe_addr = '일단보류' \n",
    "\n",
    "        # 전화번호\n",
    "        cafe_tel = re.search('\\d{3}[-]\\d{3}[-]\\d{4}', taginfo)\n",
    "        if cafe_tel is not None:\n",
    "            cafe_tel = cafe_tel.group()\n",
    "        else:\n",
    "            cafe_tel = 'No Contact'\n",
    "\n",
    "        info_list = taginfo.split(', ')\n",
    "\n",
    "        # 홈페이지\n",
    "        if info_list[-1].endswith('.com') or info_list[-1].endswith('.net'):\n",
    "            home_page = info_list[-1]\n",
    "        else:\n",
    "            home_page = 'No Homepage'\n",
    "\n",
    "        # 카페주소\n",
    "        idx = len(menu_price)\n",
    "        cafe_addr = info_list[0][idx:].strip()\n",
    "        \n",
    "        # 리펙토링\n",
    "        menu_price = menu_price[:-1] if menu_price.endswith('.') else menu_price\n",
    "        cafe_addr  = cafe_addr[1:].strip() if cafe_addr.startswith('.') else cafe_addr\n",
    "        \n",
    "        # if menu_price.endswith('.'):\n",
    "        #     menu_price = menu_price[:-1]\n",
    "        # if cafe_addr.startswith('.'):\n",
    "        #     cafe_addr = cafe_addr[1:].strip()\n",
    "        \n",
    "\n",
    "        price_list.append(menu_price)\n",
    "        cfadd_list.append(cafe_addr )\n",
    "        cftel_list.append(cafe_tel  )\n",
    "        homep_list.append(home_page )\n",
    "\n",
    "        # print('Ranking{} subpage crawling is completed.'.format(ranking))\n",
    "        separator = ' |\\n' if ranking%5==0 else ' | '\n",
    "        print('Top{0:2d} 완료'.format(ranking), end=separator)\n",
    "    else:\n",
    "        print(); print('-'*100);\n",
    "        print('모든 서브페이지 크롤링 완료!!!')\n",
    "\n",
    "    ret_dict[columns[0]] = price_list\n",
    "    ret_dict[columns[1]] = cfadd_list\n",
    "    ret_dict[columns[2]] = cftel_list\n",
    "    ret_dict[columns[3]] = homep_list\n",
    "    \n",
    "    return ret_dict"
   ]
  },
  {
   "cell_type": "code",
   "execution_count": null,
   "metadata": {},
   "outputs": [
    {
     "data": {
      "application/vnd.jupyter.widget-view+json": {
       "model_id": "d8dc38c7489c458884da266252b24efc",
       "version_major": 2,
       "version_minor": 0
      },
      "text/plain": [
       "HBox(children=(IntProgress(value=0, max=50), HTML(value='')))"
      ]
     },
     "metadata": {},
     "output_type": "display_data"
    },
    {
     "name": "stdout",
     "output_type": "stream",
     "text": [
      "Top 1 완료 | Top 2 완료 | Top 3 완료 | Top 4 완료 | Top 5 완료 |\n",
      "Top 6 완료 | Top 7 완료 | Top 8 완료 | Top 9 완료 | Top10 완료 |\n",
      "Top11 완료 | Top12 완료 | Top13 완료 | Top14 완료 | Top15 완료 |\n",
      "Top16 완료 | Top17 완료 | Top18 완료 | Top19 완료 | Top20 완료 |\n",
      "Top21 완료 | Top22 완료 | Top23 완료 | Top24 완료 | Top25 완료 |\n",
      "Top26 완료 | Top27 완료 | Top28 완료 | Top29 완료 | Top30 완료 |\n",
      "Top31 완료 | Top32 완료 | Top33 완료 | Top34 완료 | Top35 완료 |\n",
      "Top36 완료 | Top37 완료 | "
     ]
    }
   ],
   "source": [
    "ret_dict = getSubpagesData(df)"
   ]
  },
  {
   "cell_type": "code",
   "execution_count": null,
   "metadata": {},
   "outputs": [],
   "source": [
    "ret_dict.keys()"
   ]
  },
  {
   "cell_type": "code",
   "execution_count": null,
   "metadata": {},
   "outputs": [],
   "source": [
    "ret_dict['메뉴가격']"
   ]
  },
  {
   "cell_type": "code",
   "execution_count": null,
   "metadata": {},
   "outputs": [],
   "source": [
    "ret_dict['카페주소']"
   ]
  },
  {
   "cell_type": "code",
   "execution_count": null,
   "metadata": {},
   "outputs": [],
   "source": [
    "ret_dict['전화번호']"
   ]
  },
  {
   "cell_type": "code",
   "execution_count": null,
   "metadata": {},
   "outputs": [],
   "source": [
    "ret_dict['홈페이지']"
   ]
  },
  {
   "cell_type": "markdown",
   "metadata": {},
   "source": [
    "## STEP9 : 최종 크롤링 데이터 저장\n",
    "### 기존 데이터에 칼럼 추가\n",
    "- 메인페이지 정보 크롤링 - 랭킹, 메뉴, 카페, 링크(상세페이지)\n",
    "- 서브페이지 정보 크롤링 - 메뉴가격, 카페주소, 전화번호, 홈페이지\n",
    "- 컬럼순서 조정후 저장"
   ]
  },
  {
   "cell_type": "code",
   "execution_count": null,
   "metadata": {},
   "outputs": [],
   "source": [
    "df.head()"
   ]
  },
  {
   "cell_type": "code",
   "execution_count": null,
   "metadata": {},
   "outputs": [],
   "source": [
    "# 기존 데이터에 칼럼 추가하기\n",
    "columns = [ '메뉴가격', '카페주소', '전화번호', '홈페이지' ]\n",
    "# df['메뉴가격'] = ret_dict['메뉴가격']\n",
    "# df['카페주소'] = ret_dict['카페주소']\n",
    "# df['전화번호'] = ret_dict['전화번호']\n",
    "# df['홈페이지'] = ret_dict['홈페이지']\n",
    "\n",
    "for column in columns:\n",
    "    df[column] = ret_dict[column]"
   ]
  },
  {
   "cell_type": "code",
   "execution_count": null,
   "metadata": {},
   "outputs": [],
   "source": [
    "df.head()"
   ]
  },
  {
   "cell_type": "code",
   "execution_count": null,
   "metadata": {},
   "outputs": [],
   "source": [
    "# loc 혹은 iloc 를 사용하면 컬럼과 레코드전체가 옮겨진다. \n",
    "new_columns = [ '카페', '메뉴', '메뉴가격', '전화번호', '카페주소', '홈페이지', '링크' ]"
   ]
  },
  {
   "cell_type": "code",
   "execution_count": null,
   "metadata": {},
   "outputs": [],
   "source": [
    "df = df.loc[:, new_columns]\n",
    "df.head()"
   ]
  },
  {
   "cell_type": "code",
   "execution_count": null,
   "metadata": {},
   "outputs": [],
   "source": [
    "df.info()"
   ]
  },
  {
   "cell_type": "code",
   "execution_count": null,
   "metadata": {},
   "outputs": [],
   "source": [
    "# 추가로 변경작업한 데이터 파일로 저장하기 \n",
    "df.to_csv('data/chicagomag_info_ver2.csv', encoding='UTF-8')"
   ]
  },
  {
   "cell_type": "code",
   "execution_count": null,
   "metadata": {},
   "outputs": [],
   "source": [
    "# 변경저장된 데이터 파일 확인하기 \n",
    "final_df = pd.read_csv('data/chicagomag_info_ver2.csv', index_col='랭킹', encoding='UTF-8')\n",
    "final_df.head()"
   ]
  }
 ],
 "metadata": {
  "kernelspec": {
   "display_name": "Python 3",
   "language": "python",
   "name": "python3"
  },
  "language_info": {
   "codemirror_mode": {
    "name": "ipython",
    "version": 3
   },
   "file_extension": ".py",
   "mimetype": "text/x-python",
   "name": "python",
   "nbconvert_exporter": "python",
   "pygments_lexer": "ipython3",
   "version": "3.7.3"
  }
 },
 "nbformat": 4,
 "nbformat_minor": 2
}
